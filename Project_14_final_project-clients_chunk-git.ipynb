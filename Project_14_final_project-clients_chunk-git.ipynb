{
 "cells": [
  {
   "cell_type": "markdown",
   "id": "18641a01",
   "metadata": {},
   "source": [
    "## Project.15 Телеком: исследование оттока клиентов\n",
    "\n",
    "    (yandex_practicum by student@pavel_matushevskiy, Volgograd 2022)"
   ]
  },
  {
   "cell_type": "markdown",
   "id": "4d2e25f1",
   "metadata": {},
   "source": [
    "### Описание проекта\n",
    "\n",
    "Оператор связи «Ниединогоразрыва.ком» хочет научиться прогнозировать отток клиентов. Если выяснится, что пользователь планирует уйти, ему будут предложены промокоды и специальные условия. Команда оператора собрала персональные данные о некоторых клиентах, информацию об их тарифах и договорах.\n",
    "\n",
    "\n",
    "### Описание услуг\n",
    "\n",
    "Оператор предоставляет два основных типа услуг: \n",
    "\n",
    "1. Стационарную телефонную связь. Возможно подключение телефонного аппарата к нескольким линиям одновременно.\n",
    "2. Интернет. Подключение может быть двух типов: через телефонную линию (DSL*,* от англ. *digital subscriber line*, «цифровая абонентская линия») или оптоволоконный кабель (*Fiber optic*).  \n",
    "\n",
    "Также доступны такие услуги:\n",
    "\n",
    "- Интернет-безопасность: антивирус (*DeviceProtection*) и блокировка небезопасных сайтов (*OnlineSecurity*);\n",
    "- Выделенная линия технической поддержки (*TechSupport*);\n",
    "- Облачное хранилище файлов для резервного копирования данных (*OnlineBackup*);\n",
    "- Стриминговое телевидение (*StreamingTV*) и каталог фильмов (*StreamingMovies*).\n",
    "\n",
    "За услуги клиенты могут платить каждый месяц или заключить договор на 1–2 года. Доступны различные способы расчёта и возможность получения электронного чека.\n",
    "\n",
    "### Описание данных\n",
    "\n",
    "Данные состоят из файлов, полученных из разных источников:\n",
    "\n",
    "- `contract.csv` — информация о договоре;\n",
    "- `personal.csv` — персональные данные клиента;\n",
    "- `internet.csv` — информация об интернет-услугах;\n",
    "- `phone.csv` — информация об услугах телефонии.\n",
    "\n",
    "Во всех файлах столбец `customerID` содержит код клиента.\n",
    "\n",
    "Информация о договорах актуальна на 1 февраля 2020."
   ]
  },
  {
   "cell_type": "markdown",
   "id": "307481da",
   "metadata": {},
   "source": [
    "### Шаг.  Импорт библиотек и настроек"
   ]
  },
  {
   "cell_type": "code",
   "execution_count": 3,
   "id": "0aa269e7",
   "metadata": {
    "ExecuteTime": {
     "end_time": "2023-01-05T18:18:01.459079Z",
     "start_time": "2023-01-05T18:18:01.444274Z"
    }
   },
   "outputs": [
    {
     "name": "stdout",
     "output_type": "stream",
     "text": [
      "Numpy        : 1.21.5\n"
     ]
    }
   ],
   "source": [
    "# блок импорта\n",
    "import math\n",
    "import matplotlib.pyplot as plt\n",
    "import numpy as np\n",
    "import pandas as pd\n",
    "import seaborn as sns\n",
    "\n",
    "# Подготовка моделей\n",
    "from sklearn.model_selection import train_test_split\n",
    "from sklearn.preprocessing import StandardScaler\n",
    "from sklearn.preprocessing import normalize, Normalizer\n",
    "from sklearn.utils import resample\n",
    "from sklearn.utils import shuffle\n",
    "from sklearn.utils.class_weight import compute_class_weight\n",
    "\n",
    "# Модели\n",
    "from sklearn.ensemble import RandomForestClassifier\n",
    "from sklearn.linear_model import LogisticRegression\n",
    "from sklearn.model_selection import GridSearchCV\n",
    "from sklearn.tree import DecisionTreeClassifier\n",
    "\n",
    "# Метрики\n",
    "from sklearn.metrics import confusion_matrix, accuracy_score, balanced_accuracy_score\n",
    "from sklearn.metrics import classification_report\n",
    "from sklearn.metrics import f1_score\n",
    "from sklearn.metrics import roc_auc_score\n",
    "from sklearn.metrics import roc_curve\n",
    "\n",
    "# CatBoost\n",
    "from catboost import CatBoostClassifier, Pool, cv\n",
    "\n",
    "import phik\n",
    "from phik.report import plot_correlation_matrix\n",
    "from phik import report\n",
    "\n",
    "from statsmodels.stats.outliers_influence import variance_inflation_factor\n",
    "from statsmodels.tools.tools import add_constant\n",
    "\n",
    "RANDOM_STATE = 190922\n",
    "\n",
    "print('Python       :', sys.version.split('\\n')[0])\n",
    "print('Numpy        :', np.__version__)\n",
    "print('Tensorflow   :', tf.__version__)"
   ]
  },
  {
   "cell_type": "markdown",
   "id": "d7512d70",
   "metadata": {},
   "source": [
    "### План работы\n",
    "\n",
    "1. Провести начальный обзор и общую подготовку данных. \n",
    "2. Сделать обьединение данных в 1 датасет; проверить типы и содержимое данных.  \n",
    "3. Предобработка данных. Обработка пропусков, аномалий, выбросов.\n",
    "2. Анализ данных (посмотреть зависимости признаков между собой и таргетом, вузализация данных, предварительные выводы)\n",
    "3. Подготовка данных для обучения модели (выделение таргета, балансировка классов, отбор значимых признаков, скалирование, кодирование признаков)\n",
    "4. Работа с моделями и подбор параметров (в т.ч. оптимизация для лучшего решения, fine tune моделей)\n",
    "5. Выбор лучшей итоговой модели с применением cross-validation и формирование выводов."
   ]
  },
  {
   "cell_type": "markdown",
   "id": "04c09345",
   "metadata": {},
   "source": [
    "###  Шаг 1. Начальный обзор и общая подготовка данных."
   ]
  },
  {
   "cell_type": "code",
   "execution_count": 4,
   "id": "f82e6627",
   "metadata": {
    "ExecuteTime": {
     "end_time": "2023-01-05T18:18:14.648699Z",
     "start_time": "2023-01-05T18:18:14.593041Z"
    }
   },
   "outputs": [],
   "source": [
    "# Подгрузим наши файлы с данными:\n",
    "try:\n",
    "    contract_data = pd.read_csv('/datasets/contract.csv')\n",
    "    internet_data = pd.read_csv('/datasets/internet.csv')\n",
    "    personal_data = pd.read_csv('/datasets/personal.csv')\n",
    "    phone_data = pd.read_csv('/datasets/phone.csv')\n",
    "except:\n",
    "    contract_data = pd.read_csv('datasets/contract.csv')\n",
    "    internet_data = pd.read_csv('datasets/internet.csv')\n",
    "    personal_data = pd.read_csv('datasets/personal.csv')\n",
    "    phone_data = pd.read_csv('datasets/phone.csv')"
   ]
  },
  {
   "cell_type": "code",
   "execution_count": 5,
   "id": "a4d43341",
   "metadata": {
    "ExecuteTime": {
     "end_time": "2023-01-05T18:18:17.208489Z",
     "start_time": "2023-01-05T18:18:17.142236Z"
    }
   },
   "outputs": [
    {
     "name": "stdout",
     "output_type": "stream",
     "text": [
      "<class 'pandas.core.frame.DataFrame'>\n",
      "RangeIndex: 7043 entries, 0 to 7042\n",
      "Data columns (total 8 columns):\n",
      " #   Column            Non-Null Count  Dtype  \n",
      "---  ------            --------------  -----  \n",
      " 0   customerID        7043 non-null   object \n",
      " 1   BeginDate         7043 non-null   object \n",
      " 2   EndDate           7043 non-null   object \n",
      " 3   Type              7043 non-null   object \n",
      " 4   PaperlessBilling  7043 non-null   object \n",
      " 5   PaymentMethod     7043 non-null   object \n",
      " 6   MonthlyCharges    7043 non-null   float64\n",
      " 7   TotalCharges      7043 non-null   object \n",
      "dtypes: float64(1), object(7)\n",
      "memory usage: 440.3+ KB\n",
      "None\n",
      "   customerID   BeginDate              EndDate            Type  \\\n",
      "0  7590-VHVEG  2020-01-01                   No  Month-to-month   \n",
      "1  5575-GNVDE  2017-04-01                   No        One year   \n",
      "2  3668-QPYBK  2019-10-01  2019-12-01 00:00:00  Month-to-month   \n",
      "3  7795-CFOCW  2016-05-01                   No        One year   \n",
      "4  9237-HQITU  2019-09-01  2019-11-01 00:00:00  Month-to-month   \n",
      "\n",
      "  PaperlessBilling              PaymentMethod  MonthlyCharges TotalCharges  \n",
      "0              Yes           Electronic check           29.85        29.85  \n",
      "1               No               Mailed check           56.95       1889.5  \n",
      "2              Yes               Mailed check           53.85       108.15  \n",
      "3               No  Bank transfer (automatic)           42.30      1840.75  \n",
      "4              Yes           Electronic check           70.70       151.65  \n",
      "<class 'pandas.core.frame.DataFrame'>\n",
      "RangeIndex: 5517 entries, 0 to 5516\n",
      "Data columns (total 8 columns):\n",
      " #   Column            Non-Null Count  Dtype \n",
      "---  ------            --------------  ----- \n",
      " 0   customerID        5517 non-null   object\n",
      " 1   InternetService   5517 non-null   object\n",
      " 2   OnlineSecurity    5517 non-null   object\n",
      " 3   OnlineBackup      5517 non-null   object\n",
      " 4   DeviceProtection  5517 non-null   object\n",
      " 5   TechSupport       5517 non-null   object\n",
      " 6   StreamingTV       5517 non-null   object\n",
      " 7   StreamingMovies   5517 non-null   object\n",
      "dtypes: object(8)\n",
      "memory usage: 344.9+ KB\n",
      "None\n",
      "   customerID InternetService OnlineSecurity OnlineBackup DeviceProtection  \\\n",
      "0  7590-VHVEG             DSL             No          Yes               No   \n",
      "1  5575-GNVDE             DSL            Yes           No              Yes   \n",
      "2  3668-QPYBK             DSL            Yes          Yes               No   \n",
      "3  7795-CFOCW             DSL            Yes           No              Yes   \n",
      "4  9237-HQITU     Fiber optic             No           No               No   \n",
      "\n",
      "  TechSupport StreamingTV StreamingMovies  \n",
      "0          No          No              No  \n",
      "1          No          No              No  \n",
      "2          No          No              No  \n",
      "3         Yes          No              No  \n",
      "4          No          No              No  \n",
      "<class 'pandas.core.frame.DataFrame'>\n",
      "RangeIndex: 7043 entries, 0 to 7042\n",
      "Data columns (total 5 columns):\n",
      " #   Column         Non-Null Count  Dtype \n",
      "---  ------         --------------  ----- \n",
      " 0   customerID     7043 non-null   object\n",
      " 1   gender         7043 non-null   object\n",
      " 2   SeniorCitizen  7043 non-null   int64 \n",
      " 3   Partner        7043 non-null   object\n",
      " 4   Dependents     7043 non-null   object\n",
      "dtypes: int64(1), object(4)\n",
      "memory usage: 275.2+ KB\n",
      "None\n",
      "   customerID  gender  SeniorCitizen Partner Dependents\n",
      "0  7590-VHVEG  Female              0     Yes         No\n",
      "1  5575-GNVDE    Male              0      No         No\n",
      "2  3668-QPYBK    Male              0      No         No\n",
      "3  7795-CFOCW    Male              0      No         No\n",
      "4  9237-HQITU  Female              0      No         No\n",
      "<class 'pandas.core.frame.DataFrame'>\n",
      "RangeIndex: 6361 entries, 0 to 6360\n",
      "Data columns (total 2 columns):\n",
      " #   Column         Non-Null Count  Dtype \n",
      "---  ------         --------------  ----- \n",
      " 0   customerID     6361 non-null   object\n",
      " 1   MultipleLines  6361 non-null   object\n",
      "dtypes: object(2)\n",
      "memory usage: 99.5+ KB\n",
      "None\n",
      "   customerID MultipleLines\n",
      "0  5575-GNVDE            No\n",
      "1  3668-QPYBK            No\n",
      "2  9237-HQITU            No\n",
      "3  9305-CDSKC           Yes\n",
      "4  1452-KIOVK           Yes\n"
     ]
    }
   ],
   "source": [
    "# Посмотрим сводную информацию по всем датасетам:\n",
    "data_set = [contract_data, internet_data, personal_data, phone_data]\n",
    "for df in (data_set):\n",
    "    print(df.info())\n",
    "    print(df.head())"
   ]
  },
  {
   "cell_type": "markdown",
   "id": "5939c203",
   "metadata": {},
   "source": [
    "У всех датасетов есть общий признак - \"customerID\".  \n",
    "От него и будем отталкиваться.  \n",
    "Чтобы не работать с каждым датасетом в отдельности, целесообразно обьединить их в 1."
   ]
  },
  {
   "cell_type": "markdown",
   "id": "5b27d67b",
   "metadata": {},
   "source": [
    "### Шаг.2 Обьединение данных в 1 датасет, проверка типов и содержимое данных."
   ]
  },
  {
   "cell_type": "code",
   "execution_count": 6,
   "id": "c8b6d8e6",
   "metadata": {
    "ExecuteTime": {
     "end_time": "2023-01-05T18:18:23.820962Z",
     "start_time": "2023-01-05T18:18:23.762000Z"
    }
   },
   "outputs": [
    {
     "data": {
      "text/html": [
       "<div>\n",
       "<style scoped>\n",
       "    .dataframe tbody tr th:only-of-type {\n",
       "        vertical-align: middle;\n",
       "    }\n",
       "\n",
       "    .dataframe tbody tr th {\n",
       "        vertical-align: top;\n",
       "    }\n",
       "\n",
       "    .dataframe thead th {\n",
       "        text-align: right;\n",
       "    }\n",
       "</style>\n",
       "<table border=\"1\" class=\"dataframe\">\n",
       "  <thead>\n",
       "    <tr style=\"text-align: right;\">\n",
       "      <th></th>\n",
       "      <th>BeginDate</th>\n",
       "      <th>EndDate</th>\n",
       "      <th>Type</th>\n",
       "      <th>PaperlessBilling</th>\n",
       "      <th>PaymentMethod</th>\n",
       "      <th>MonthlyCharges</th>\n",
       "      <th>TotalCharges</th>\n",
       "      <th>gender</th>\n",
       "      <th>SeniorCitizen</th>\n",
       "      <th>Partner</th>\n",
       "      <th>Dependents</th>\n",
       "      <th>InternetService</th>\n",
       "      <th>OnlineSecurity</th>\n",
       "      <th>OnlineBackup</th>\n",
       "      <th>DeviceProtection</th>\n",
       "      <th>TechSupport</th>\n",
       "      <th>StreamingTV</th>\n",
       "      <th>StreamingMovies</th>\n",
       "      <th>MultipleLines</th>\n",
       "    </tr>\n",
       "    <tr>\n",
       "      <th>customerID</th>\n",
       "      <th></th>\n",
       "      <th></th>\n",
       "      <th></th>\n",
       "      <th></th>\n",
       "      <th></th>\n",
       "      <th></th>\n",
       "      <th></th>\n",
       "      <th></th>\n",
       "      <th></th>\n",
       "      <th></th>\n",
       "      <th></th>\n",
       "      <th></th>\n",
       "      <th></th>\n",
       "      <th></th>\n",
       "      <th></th>\n",
       "      <th></th>\n",
       "      <th></th>\n",
       "      <th></th>\n",
       "      <th></th>\n",
       "    </tr>\n",
       "  </thead>\n",
       "  <tbody>\n",
       "    <tr>\n",
       "      <th>8098-TDCBU</th>\n",
       "      <td>2016-08-01</td>\n",
       "      <td>No</td>\n",
       "      <td>Two year</td>\n",
       "      <td>No</td>\n",
       "      <td>Electronic check</td>\n",
       "      <td>25.25</td>\n",
       "      <td>1108.2</td>\n",
       "      <td>Female</td>\n",
       "      <td>0</td>\n",
       "      <td>Yes</td>\n",
       "      <td>No</td>\n",
       "      <td>NaN</td>\n",
       "      <td>NaN</td>\n",
       "      <td>NaN</td>\n",
       "      <td>NaN</td>\n",
       "      <td>NaN</td>\n",
       "      <td>NaN</td>\n",
       "      <td>NaN</td>\n",
       "      <td>Yes</td>\n",
       "    </tr>\n",
       "    <tr>\n",
       "      <th>9067-SQTNS</th>\n",
       "      <td>2016-06-01</td>\n",
       "      <td>No</td>\n",
       "      <td>One year</td>\n",
       "      <td>No</td>\n",
       "      <td>Bank transfer (automatic)</td>\n",
       "      <td>20.60</td>\n",
       "      <td>926</td>\n",
       "      <td>Male</td>\n",
       "      <td>0</td>\n",
       "      <td>Yes</td>\n",
       "      <td>Yes</td>\n",
       "      <td>NaN</td>\n",
       "      <td>NaN</td>\n",
       "      <td>NaN</td>\n",
       "      <td>NaN</td>\n",
       "      <td>NaN</td>\n",
       "      <td>NaN</td>\n",
       "      <td>NaN</td>\n",
       "      <td>No</td>\n",
       "    </tr>\n",
       "    <tr>\n",
       "      <th>3508-VLHCZ</th>\n",
       "      <td>2014-03-01</td>\n",
       "      <td>No</td>\n",
       "      <td>Two year</td>\n",
       "      <td>Yes</td>\n",
       "      <td>Credit card (automatic)</td>\n",
       "      <td>90.55</td>\n",
       "      <td>6239.05</td>\n",
       "      <td>Female</td>\n",
       "      <td>0</td>\n",
       "      <td>Yes</td>\n",
       "      <td>Yes</td>\n",
       "      <td>DSL</td>\n",
       "      <td>Yes</td>\n",
       "      <td>Yes</td>\n",
       "      <td>Yes</td>\n",
       "      <td>Yes</td>\n",
       "      <td>Yes</td>\n",
       "      <td>Yes</td>\n",
       "      <td>Yes</td>\n",
       "    </tr>\n",
       "    <tr>\n",
       "      <th>2091-MJTFX</th>\n",
       "      <td>2017-05-01</td>\n",
       "      <td>2019-11-01 00:00:00</td>\n",
       "      <td>Month-to-month</td>\n",
       "      <td>No</td>\n",
       "      <td>Credit card (automatic)</td>\n",
       "      <td>51.20</td>\n",
       "      <td>1561.5</td>\n",
       "      <td>Female</td>\n",
       "      <td>0</td>\n",
       "      <td>Yes</td>\n",
       "      <td>Yes</td>\n",
       "      <td>DSL</td>\n",
       "      <td>No</td>\n",
       "      <td>No</td>\n",
       "      <td>No</td>\n",
       "      <td>Yes</td>\n",
       "      <td>Yes</td>\n",
       "      <td>Yes</td>\n",
       "      <td>NaN</td>\n",
       "    </tr>\n",
       "    <tr>\n",
       "      <th>9447-YPTBX</th>\n",
       "      <td>2015-12-01</td>\n",
       "      <td>No</td>\n",
       "      <td>One year</td>\n",
       "      <td>Yes</td>\n",
       "      <td>Bank transfer (automatic)</td>\n",
       "      <td>19.85</td>\n",
       "      <td>943.1</td>\n",
       "      <td>Female</td>\n",
       "      <td>0</td>\n",
       "      <td>Yes</td>\n",
       "      <td>No</td>\n",
       "      <td>NaN</td>\n",
       "      <td>NaN</td>\n",
       "      <td>NaN</td>\n",
       "      <td>NaN</td>\n",
       "      <td>NaN</td>\n",
       "      <td>NaN</td>\n",
       "      <td>NaN</td>\n",
       "      <td>No</td>\n",
       "    </tr>\n",
       "    <tr>\n",
       "      <th>2138-VFAPZ</th>\n",
       "      <td>2018-12-01</td>\n",
       "      <td>No</td>\n",
       "      <td>Two year</td>\n",
       "      <td>Yes</td>\n",
       "      <td>Mailed check</td>\n",
       "      <td>19.70</td>\n",
       "      <td>263.65</td>\n",
       "      <td>Female</td>\n",
       "      <td>0</td>\n",
       "      <td>Yes</td>\n",
       "      <td>Yes</td>\n",
       "      <td>NaN</td>\n",
       "      <td>NaN</td>\n",
       "      <td>NaN</td>\n",
       "      <td>NaN</td>\n",
       "      <td>NaN</td>\n",
       "      <td>NaN</td>\n",
       "      <td>NaN</td>\n",
       "      <td>No</td>\n",
       "    </tr>\n",
       "    <tr>\n",
       "      <th>1926-QUZNN</th>\n",
       "      <td>2014-02-01</td>\n",
       "      <td>No</td>\n",
       "      <td>Two year</td>\n",
       "      <td>Yes</td>\n",
       "      <td>Bank transfer (automatic)</td>\n",
       "      <td>25.25</td>\n",
       "      <td>1841.2</td>\n",
       "      <td>Female</td>\n",
       "      <td>0</td>\n",
       "      <td>Yes</td>\n",
       "      <td>No</td>\n",
       "      <td>NaN</td>\n",
       "      <td>NaN</td>\n",
       "      <td>NaN</td>\n",
       "      <td>NaN</td>\n",
       "      <td>NaN</td>\n",
       "      <td>NaN</td>\n",
       "      <td>NaN</td>\n",
       "      <td>Yes</td>\n",
       "    </tr>\n",
       "    <tr>\n",
       "      <th>0956-SYCWG</th>\n",
       "      <td>2019-01-01</td>\n",
       "      <td>No</td>\n",
       "      <td>One year</td>\n",
       "      <td>No</td>\n",
       "      <td>Electronic check</td>\n",
       "      <td>19.65</td>\n",
       "      <td>244.8</td>\n",
       "      <td>Female</td>\n",
       "      <td>0</td>\n",
       "      <td>No</td>\n",
       "      <td>No</td>\n",
       "      <td>NaN</td>\n",
       "      <td>NaN</td>\n",
       "      <td>NaN</td>\n",
       "      <td>NaN</td>\n",
       "      <td>NaN</td>\n",
       "      <td>NaN</td>\n",
       "      <td>NaN</td>\n",
       "      <td>No</td>\n",
       "    </tr>\n",
       "    <tr>\n",
       "      <th>6994-KERXL</th>\n",
       "      <td>2019-10-01</td>\n",
       "      <td>No</td>\n",
       "      <td>Month-to-month</td>\n",
       "      <td>Yes</td>\n",
       "      <td>Electronic check</td>\n",
       "      <td>55.90</td>\n",
       "      <td>238.5</td>\n",
       "      <td>Male</td>\n",
       "      <td>0</td>\n",
       "      <td>No</td>\n",
       "      <td>No</td>\n",
       "      <td>DSL</td>\n",
       "      <td>No</td>\n",
       "      <td>No</td>\n",
       "      <td>No</td>\n",
       "      <td>No</td>\n",
       "      <td>No</td>\n",
       "      <td>Yes</td>\n",
       "      <td>No</td>\n",
       "    </tr>\n",
       "    <tr>\n",
       "      <th>7734-DBOAI</th>\n",
       "      <td>2019-10-01</td>\n",
       "      <td>2019-11-01 00:00:00</td>\n",
       "      <td>Month-to-month</td>\n",
       "      <td>No</td>\n",
       "      <td>Electronic check</td>\n",
       "      <td>40.10</td>\n",
       "      <td>40.1</td>\n",
       "      <td>Female</td>\n",
       "      <td>0</td>\n",
       "      <td>Yes</td>\n",
       "      <td>Yes</td>\n",
       "      <td>DSL</td>\n",
       "      <td>No</td>\n",
       "      <td>No</td>\n",
       "      <td>No</td>\n",
       "      <td>Yes</td>\n",
       "      <td>Yes</td>\n",
       "      <td>No</td>\n",
       "      <td>NaN</td>\n",
       "    </tr>\n",
       "    <tr>\n",
       "      <th>6086-ESGRL</th>\n",
       "      <td>2019-11-01</td>\n",
       "      <td>2019-12-01 00:00:00</td>\n",
       "      <td>Month-to-month</td>\n",
       "      <td>No</td>\n",
       "      <td>Credit card (automatic)</td>\n",
       "      <td>80.15</td>\n",
       "      <td>80.15</td>\n",
       "      <td>Female</td>\n",
       "      <td>0</td>\n",
       "      <td>No</td>\n",
       "      <td>No</td>\n",
       "      <td>Fiber optic</td>\n",
       "      <td>No</td>\n",
       "      <td>No</td>\n",
       "      <td>No</td>\n",
       "      <td>No</td>\n",
       "      <td>No</td>\n",
       "      <td>Yes</td>\n",
       "      <td>No</td>\n",
       "    </tr>\n",
       "    <tr>\n",
       "      <th>6859-RKMZJ</th>\n",
       "      <td>2019-03-01</td>\n",
       "      <td>No</td>\n",
       "      <td>Month-to-month</td>\n",
       "      <td>Yes</td>\n",
       "      <td>Bank transfer (automatic)</td>\n",
       "      <td>55.05</td>\n",
       "      <td>608.15</td>\n",
       "      <td>Male</td>\n",
       "      <td>0</td>\n",
       "      <td>Yes</td>\n",
       "      <td>No</td>\n",
       "      <td>DSL</td>\n",
       "      <td>No</td>\n",
       "      <td>No</td>\n",
       "      <td>No</td>\n",
       "      <td>No</td>\n",
       "      <td>Yes</td>\n",
       "      <td>No</td>\n",
       "      <td>No</td>\n",
       "    </tr>\n",
       "    <tr>\n",
       "      <th>7594-LZNWR</th>\n",
       "      <td>2017-04-01</td>\n",
       "      <td>No</td>\n",
       "      <td>Month-to-month</td>\n",
       "      <td>No</td>\n",
       "      <td>Credit card (automatic)</td>\n",
       "      <td>69.15</td>\n",
       "      <td>2275.1</td>\n",
       "      <td>Male</td>\n",
       "      <td>1</td>\n",
       "      <td>No</td>\n",
       "      <td>No</td>\n",
       "      <td>Fiber optic</td>\n",
       "      <td>No</td>\n",
       "      <td>No</td>\n",
       "      <td>No</td>\n",
       "      <td>No</td>\n",
       "      <td>No</td>\n",
       "      <td>No</td>\n",
       "      <td>No</td>\n",
       "    </tr>\n",
       "    <tr>\n",
       "      <th>2277-AXSDC</th>\n",
       "      <td>2017-06-01</td>\n",
       "      <td>No</td>\n",
       "      <td>One year</td>\n",
       "      <td>No</td>\n",
       "      <td>Bank transfer (automatic)</td>\n",
       "      <td>19.75</td>\n",
       "      <td>624.15</td>\n",
       "      <td>Female</td>\n",
       "      <td>0</td>\n",
       "      <td>No</td>\n",
       "      <td>No</td>\n",
       "      <td>NaN</td>\n",
       "      <td>NaN</td>\n",
       "      <td>NaN</td>\n",
       "      <td>NaN</td>\n",
       "      <td>NaN</td>\n",
       "      <td>NaN</td>\n",
       "      <td>NaN</td>\n",
       "      <td>No</td>\n",
       "    </tr>\n",
       "    <tr>\n",
       "      <th>9308-ANMVE</th>\n",
       "      <td>2016-03-01</td>\n",
       "      <td>No</td>\n",
       "      <td>Month-to-month</td>\n",
       "      <td>Yes</td>\n",
       "      <td>Electronic check</td>\n",
       "      <td>55.30</td>\n",
       "      <td>2654.05</td>\n",
       "      <td>Male</td>\n",
       "      <td>0</td>\n",
       "      <td>No</td>\n",
       "      <td>Yes</td>\n",
       "      <td>DSL</td>\n",
       "      <td>Yes</td>\n",
       "      <td>Yes</td>\n",
       "      <td>No</td>\n",
       "      <td>No</td>\n",
       "      <td>No</td>\n",
       "      <td>No</td>\n",
       "      <td>No</td>\n",
       "    </tr>\n",
       "    <tr>\n",
       "      <th>7203-OYKCT</th>\n",
       "      <td>2014-02-01</td>\n",
       "      <td>No</td>\n",
       "      <td>One year</td>\n",
       "      <td>Yes</td>\n",
       "      <td>Electronic check</td>\n",
       "      <td>104.95</td>\n",
       "      <td>7544.3</td>\n",
       "      <td>Male</td>\n",
       "      <td>0</td>\n",
       "      <td>No</td>\n",
       "      <td>No</td>\n",
       "      <td>Fiber optic</td>\n",
       "      <td>No</td>\n",
       "      <td>Yes</td>\n",
       "      <td>Yes</td>\n",
       "      <td>No</td>\n",
       "      <td>Yes</td>\n",
       "      <td>Yes</td>\n",
       "      <td>Yes</td>\n",
       "    </tr>\n",
       "    <tr>\n",
       "      <th>0096-FCPUF</th>\n",
       "      <td>2017-08-01</td>\n",
       "      <td>No</td>\n",
       "      <td>Month-to-month</td>\n",
       "      <td>Yes</td>\n",
       "      <td>Mailed check</td>\n",
       "      <td>64.50</td>\n",
       "      <td>1888.45</td>\n",
       "      <td>Male</td>\n",
       "      <td>0</td>\n",
       "      <td>No</td>\n",
       "      <td>No</td>\n",
       "      <td>DSL</td>\n",
       "      <td>Yes</td>\n",
       "      <td>No</td>\n",
       "      <td>No</td>\n",
       "      <td>No</td>\n",
       "      <td>No</td>\n",
       "      <td>Yes</td>\n",
       "      <td>Yes</td>\n",
       "    </tr>\n",
       "    <tr>\n",
       "      <th>6215-NQCPY</th>\n",
       "      <td>2018-11-01</td>\n",
       "      <td>No</td>\n",
       "      <td>Month-to-month</td>\n",
       "      <td>Yes</td>\n",
       "      <td>Electronic check</td>\n",
       "      <td>99.70</td>\n",
       "      <td>1566.75</td>\n",
       "      <td>Male</td>\n",
       "      <td>0</td>\n",
       "      <td>No</td>\n",
       "      <td>No</td>\n",
       "      <td>Fiber optic</td>\n",
       "      <td>Yes</td>\n",
       "      <td>No</td>\n",
       "      <td>No</td>\n",
       "      <td>No</td>\n",
       "      <td>Yes</td>\n",
       "      <td>Yes</td>\n",
       "      <td>Yes</td>\n",
       "    </tr>\n",
       "    <tr>\n",
       "      <th>8133-ANHHJ</th>\n",
       "      <td>2016-01-01</td>\n",
       "      <td>No</td>\n",
       "      <td>One year</td>\n",
       "      <td>No</td>\n",
       "      <td>Bank transfer (automatic)</td>\n",
       "      <td>103.00</td>\n",
       "      <td>5166.2</td>\n",
       "      <td>Female</td>\n",
       "      <td>1</td>\n",
       "      <td>No</td>\n",
       "      <td>No</td>\n",
       "      <td>Fiber optic</td>\n",
       "      <td>Yes</td>\n",
       "      <td>Yes</td>\n",
       "      <td>Yes</td>\n",
       "      <td>Yes</td>\n",
       "      <td>No</td>\n",
       "      <td>Yes</td>\n",
       "      <td>Yes</td>\n",
       "    </tr>\n",
       "    <tr>\n",
       "      <th>1395-OFUWC</th>\n",
       "      <td>2016-07-01</td>\n",
       "      <td>No</td>\n",
       "      <td>Month-to-month</td>\n",
       "      <td>No</td>\n",
       "      <td>Credit card (automatic)</td>\n",
       "      <td>29.30</td>\n",
       "      <td>1224.05</td>\n",
       "      <td>Male</td>\n",
       "      <td>0</td>\n",
       "      <td>Yes</td>\n",
       "      <td>Yes</td>\n",
       "      <td>DSL</td>\n",
       "      <td>No</td>\n",
       "      <td>Yes</td>\n",
       "      <td>No</td>\n",
       "      <td>No</td>\n",
       "      <td>No</td>\n",
       "      <td>No</td>\n",
       "      <td>NaN</td>\n",
       "    </tr>\n",
       "  </tbody>\n",
       "</table>\n",
       "</div>"
      ],
      "text/plain": [
       "             BeginDate              EndDate            Type PaperlessBilling  \\\n",
       "customerID                                                                     \n",
       "8098-TDCBU  2016-08-01                   No        Two year               No   \n",
       "9067-SQTNS  2016-06-01                   No        One year               No   \n",
       "3508-VLHCZ  2014-03-01                   No        Two year              Yes   \n",
       "2091-MJTFX  2017-05-01  2019-11-01 00:00:00  Month-to-month               No   \n",
       "9447-YPTBX  2015-12-01                   No        One year              Yes   \n",
       "2138-VFAPZ  2018-12-01                   No        Two year              Yes   \n",
       "1926-QUZNN  2014-02-01                   No        Two year              Yes   \n",
       "0956-SYCWG  2019-01-01                   No        One year               No   \n",
       "6994-KERXL  2019-10-01                   No  Month-to-month              Yes   \n",
       "7734-DBOAI  2019-10-01  2019-11-01 00:00:00  Month-to-month               No   \n",
       "6086-ESGRL  2019-11-01  2019-12-01 00:00:00  Month-to-month               No   \n",
       "6859-RKMZJ  2019-03-01                   No  Month-to-month              Yes   \n",
       "7594-LZNWR  2017-04-01                   No  Month-to-month               No   \n",
       "2277-AXSDC  2017-06-01                   No        One year               No   \n",
       "9308-ANMVE  2016-03-01                   No  Month-to-month              Yes   \n",
       "7203-OYKCT  2014-02-01                   No        One year              Yes   \n",
       "0096-FCPUF  2017-08-01                   No  Month-to-month              Yes   \n",
       "6215-NQCPY  2018-11-01                   No  Month-to-month              Yes   \n",
       "8133-ANHHJ  2016-01-01                   No        One year               No   \n",
       "1395-OFUWC  2016-07-01                   No  Month-to-month               No   \n",
       "\n",
       "                        PaymentMethod  MonthlyCharges TotalCharges  gender  \\\n",
       "customerID                                                                   \n",
       "8098-TDCBU           Electronic check           25.25       1108.2  Female   \n",
       "9067-SQTNS  Bank transfer (automatic)           20.60          926    Male   \n",
       "3508-VLHCZ    Credit card (automatic)           90.55      6239.05  Female   \n",
       "2091-MJTFX    Credit card (automatic)           51.20       1561.5  Female   \n",
       "9447-YPTBX  Bank transfer (automatic)           19.85        943.1  Female   \n",
       "2138-VFAPZ               Mailed check           19.70       263.65  Female   \n",
       "1926-QUZNN  Bank transfer (automatic)           25.25       1841.2  Female   \n",
       "0956-SYCWG           Electronic check           19.65        244.8  Female   \n",
       "6994-KERXL           Electronic check           55.90        238.5    Male   \n",
       "7734-DBOAI           Electronic check           40.10         40.1  Female   \n",
       "6086-ESGRL    Credit card (automatic)           80.15        80.15  Female   \n",
       "6859-RKMZJ  Bank transfer (automatic)           55.05       608.15    Male   \n",
       "7594-LZNWR    Credit card (automatic)           69.15       2275.1    Male   \n",
       "2277-AXSDC  Bank transfer (automatic)           19.75       624.15  Female   \n",
       "9308-ANMVE           Electronic check           55.30      2654.05    Male   \n",
       "7203-OYKCT           Electronic check          104.95       7544.3    Male   \n",
       "0096-FCPUF               Mailed check           64.50      1888.45    Male   \n",
       "6215-NQCPY           Electronic check           99.70      1566.75    Male   \n",
       "8133-ANHHJ  Bank transfer (automatic)          103.00       5166.2  Female   \n",
       "1395-OFUWC    Credit card (automatic)           29.30      1224.05    Male   \n",
       "\n",
       "            SeniorCitizen Partner Dependents InternetService OnlineSecurity  \\\n",
       "customerID                                                                    \n",
       "8098-TDCBU              0     Yes         No             NaN            NaN   \n",
       "9067-SQTNS              0     Yes        Yes             NaN            NaN   \n",
       "3508-VLHCZ              0     Yes        Yes             DSL            Yes   \n",
       "2091-MJTFX              0     Yes        Yes             DSL             No   \n",
       "9447-YPTBX              0     Yes         No             NaN            NaN   \n",
       "2138-VFAPZ              0     Yes        Yes             NaN            NaN   \n",
       "1926-QUZNN              0     Yes         No             NaN            NaN   \n",
       "0956-SYCWG              0      No         No             NaN            NaN   \n",
       "6994-KERXL              0      No         No             DSL             No   \n",
       "7734-DBOAI              0     Yes        Yes             DSL             No   \n",
       "6086-ESGRL              0      No         No     Fiber optic             No   \n",
       "6859-RKMZJ              0     Yes         No             DSL             No   \n",
       "7594-LZNWR              1      No         No     Fiber optic             No   \n",
       "2277-AXSDC              0      No         No             NaN            NaN   \n",
       "9308-ANMVE              0      No        Yes             DSL            Yes   \n",
       "7203-OYKCT              0      No         No     Fiber optic             No   \n",
       "0096-FCPUF              0      No         No             DSL            Yes   \n",
       "6215-NQCPY              0      No         No     Fiber optic            Yes   \n",
       "8133-ANHHJ              1      No         No     Fiber optic            Yes   \n",
       "1395-OFUWC              0     Yes        Yes             DSL             No   \n",
       "\n",
       "           OnlineBackup DeviceProtection TechSupport StreamingTV  \\\n",
       "customerID                                                         \n",
       "8098-TDCBU          NaN              NaN         NaN         NaN   \n",
       "9067-SQTNS          NaN              NaN         NaN         NaN   \n",
       "3508-VLHCZ          Yes              Yes         Yes         Yes   \n",
       "2091-MJTFX           No               No         Yes         Yes   \n",
       "9447-YPTBX          NaN              NaN         NaN         NaN   \n",
       "2138-VFAPZ          NaN              NaN         NaN         NaN   \n",
       "1926-QUZNN          NaN              NaN         NaN         NaN   \n",
       "0956-SYCWG          NaN              NaN         NaN         NaN   \n",
       "6994-KERXL           No               No          No          No   \n",
       "7734-DBOAI           No               No         Yes         Yes   \n",
       "6086-ESGRL           No               No          No          No   \n",
       "6859-RKMZJ           No               No          No         Yes   \n",
       "7594-LZNWR           No               No          No          No   \n",
       "2277-AXSDC          NaN              NaN         NaN         NaN   \n",
       "9308-ANMVE          Yes               No          No          No   \n",
       "7203-OYKCT          Yes              Yes          No         Yes   \n",
       "0096-FCPUF           No               No          No          No   \n",
       "6215-NQCPY           No               No          No         Yes   \n",
       "8133-ANHHJ          Yes              Yes         Yes          No   \n",
       "1395-OFUWC          Yes               No          No          No   \n",
       "\n",
       "           StreamingMovies MultipleLines  \n",
       "customerID                                \n",
       "8098-TDCBU             NaN           Yes  \n",
       "9067-SQTNS             NaN            No  \n",
       "3508-VLHCZ             Yes           Yes  \n",
       "2091-MJTFX             Yes           NaN  \n",
       "9447-YPTBX             NaN            No  \n",
       "2138-VFAPZ             NaN            No  \n",
       "1926-QUZNN             NaN           Yes  \n",
       "0956-SYCWG             NaN            No  \n",
       "6994-KERXL             Yes            No  \n",
       "7734-DBOAI              No           NaN  \n",
       "6086-ESGRL             Yes            No  \n",
       "6859-RKMZJ              No            No  \n",
       "7594-LZNWR              No            No  \n",
       "2277-AXSDC             NaN            No  \n",
       "9308-ANMVE              No            No  \n",
       "7203-OYKCT             Yes           Yes  \n",
       "0096-FCPUF             Yes           Yes  \n",
       "6215-NQCPY             Yes           Yes  \n",
       "8133-ANHHJ             Yes           Yes  \n",
       "1395-OFUWC              No           NaN  "
      ]
     },
     "execution_count": 6,
     "metadata": {},
     "output_type": "execute_result"
    }
   ],
   "source": [
    "# соберем общий датасет из имеющихся данных:\n",
    "df = contract_data.merge(personal_data, how='left', on='customerID').merge(\n",
    "    internet_data, how='left', on='customerID').merge(phone_data,\n",
    "                                                      how='left',\n",
    "                                                      on='customerID')\n",
    "df = df.set_index('customerID')\n",
    "df.sample(20)"
   ]
  },
  {
   "cell_type": "code",
   "execution_count": 8,
   "id": "20778d18",
   "metadata": {
    "ExecuteTime": {
     "end_time": "2023-01-05T18:18:32.402839Z",
     "start_time": "2023-01-05T18:18:32.393167Z"
    }
   },
   "outputs": [
    {
     "data": {
      "text/plain": [
       "(7043, 19)"
      ]
     },
     "execution_count": 8,
     "metadata": {},
     "output_type": "execute_result"
    }
   ],
   "source": [
    "# уточним размерность датасета на выходе:\n",
    "df.shape"
   ]
  },
  {
   "cell_type": "code",
   "execution_count": 9,
   "id": "2c34e16d",
   "metadata": {
    "ExecuteTime": {
     "end_time": "2023-01-05T18:18:37.302600Z",
     "start_time": "2023-01-05T18:18:37.291846Z"
    }
   },
   "outputs": [],
   "source": [
    "# Хотя по этикету DS названия признаков не должны быть Upper,\n",
    "# на ради единообразия и миропорядка переименуем:\n",
    "df = df.rename(columns={'gender': 'Gender'})"
   ]
  },
  {
   "cell_type": "code",
   "execution_count": 10,
   "id": "f1c8ffa3",
   "metadata": {
    "ExecuteTime": {
     "end_time": "2023-01-05T18:18:39.747738Z",
     "start_time": "2023-01-05T18:18:39.728160Z"
    }
   },
   "outputs": [
    {
     "data": {
      "text/html": [
       "<div>\n",
       "<style scoped>\n",
       "    .dataframe tbody tr th:only-of-type {\n",
       "        vertical-align: middle;\n",
       "    }\n",
       "\n",
       "    .dataframe tbody tr th {\n",
       "        vertical-align: top;\n",
       "    }\n",
       "\n",
       "    .dataframe thead th {\n",
       "        text-align: right;\n",
       "    }\n",
       "</style>\n",
       "<table border=\"1\" class=\"dataframe\">\n",
       "  <thead>\n",
       "    <tr style=\"text-align: right;\">\n",
       "      <th></th>\n",
       "      <th>BeginDate</th>\n",
       "      <th>EndDate</th>\n",
       "      <th>Type</th>\n",
       "      <th>PaperlessBilling</th>\n",
       "      <th>PaymentMethod</th>\n",
       "      <th>MonthlyCharges</th>\n",
       "      <th>TotalCharges</th>\n",
       "      <th>Gender</th>\n",
       "      <th>SeniorCitizen</th>\n",
       "      <th>Partner</th>\n",
       "      <th>Dependents</th>\n",
       "      <th>InternetService</th>\n",
       "      <th>OnlineSecurity</th>\n",
       "      <th>OnlineBackup</th>\n",
       "      <th>DeviceProtection</th>\n",
       "      <th>TechSupport</th>\n",
       "      <th>StreamingTV</th>\n",
       "      <th>StreamingMovies</th>\n",
       "      <th>MultipleLines</th>\n",
       "    </tr>\n",
       "    <tr>\n",
       "      <th>customerID</th>\n",
       "      <th></th>\n",
       "      <th></th>\n",
       "      <th></th>\n",
       "      <th></th>\n",
       "      <th></th>\n",
       "      <th></th>\n",
       "      <th></th>\n",
       "      <th></th>\n",
       "      <th></th>\n",
       "      <th></th>\n",
       "      <th></th>\n",
       "      <th></th>\n",
       "      <th></th>\n",
       "      <th></th>\n",
       "      <th></th>\n",
       "      <th></th>\n",
       "      <th></th>\n",
       "      <th></th>\n",
       "      <th></th>\n",
       "    </tr>\n",
       "  </thead>\n",
       "  <tbody>\n",
       "    <tr>\n",
       "      <th>7590-VHVEG</th>\n",
       "      <td>2020-01-01</td>\n",
       "      <td>No</td>\n",
       "      <td>Month-to-month</td>\n",
       "      <td>Yes</td>\n",
       "      <td>Electronic check</td>\n",
       "      <td>29.85</td>\n",
       "      <td>29.85</td>\n",
       "      <td>Female</td>\n",
       "      <td>0</td>\n",
       "      <td>Yes</td>\n",
       "      <td>No</td>\n",
       "      <td>DSL</td>\n",
       "      <td>No</td>\n",
       "      <td>Yes</td>\n",
       "      <td>No</td>\n",
       "      <td>No</td>\n",
       "      <td>No</td>\n",
       "      <td>No</td>\n",
       "      <td>NaN</td>\n",
       "    </tr>\n",
       "    <tr>\n",
       "      <th>5575-GNVDE</th>\n",
       "      <td>2017-04-01</td>\n",
       "      <td>No</td>\n",
       "      <td>One year</td>\n",
       "      <td>No</td>\n",
       "      <td>Mailed check</td>\n",
       "      <td>56.95</td>\n",
       "      <td>1889.5</td>\n",
       "      <td>Male</td>\n",
       "      <td>0</td>\n",
       "      <td>No</td>\n",
       "      <td>No</td>\n",
       "      <td>DSL</td>\n",
       "      <td>Yes</td>\n",
       "      <td>No</td>\n",
       "      <td>Yes</td>\n",
       "      <td>No</td>\n",
       "      <td>No</td>\n",
       "      <td>No</td>\n",
       "      <td>No</td>\n",
       "    </tr>\n",
       "    <tr>\n",
       "      <th>3668-QPYBK</th>\n",
       "      <td>2019-10-01</td>\n",
       "      <td>2019-12-01 00:00:00</td>\n",
       "      <td>Month-to-month</td>\n",
       "      <td>Yes</td>\n",
       "      <td>Mailed check</td>\n",
       "      <td>53.85</td>\n",
       "      <td>108.15</td>\n",
       "      <td>Male</td>\n",
       "      <td>0</td>\n",
       "      <td>No</td>\n",
       "      <td>No</td>\n",
       "      <td>DSL</td>\n",
       "      <td>Yes</td>\n",
       "      <td>Yes</td>\n",
       "      <td>No</td>\n",
       "      <td>No</td>\n",
       "      <td>No</td>\n",
       "      <td>No</td>\n",
       "      <td>No</td>\n",
       "    </tr>\n",
       "    <tr>\n",
       "      <th>7795-CFOCW</th>\n",
       "      <td>2016-05-01</td>\n",
       "      <td>No</td>\n",
       "      <td>One year</td>\n",
       "      <td>No</td>\n",
       "      <td>Bank transfer (automatic)</td>\n",
       "      <td>42.30</td>\n",
       "      <td>1840.75</td>\n",
       "      <td>Male</td>\n",
       "      <td>0</td>\n",
       "      <td>No</td>\n",
       "      <td>No</td>\n",
       "      <td>DSL</td>\n",
       "      <td>Yes</td>\n",
       "      <td>No</td>\n",
       "      <td>Yes</td>\n",
       "      <td>Yes</td>\n",
       "      <td>No</td>\n",
       "      <td>No</td>\n",
       "      <td>NaN</td>\n",
       "    </tr>\n",
       "    <tr>\n",
       "      <th>9237-HQITU</th>\n",
       "      <td>2019-09-01</td>\n",
       "      <td>2019-11-01 00:00:00</td>\n",
       "      <td>Month-to-month</td>\n",
       "      <td>Yes</td>\n",
       "      <td>Electronic check</td>\n",
       "      <td>70.70</td>\n",
       "      <td>151.65</td>\n",
       "      <td>Female</td>\n",
       "      <td>0</td>\n",
       "      <td>No</td>\n",
       "      <td>No</td>\n",
       "      <td>Fiber optic</td>\n",
       "      <td>No</td>\n",
       "      <td>No</td>\n",
       "      <td>No</td>\n",
       "      <td>No</td>\n",
       "      <td>No</td>\n",
       "      <td>No</td>\n",
       "      <td>No</td>\n",
       "    </tr>\n",
       "  </tbody>\n",
       "</table>\n",
       "</div>"
      ],
      "text/plain": [
       "             BeginDate              EndDate            Type PaperlessBilling  \\\n",
       "customerID                                                                     \n",
       "7590-VHVEG  2020-01-01                   No  Month-to-month              Yes   \n",
       "5575-GNVDE  2017-04-01                   No        One year               No   \n",
       "3668-QPYBK  2019-10-01  2019-12-01 00:00:00  Month-to-month              Yes   \n",
       "7795-CFOCW  2016-05-01                   No        One year               No   \n",
       "9237-HQITU  2019-09-01  2019-11-01 00:00:00  Month-to-month              Yes   \n",
       "\n",
       "                        PaymentMethod  MonthlyCharges TotalCharges  Gender  \\\n",
       "customerID                                                                   \n",
       "7590-VHVEG           Electronic check           29.85        29.85  Female   \n",
       "5575-GNVDE               Mailed check           56.95       1889.5    Male   \n",
       "3668-QPYBK               Mailed check           53.85       108.15    Male   \n",
       "7795-CFOCW  Bank transfer (automatic)           42.30      1840.75    Male   \n",
       "9237-HQITU           Electronic check           70.70       151.65  Female   \n",
       "\n",
       "            SeniorCitizen Partner Dependents InternetService OnlineSecurity  \\\n",
       "customerID                                                                    \n",
       "7590-VHVEG              0     Yes         No             DSL             No   \n",
       "5575-GNVDE              0      No         No             DSL            Yes   \n",
       "3668-QPYBK              0      No         No             DSL            Yes   \n",
       "7795-CFOCW              0      No         No             DSL            Yes   \n",
       "9237-HQITU              0      No         No     Fiber optic             No   \n",
       "\n",
       "           OnlineBackup DeviceProtection TechSupport StreamingTV  \\\n",
       "customerID                                                         \n",
       "7590-VHVEG          Yes               No          No          No   \n",
       "5575-GNVDE           No              Yes          No          No   \n",
       "3668-QPYBK          Yes               No          No          No   \n",
       "7795-CFOCW           No              Yes         Yes          No   \n",
       "9237-HQITU           No               No          No          No   \n",
       "\n",
       "           StreamingMovies MultipleLines  \n",
       "customerID                                \n",
       "7590-VHVEG              No           NaN  \n",
       "5575-GNVDE              No            No  \n",
       "3668-QPYBK              No            No  \n",
       "7795-CFOCW              No           NaN  \n",
       "9237-HQITU              No            No  "
      ]
     },
     "execution_count": 10,
     "metadata": {},
     "output_type": "execute_result"
    }
   ],
   "source": [
    "df.head()"
   ]
  },
  {
   "cell_type": "code",
   "execution_count": 11,
   "id": "cd5b93ca",
   "metadata": {
    "ExecuteTime": {
     "end_time": "2023-01-05T18:18:43.413204Z",
     "start_time": "2023-01-05T18:18:43.377944Z"
    }
   },
   "outputs": [
    {
     "name": "stdout",
     "output_type": "stream",
     "text": [
      "<class 'pandas.core.frame.DataFrame'>\n",
      "Index: 7043 entries, 7590-VHVEG to 3186-AJIEK\n",
      "Data columns (total 19 columns):\n",
      " #   Column            Non-Null Count  Dtype  \n",
      "---  ------            --------------  -----  \n",
      " 0   BeginDate         7043 non-null   object \n",
      " 1   EndDate           7043 non-null   object \n",
      " 2   Type              7043 non-null   object \n",
      " 3   PaperlessBilling  7043 non-null   object \n",
      " 4   PaymentMethod     7043 non-null   object \n",
      " 5   MonthlyCharges    7043 non-null   float64\n",
      " 6   TotalCharges      7043 non-null   object \n",
      " 7   Gender            7043 non-null   object \n",
      " 8   SeniorCitizen     7043 non-null   int64  \n",
      " 9   Partner           7043 non-null   object \n",
      " 10  Dependents        7043 non-null   object \n",
      " 11  InternetService   5517 non-null   object \n",
      " 12  OnlineSecurity    5517 non-null   object \n",
      " 13  OnlineBackup      5517 non-null   object \n",
      " 14  DeviceProtection  5517 non-null   object \n",
      " 15  TechSupport       5517 non-null   object \n",
      " 16  StreamingTV       5517 non-null   object \n",
      " 17  StreamingMovies   5517 non-null   object \n",
      " 18  MultipleLines     6361 non-null   object \n",
      "dtypes: float64(1), int64(1), object(17)\n",
      "memory usage: 1.1+ MB\n"
     ]
    }
   ],
   "source": [
    "df.info()"
   ]
  },
  {
   "cell_type": "code",
   "execution_count": 12,
   "id": "75e18729",
   "metadata": {
    "ExecuteTime": {
     "end_time": "2023-01-05T18:18:46.764425Z",
     "start_time": "2023-01-05T18:18:46.390708Z"
    }
   },
   "outputs": [
    {
     "data": {
      "text/plain": [
       "<AxesSubplot:ylabel='customerID'>"
      ]
     },
     "execution_count": 12,
     "metadata": {},
     "output_type": "execute_result"
    },
    {
     "data": {
      "image/png": "[encoded data removed]",
      "text/plain": [
       "<Figure size 432x288 with 2 Axes>"
      ]
     },
     "metadata": {
      "needs_background": "light"
     },
     "output_type": "display_data"
    }
   ],
   "source": [
    "# визуализуем пропуски в датасете:\n",
    "# определяем цвета\n",
    "# желтый - пропущенные данные, синий - не пропущенные\n",
    "colours = ['#000099', '#ffff00']\n",
    "sns.heatmap(df.isnull(), cmap=sns.color_palette(colours))"
   ]
  },
  {
   "cell_type": "markdown",
   "id": "60e7808b",
   "metadata": {},
   "source": [
    "Промежуточные выводы:   \n",
    "\n",
    "В датасете есть пропуски как следствие обьединения датасетов. У нас есть несколько вариантов: 1. Дропнуть все пропуски и строить модель на остаточных данных. Хотя мы и потеряем 31% данных: - нужно проверить этот вариант и посмотреть на метрики модели. Вариант 2: попытаться заполнить пропуски. \n",
    "\n",
    "\n",
    "Займемся этим на следующем этапе проекта.\n",
    "\n",
    "Некоторые признаки не корректны по типу данных:  \n",
    "\n",
    "TotalCharges - нужно поменять на тип float,  \n",
    "\n",
    "BeginDate, EndDate  - нужно поменять на тип datetime,  \n",
    "\n",
    "остальные признаки можно не менять, мы их обработаем как категориальные признаки, декодируем через dummies."
   ]
  },
  {
   "cell_type": "code",
   "execution_count": 13,
   "id": "32a67cf7",
   "metadata": {
    "ExecuteTime": {
     "end_time": "2023-01-05T18:18:50.677285Z",
     "start_time": "2023-01-05T18:18:50.645782Z"
    }
   },
   "outputs": [
    {
     "data": {
      "text/html": [
       "<div>\n",
       "<style scoped>\n",
       "    .dataframe tbody tr th:only-of-type {\n",
       "        vertical-align: middle;\n",
       "    }\n",
       "\n",
       "    .dataframe tbody tr th {\n",
       "        vertical-align: top;\n",
       "    }\n",
       "\n",
       "    .dataframe thead th {\n",
       "        text-align: right;\n",
       "    }\n",
       "</style>\n",
       "<table border=\"1\" class=\"dataframe\">\n",
       "  <thead>\n",
       "    <tr style=\"text-align: right;\">\n",
       "      <th></th>\n",
       "      <th>BeginDate</th>\n",
       "      <th>EndDate</th>\n",
       "      <th>Type</th>\n",
       "      <th>PaperlessBilling</th>\n",
       "      <th>PaymentMethod</th>\n",
       "      <th>MonthlyCharges</th>\n",
       "      <th>TotalCharges</th>\n",
       "      <th>Gender</th>\n",
       "      <th>SeniorCitizen</th>\n",
       "      <th>Partner</th>\n",
       "      <th>Dependents</th>\n",
       "      <th>InternetService</th>\n",
       "      <th>OnlineSecurity</th>\n",
       "      <th>OnlineBackup</th>\n",
       "      <th>DeviceProtection</th>\n",
       "      <th>TechSupport</th>\n",
       "      <th>StreamingTV</th>\n",
       "      <th>StreamingMovies</th>\n",
       "      <th>MultipleLines</th>\n",
       "    </tr>\n",
       "    <tr>\n",
       "      <th>customerID</th>\n",
       "      <th></th>\n",
       "      <th></th>\n",
       "      <th></th>\n",
       "      <th></th>\n",
       "      <th></th>\n",
       "      <th></th>\n",
       "      <th></th>\n",
       "      <th></th>\n",
       "      <th></th>\n",
       "      <th></th>\n",
       "      <th></th>\n",
       "      <th></th>\n",
       "      <th></th>\n",
       "      <th></th>\n",
       "      <th></th>\n",
       "      <th></th>\n",
       "      <th></th>\n",
       "      <th></th>\n",
       "      <th></th>\n",
       "    </tr>\n",
       "  </thead>\n",
       "  <tbody>\n",
       "    <tr>\n",
       "      <th>4472-LVYGI</th>\n",
       "      <td>2020-02-01</td>\n",
       "      <td>No</td>\n",
       "      <td>Two year</td>\n",
       "      <td>Yes</td>\n",
       "      <td>Bank transfer (automatic)</td>\n",
       "      <td>52.55</td>\n",
       "      <td>NaN</td>\n",
       "      <td>Female</td>\n",
       "      <td>0</td>\n",
       "      <td>Yes</td>\n",
       "      <td>Yes</td>\n",
       "      <td>DSL</td>\n",
       "      <td>Yes</td>\n",
       "      <td>No</td>\n",
       "      <td>Yes</td>\n",
       "      <td>Yes</td>\n",
       "      <td>Yes</td>\n",
       "      <td>No</td>\n",
       "      <td>NaN</td>\n",
       "    </tr>\n",
       "    <tr>\n",
       "      <th>3115-CZMZD</th>\n",
       "      <td>2020-02-01</td>\n",
       "      <td>No</td>\n",
       "      <td>Two year</td>\n",
       "      <td>No</td>\n",
       "      <td>Mailed check</td>\n",
       "      <td>20.25</td>\n",
       "      <td>NaN</td>\n",
       "      <td>Male</td>\n",
       "      <td>0</td>\n",
       "      <td>No</td>\n",
       "      <td>Yes</td>\n",
       "      <td>NaN</td>\n",
       "      <td>NaN</td>\n",
       "      <td>NaN</td>\n",
       "      <td>NaN</td>\n",
       "      <td>NaN</td>\n",
       "      <td>NaN</td>\n",
       "      <td>NaN</td>\n",
       "      <td>No</td>\n",
       "    </tr>\n",
       "    <tr>\n",
       "      <th>5709-LVOEQ</th>\n",
       "      <td>2020-02-01</td>\n",
       "      <td>No</td>\n",
       "      <td>Two year</td>\n",
       "      <td>No</td>\n",
       "      <td>Mailed check</td>\n",
       "      <td>80.85</td>\n",
       "      <td>NaN</td>\n",
       "      <td>Female</td>\n",
       "      <td>0</td>\n",
       "      <td>Yes</td>\n",
       "      <td>Yes</td>\n",
       "      <td>DSL</td>\n",
       "      <td>Yes</td>\n",
       "      <td>Yes</td>\n",
       "      <td>Yes</td>\n",
       "      <td>No</td>\n",
       "      <td>Yes</td>\n",
       "      <td>Yes</td>\n",
       "      <td>No</td>\n",
       "    </tr>\n",
       "    <tr>\n",
       "      <th>4367-NUYAO</th>\n",
       "      <td>2020-02-01</td>\n",
       "      <td>No</td>\n",
       "      <td>Two year</td>\n",
       "      <td>No</td>\n",
       "      <td>Mailed check</td>\n",
       "      <td>25.75</td>\n",
       "      <td>NaN</td>\n",
       "      <td>Male</td>\n",
       "      <td>0</td>\n",
       "      <td>Yes</td>\n",
       "      <td>Yes</td>\n",
       "      <td>NaN</td>\n",
       "      <td>NaN</td>\n",
       "      <td>NaN</td>\n",
       "      <td>NaN</td>\n",
       "      <td>NaN</td>\n",
       "      <td>NaN</td>\n",
       "      <td>NaN</td>\n",
       "      <td>Yes</td>\n",
       "    </tr>\n",
       "    <tr>\n",
       "      <th>1371-DWPAZ</th>\n",
       "      <td>2020-02-01</td>\n",
       "      <td>No</td>\n",
       "      <td>Two year</td>\n",
       "      <td>No</td>\n",
       "      <td>Credit card (automatic)</td>\n",
       "      <td>56.05</td>\n",
       "      <td>NaN</td>\n",
       "      <td>Female</td>\n",
       "      <td>0</td>\n",
       "      <td>Yes</td>\n",
       "      <td>Yes</td>\n",
       "      <td>DSL</td>\n",
       "      <td>Yes</td>\n",
       "      <td>Yes</td>\n",
       "      <td>Yes</td>\n",
       "      <td>Yes</td>\n",
       "      <td>Yes</td>\n",
       "      <td>No</td>\n",
       "      <td>NaN</td>\n",
       "    </tr>\n",
       "    <tr>\n",
       "      <th>7644-OMVMY</th>\n",
       "      <td>2020-02-01</td>\n",
       "      <td>No</td>\n",
       "      <td>Two year</td>\n",
       "      <td>No</td>\n",
       "      <td>Mailed check</td>\n",
       "      <td>19.85</td>\n",
       "      <td>NaN</td>\n",
       "      <td>Male</td>\n",
       "      <td>0</td>\n",
       "      <td>Yes</td>\n",
       "      <td>Yes</td>\n",
       "      <td>NaN</td>\n",
       "      <td>NaN</td>\n",
       "      <td>NaN</td>\n",
       "      <td>NaN</td>\n",
       "      <td>NaN</td>\n",
       "      <td>NaN</td>\n",
       "      <td>NaN</td>\n",
       "      <td>No</td>\n",
       "    </tr>\n",
       "    <tr>\n",
       "      <th>3213-VVOLG</th>\n",
       "      <td>2020-02-01</td>\n",
       "      <td>No</td>\n",
       "      <td>Two year</td>\n",
       "      <td>No</td>\n",
       "      <td>Mailed check</td>\n",
       "      <td>25.35</td>\n",
       "      <td>NaN</td>\n",
       "      <td>Male</td>\n",
       "      <td>0</td>\n",
       "      <td>Yes</td>\n",
       "      <td>Yes</td>\n",
       "      <td>NaN</td>\n",
       "      <td>NaN</td>\n",
       "      <td>NaN</td>\n",
       "      <td>NaN</td>\n",
       "      <td>NaN</td>\n",
       "      <td>NaN</td>\n",
       "      <td>NaN</td>\n",
       "      <td>Yes</td>\n",
       "    </tr>\n",
       "    <tr>\n",
       "      <th>2520-SGTTA</th>\n",
       "      <td>2020-02-01</td>\n",
       "      <td>No</td>\n",
       "      <td>Two year</td>\n",
       "      <td>No</td>\n",
       "      <td>Mailed check</td>\n",
       "      <td>20.00</td>\n",
       "      <td>NaN</td>\n",
       "      <td>Female</td>\n",
       "      <td>0</td>\n",
       "      <td>Yes</td>\n",
       "      <td>Yes</td>\n",
       "      <td>NaN</td>\n",
       "      <td>NaN</td>\n",
       "      <td>NaN</td>\n",
       "      <td>NaN</td>\n",
       "      <td>NaN</td>\n",
       "      <td>NaN</td>\n",
       "      <td>NaN</td>\n",
       "      <td>No</td>\n",
       "    </tr>\n",
       "    <tr>\n",
       "      <th>2923-ARZLG</th>\n",
       "      <td>2020-02-01</td>\n",
       "      <td>No</td>\n",
       "      <td>One year</td>\n",
       "      <td>Yes</td>\n",
       "      <td>Mailed check</td>\n",
       "      <td>19.70</td>\n",
       "      <td>NaN</td>\n",
       "      <td>Male</td>\n",
       "      <td>0</td>\n",
       "      <td>Yes</td>\n",
       "      <td>Yes</td>\n",
       "      <td>NaN</td>\n",
       "      <td>NaN</td>\n",
       "      <td>NaN</td>\n",
       "      <td>NaN</td>\n",
       "      <td>NaN</td>\n",
       "      <td>NaN</td>\n",
       "      <td>NaN</td>\n",
       "      <td>No</td>\n",
       "    </tr>\n",
       "    <tr>\n",
       "      <th>4075-WKNIU</th>\n",
       "      <td>2020-02-01</td>\n",
       "      <td>No</td>\n",
       "      <td>Two year</td>\n",
       "      <td>No</td>\n",
       "      <td>Mailed check</td>\n",
       "      <td>73.35</td>\n",
       "      <td>NaN</td>\n",
       "      <td>Female</td>\n",
       "      <td>0</td>\n",
       "      <td>Yes</td>\n",
       "      <td>Yes</td>\n",
       "      <td>DSL</td>\n",
       "      <td>No</td>\n",
       "      <td>Yes</td>\n",
       "      <td>Yes</td>\n",
       "      <td>Yes</td>\n",
       "      <td>Yes</td>\n",
       "      <td>No</td>\n",
       "      <td>Yes</td>\n",
       "    </tr>\n",
       "    <tr>\n",
       "      <th>2775-SEFEE</th>\n",
       "      <td>2020-02-01</td>\n",
       "      <td>No</td>\n",
       "      <td>Two year</td>\n",
       "      <td>Yes</td>\n",
       "      <td>Bank transfer (automatic)</td>\n",
       "      <td>61.90</td>\n",
       "      <td>NaN</td>\n",
       "      <td>Male</td>\n",
       "      <td>0</td>\n",
       "      <td>No</td>\n",
       "      <td>Yes</td>\n",
       "      <td>DSL</td>\n",
       "      <td>Yes</td>\n",
       "      <td>Yes</td>\n",
       "      <td>No</td>\n",
       "      <td>Yes</td>\n",
       "      <td>No</td>\n",
       "      <td>No</td>\n",
       "      <td>Yes</td>\n",
       "    </tr>\n",
       "  </tbody>\n",
       "</table>\n",
       "</div>"
      ],
      "text/plain": [
       "             BeginDate EndDate      Type PaperlessBilling  \\\n",
       "customerID                                                  \n",
       "4472-LVYGI  2020-02-01      No  Two year              Yes   \n",
       "3115-CZMZD  2020-02-01      No  Two year               No   \n",
       "5709-LVOEQ  2020-02-01      No  Two year               No   \n",
       "4367-NUYAO  2020-02-01      No  Two year               No   \n",
       "1371-DWPAZ  2020-02-01      No  Two year               No   \n",
       "7644-OMVMY  2020-02-01      No  Two year               No   \n",
       "3213-VVOLG  2020-02-01      No  Two year               No   \n",
       "2520-SGTTA  2020-02-01      No  Two year               No   \n",
       "2923-ARZLG  2020-02-01      No  One year              Yes   \n",
       "4075-WKNIU  2020-02-01      No  Two year               No   \n",
       "2775-SEFEE  2020-02-01      No  Two year              Yes   \n",
       "\n",
       "                        PaymentMethod  MonthlyCharges  TotalCharges  Gender  \\\n",
       "customerID                                                                    \n",
       "4472-LVYGI  Bank transfer (automatic)           52.55           NaN  Female   \n",
       "3115-CZMZD               Mailed check           20.25           NaN    Male   \n",
       "5709-LVOEQ               Mailed check           80.85           NaN  Female   \n",
       "4367-NUYAO               Mailed check           25.75           NaN    Male   \n",
       "1371-DWPAZ    Credit card (automatic)           56.05           NaN  Female   \n",
       "7644-OMVMY               Mailed check           19.85           NaN    Male   \n",
       "3213-VVOLG               Mailed check           25.35           NaN    Male   \n",
       "2520-SGTTA               Mailed check           20.00           NaN  Female   \n",
       "2923-ARZLG               Mailed check           19.70           NaN    Male   \n",
       "4075-WKNIU               Mailed check           73.35           NaN  Female   \n",
       "2775-SEFEE  Bank transfer (automatic)           61.90           NaN    Male   \n",
       "\n",
       "            SeniorCitizen Partner Dependents InternetService OnlineSecurity  \\\n",
       "customerID                                                                    \n",
       "4472-LVYGI              0     Yes        Yes             DSL            Yes   \n",
       "3115-CZMZD              0      No        Yes             NaN            NaN   \n",
       "5709-LVOEQ              0     Yes        Yes             DSL            Yes   \n",
       "4367-NUYAO              0     Yes        Yes             NaN            NaN   \n",
       "1371-DWPAZ              0     Yes        Yes             DSL            Yes   \n",
       "7644-OMVMY              0     Yes        Yes             NaN            NaN   \n",
       "3213-VVOLG              0     Yes        Yes             NaN            NaN   \n",
       "2520-SGTTA              0     Yes        Yes             NaN            NaN   \n",
       "2923-ARZLG              0     Yes        Yes             NaN            NaN   \n",
       "4075-WKNIU              0     Yes        Yes             DSL             No   \n",
       "2775-SEFEE              0      No        Yes             DSL            Yes   \n",
       "\n",
       "           OnlineBackup DeviceProtection TechSupport StreamingTV  \\\n",
       "customerID                                                         \n",
       "4472-LVYGI           No              Yes         Yes         Yes   \n",
       "3115-CZMZD          NaN              NaN         NaN         NaN   \n",
       "5709-LVOEQ          Yes              Yes          No         Yes   \n",
       "4367-NUYAO          NaN              NaN         NaN         NaN   \n",
       "1371-DWPAZ          Yes              Yes         Yes         Yes   \n",
       "7644-OMVMY          NaN              NaN         NaN         NaN   \n",
       "3213-VVOLG          NaN              NaN         NaN         NaN   \n",
       "2520-SGTTA          NaN              NaN         NaN         NaN   \n",
       "2923-ARZLG          NaN              NaN         NaN         NaN   \n",
       "4075-WKNIU          Yes              Yes         Yes         Yes   \n",
       "2775-SEFEE          Yes               No         Yes          No   \n",
       "\n",
       "           StreamingMovies MultipleLines  \n",
       "customerID                                \n",
       "4472-LVYGI              No           NaN  \n",
       "3115-CZMZD             NaN            No  \n",
       "5709-LVOEQ             Yes            No  \n",
       "4367-NUYAO             NaN           Yes  \n",
       "1371-DWPAZ              No           NaN  \n",
       "7644-OMVMY             NaN            No  \n",
       "3213-VVOLG             NaN           Yes  \n",
       "2520-SGTTA             NaN            No  \n",
       "2923-ARZLG             NaN            No  \n",
       "4075-WKNIU              No           Yes  \n",
       "2775-SEFEE              No           Yes  "
      ]
     },
     "execution_count": 13,
     "metadata": {},
     "output_type": "execute_result"
    }
   ],
   "source": [
    "# TotalCharges - поменяем на тип float: тут есть баг в данных:\n",
    "df['TotalCharges'].isnull().sum()\n",
    "df['TotalCharges'] = pd.to_numeric(df['TotalCharges'], errors='coerce')\n",
    "# Посмотрим, что вызывало ошибку\n",
    "df[df['TotalCharges'].isnull()]"
   ]
  },
  {
   "cell_type": "markdown",
   "id": "5a27ab04",
   "metadata": {},
   "source": [
    "Пропуски 'TotalCharges' обработаем в дальнейшем вместе с остальными пропусками.  "
   ]
  },
  {
   "cell_type": "code",
   "execution_count": 14,
   "id": "fe158679",
   "metadata": {
    "ExecuteTime": {
     "end_time": "2023-01-05T18:18:55.249180Z",
     "start_time": "2023-01-05T18:18:55.225059Z"
    }
   },
   "outputs": [
    {
     "data": {
      "text/html": [
       "<div>\n",
       "<style scoped>\n",
       "    .dataframe tbody tr th:only-of-type {\n",
       "        vertical-align: middle;\n",
       "    }\n",
       "\n",
       "    .dataframe tbody tr th {\n",
       "        vertical-align: top;\n",
       "    }\n",
       "\n",
       "    .dataframe thead th {\n",
       "        text-align: right;\n",
       "    }\n",
       "</style>\n",
       "<table border=\"1\" class=\"dataframe\">\n",
       "  <thead>\n",
       "    <tr style=\"text-align: right;\">\n",
       "      <th></th>\n",
       "      <th>MonthlyCharges</th>\n",
       "      <th>TotalCharges</th>\n",
       "      <th>SeniorCitizen</th>\n",
       "    </tr>\n",
       "  </thead>\n",
       "  <tbody>\n",
       "    <tr>\n",
       "      <th>count</th>\n",
       "      <td>7043.000000</td>\n",
       "      <td>7032.000000</td>\n",
       "      <td>7043.000000</td>\n",
       "    </tr>\n",
       "    <tr>\n",
       "      <th>mean</th>\n",
       "      <td>64.761692</td>\n",
       "      <td>2283.300441</td>\n",
       "      <td>0.162147</td>\n",
       "    </tr>\n",
       "    <tr>\n",
       "      <th>std</th>\n",
       "      <td>30.090047</td>\n",
       "      <td>2266.771362</td>\n",
       "      <td>0.368612</td>\n",
       "    </tr>\n",
       "    <tr>\n",
       "      <th>min</th>\n",
       "      <td>18.250000</td>\n",
       "      <td>18.800000</td>\n",
       "      <td>0.000000</td>\n",
       "    </tr>\n",
       "    <tr>\n",
       "      <th>25%</th>\n",
       "      <td>35.500000</td>\n",
       "      <td>401.450000</td>\n",
       "      <td>0.000000</td>\n",
       "    </tr>\n",
       "    <tr>\n",
       "      <th>50%</th>\n",
       "      <td>70.350000</td>\n",
       "      <td>1397.475000</td>\n",
       "      <td>0.000000</td>\n",
       "    </tr>\n",
       "    <tr>\n",
       "      <th>75%</th>\n",
       "      <td>89.850000</td>\n",
       "      <td>3794.737500</td>\n",
       "      <td>0.000000</td>\n",
       "    </tr>\n",
       "    <tr>\n",
       "      <th>max</th>\n",
       "      <td>118.750000</td>\n",
       "      <td>8684.800000</td>\n",
       "      <td>1.000000</td>\n",
       "    </tr>\n",
       "  </tbody>\n",
       "</table>\n",
       "</div>"
      ],
      "text/plain": [
       "       MonthlyCharges  TotalCharges  SeniorCitizen\n",
       "count     7043.000000   7032.000000    7043.000000\n",
       "mean        64.761692   2283.300441       0.162147\n",
       "std         30.090047   2266.771362       0.368612\n",
       "min         18.250000     18.800000       0.000000\n",
       "25%         35.500000    401.450000       0.000000\n",
       "50%         70.350000   1397.475000       0.000000\n",
       "75%         89.850000   3794.737500       0.000000\n",
       "max        118.750000   8684.800000       1.000000"
      ]
     },
     "execution_count": 14,
     "metadata": {},
     "output_type": "execute_result"
    }
   ],
   "source": [
    "df.describe()"
   ]
  },
  {
   "cell_type": "markdown",
   "id": "928639db",
   "metadata": {},
   "source": [
    "Для лучшего анализа числовых признаков MonthlyCharges и TotalCharges далее мы используем графики (гистограмму и боксплот)."
   ]
  },
  {
   "cell_type": "markdown",
   "id": "7e5daa15",
   "metadata": {},
   "source": [
    "### Шаг 3. Предобработка данных. Обработка пропусков, аномалий, выбросов."
   ]
  },
  {
   "cell_type": "markdown",
   "id": "a2251237",
   "metadata": {},
   "source": [
    "#### 3.1. Обработка пропусков"
   ]
  },
  {
   "cell_type": "markdown",
   "id": "e5eb3cb8",
   "metadata": {},
   "source": [
    "Обработка пропусков  \n",
    "\n",
    "Несколько вариантов:  \n",
    "1. Дропнуть все пропуски и строить модель на остаточных данных. Хотя мы и потеряем 31% данных: - нужно проверить этот вариант и посмотреть на метрики модели. df1 = df.dropna()  \n",
    "2. заполнить пропуски."
   ]
  },
  {
   "cell_type": "markdown",
   "id": "d8eef17f",
   "metadata": {
    "ExecuteTime": {
     "end_time": "2022-09-22T15:48:03.775802Z",
     "start_time": "2022-09-22T15:48:03.729949Z"
    }
   },
   "source": [
    "#вариант #1:  \n",
    "\n",
    "df = df.dropna()  \n",
    "\n",
    " Этот вариант на самом деле не самый плохой: учитывая что мы экономим кучу времени и сил, а результат всего на 1-1.5% хуже, чем при обработке пропусков.  \n",
    " \n"
   ]
  },
  {
   "cell_type": "markdown",
   "id": "bac98b0d",
   "metadata": {},
   "source": [
    "Вариант #2. заполнение пропусков (основной наш путь самурая):"
   ]
  },
  {
   "cell_type": "code",
   "execution_count": 15,
   "id": "970a09e9",
   "metadata": {
    "ExecuteTime": {
     "end_time": "2023-01-05T18:18:59.873154Z",
     "start_time": "2023-01-05T18:18:59.856206Z"
    }
   },
   "outputs": [
    {
     "data": {
      "text/plain": [
       "Fiber optic    0.561175\n",
       "DSL            0.438825\n",
       "Name: InternetService, dtype: float64"
      ]
     },
     "execution_count": 15,
     "metadata": {},
     "output_type": "execute_result"
    }
   ],
   "source": [
    "# Признак \"InternetService\"\n",
    "# Посмотрим на значения признака:\n",
    "df[\"InternetService\"].value_counts(normalize=True)"
   ]
  },
  {
   "cell_type": "code",
   "execution_count": 16,
   "id": "9366c393",
   "metadata": {
    "ExecuteTime": {
     "end_time": "2023-01-05T18:19:02.084934Z",
     "start_time": "2023-01-05T18:19:02.073537Z"
    }
   },
   "outputs": [
    {
     "data": {
      "text/plain": [
       "1526"
      ]
     },
     "execution_count": 16,
     "metadata": {},
     "output_type": "execute_result"
    }
   ],
   "source": [
    "# Посчитаем кол-во пропусков:\n",
    "df[\"InternetService\"].isnull().sum()"
   ]
  },
  {
   "cell_type": "code",
   "execution_count": 17,
   "id": "c3060a86",
   "metadata": {
    "ExecuteTime": {
     "end_time": "2023-01-05T18:19:04.645761Z",
     "start_time": "2023-01-05T18:19:04.628225Z"
    }
   },
   "outputs": [
    {
     "data": {
      "text/plain": [
       "Fiber optic    3096\n",
       "DSL            2421\n",
       "unknown        1526\n",
       "Name: InternetService, dtype: int64"
      ]
     },
     "execution_count": 17,
     "metadata": {},
     "output_type": "execute_result"
    }
   ],
   "source": [
    "# Выделим пропуски в отдельную категорию:\n",
    "df['InternetService'] = df['InternetService'].fillna('unknown')\n",
    "df['InternetService'].value_counts()"
   ]
  },
  {
   "cell_type": "code",
   "execution_count": 18,
   "id": "4f01477a",
   "metadata": {
    "ExecuteTime": {
     "end_time": "2023-01-05T18:19:08.264132Z",
     "start_time": "2023-01-05T18:19:08.249396Z"
    }
   },
   "outputs": [
    {
     "data": {
      "text/plain": [
       "No     3498\n",
       "Yes    2019\n",
       "Name: OnlineSecurity, dtype: int64"
      ]
     },
     "execution_count": 18,
     "metadata": {},
     "output_type": "execute_result"
    }
   ],
   "source": [
    "# посмотрим на пропуски в других признаках:\n",
    "df['OnlineSecurity'].value_counts()"
   ]
  },
  {
   "cell_type": "code",
   "execution_count": 19,
   "id": "120adeb6",
   "metadata": {
    "ExecuteTime": {
     "end_time": "2023-01-05T18:19:09.328348Z",
     "start_time": "2023-01-05T18:19:09.315700Z"
    }
   },
   "outputs": [
    {
     "data": {
      "text/plain": [
       "No     3088\n",
       "Yes    2429\n",
       "Name: OnlineBackup, dtype: int64"
      ]
     },
     "execution_count": 19,
     "metadata": {},
     "output_type": "execute_result"
    }
   ],
   "source": [
    "df['OnlineBackup'].value_counts()"
   ]
  },
  {
   "cell_type": "code",
   "execution_count": 20,
   "id": "8a1b1126",
   "metadata": {
    "ExecuteTime": {
     "end_time": "2023-01-05T18:19:09.942809Z",
     "start_time": "2023-01-05T18:19:09.929182Z"
    }
   },
   "outputs": [
    {
     "data": {
      "text/plain": [
       "No     3095\n",
       "Yes    2422\n",
       "Name: DeviceProtection, dtype: int64"
      ]
     },
     "execution_count": 20,
     "metadata": {},
     "output_type": "execute_result"
    }
   ],
   "source": [
    "df['DeviceProtection'].value_counts()"
   ]
  },
  {
   "cell_type": "code",
   "execution_count": 21,
   "id": "51612547",
   "metadata": {
    "ExecuteTime": {
     "end_time": "2023-01-05T18:19:10.559323Z",
     "start_time": "2023-01-05T18:19:10.546201Z"
    }
   },
   "outputs": [
    {
     "data": {
      "text/plain": [
       "No     3473\n",
       "Yes    2044\n",
       "Name: TechSupport, dtype: int64"
      ]
     },
     "execution_count": 21,
     "metadata": {},
     "output_type": "execute_result"
    }
   ],
   "source": [
    "df['TechSupport'].value_counts()"
   ]
  },
  {
   "cell_type": "code",
   "execution_count": 22,
   "id": "8b8dd754",
   "metadata": {
    "ExecuteTime": {
     "end_time": "2023-01-05T18:19:11.169102Z",
     "start_time": "2023-01-05T18:19:11.158438Z"
    }
   },
   "outputs": [
    {
     "data": {
      "text/plain": [
       "No     2810\n",
       "Yes    2707\n",
       "Name: StreamingTV, dtype: int64"
      ]
     },
     "execution_count": 22,
     "metadata": {},
     "output_type": "execute_result"
    }
   ],
   "source": [
    "df['StreamingTV'].value_counts()"
   ]
  },
  {
   "cell_type": "code",
   "execution_count": 23,
   "id": "ceeb0d52",
   "metadata": {
    "ExecuteTime": {
     "end_time": "2023-01-05T18:19:11.909756Z",
     "start_time": "2023-01-05T18:19:11.896501Z"
    }
   },
   "outputs": [
    {
     "data": {
      "text/plain": [
       "No     2785\n",
       "Yes    2732\n",
       "Name: StreamingMovies, dtype: int64"
      ]
     },
     "execution_count": 23,
     "metadata": {},
     "output_type": "execute_result"
    }
   ],
   "source": [
    "df['StreamingMovies'].value_counts()"
   ]
  },
  {
   "cell_type": "code",
   "execution_count": 24,
   "id": "f1be8378",
   "metadata": {
    "ExecuteTime": {
     "end_time": "2023-01-05T18:19:12.539316Z",
     "start_time": "2023-01-05T18:19:12.527115Z"
    }
   },
   "outputs": [
    {
     "data": {
      "text/plain": [
       "No     3390\n",
       "Yes    2971\n",
       "Name: MultipleLines, dtype: int64"
      ]
     },
     "execution_count": 24,
     "metadata": {},
     "output_type": "execute_result"
    }
   ],
   "source": [
    "df['MultipleLines'].value_counts()"
   ]
  },
  {
   "cell_type": "markdown",
   "id": "fd7aa7c8",
   "metadata": {},
   "source": [
    "Как видим, признаки 'OnlineSecurity', 'OnlineBackup', 'DeviceProtection', 'TechSupport', 'StreamingTV', 'StreamingMovies', 'MultipleLines' имеют значения YES/NO, поэтому можно попробовать пропуски причислить к значению \"No\"."
   ]
  },
  {
   "cell_type": "code",
   "execution_count": 25,
   "id": "ae26dc05",
   "metadata": {
    "ExecuteTime": {
     "end_time": "2023-01-05T18:19:13.871949Z",
     "start_time": "2023-01-05T18:19:13.844397Z"
    }
   },
   "outputs": [],
   "source": [
    "# Заполним указанные пропуски значением \"No\":\n",
    "features_none = [\n",
    "    'OnlineSecurity', 'OnlineBackup', 'DeviceProtection', 'TechSupport',\n",
    "    'StreamingTV', 'StreamingMovies', 'MultipleLines'\n",
    "]\n",
    "df[features_none] = df[features_none].fillna('No')"
   ]
  },
  {
   "cell_type": "code",
   "execution_count": 26,
   "id": "367df6aa",
   "metadata": {
    "ExecuteTime": {
     "end_time": "2023-01-05T18:19:14.540385Z",
     "start_time": "2023-01-05T18:19:14.528109Z"
    }
   },
   "outputs": [],
   "source": [
    "# создадим новый признак, который будет нашим таргетом в дальнейшем:\n",
    "df['target'] = (df['EndDate'] != 'No').astype('int')"
   ]
  },
  {
   "cell_type": "markdown",
   "id": "20fcf51a",
   "metadata": {},
   "source": [
    "Признаки EndDate и BeginDate в целом нам не нужны, но мы можем на их базе создать признак \"Кол-во времени пользования услугами\".   \n",
    "\n",
    "Также помним, что дата окончания сбора инфо - 1 февраля 2020."
   ]
  },
  {
   "cell_type": "code",
   "execution_count": 27,
   "id": "684222cc",
   "metadata": {
    "ExecuteTime": {
     "end_time": "2023-01-05T18:19:29.383312Z",
     "start_time": "2023-01-05T18:19:29.348185Z"
    }
   },
   "outputs": [],
   "source": [
    "df.loc[(df['EndDate'] == 'No'), 'EndDate'] = '2020-02-01'\n",
    "# преобразуем временные данные в соответстующий формат:\n",
    "df['EndDate'] = pd.to_datetime(df['EndDate'])\n",
    "df['BeginDate'] = pd.to_datetime(df['BeginDate'])\n",
    "# Рассчитаем количество дней пользования услугами:\n",
    "df['DaysOfUsage'] = (pd.to_datetime(df['EndDate']) -\n",
    "                     pd.to_datetime(df['BeginDate'])).dt.days\n",
    "df['DaysOfUsage'] = df['DaysOfUsage'].astype('int')"
   ]
  },
  {
   "cell_type": "code",
   "execution_count": 28,
   "id": "f4cb1b8c",
   "metadata": {
    "ExecuteTime": {
     "end_time": "2023-01-05T18:19:35.638813Z",
     "start_time": "2023-01-05T18:19:35.625906Z"
    }
   },
   "outputs": [
    {
     "data": {
      "text/plain": [
       "customerID\n",
       "7590-VHVEG      31\n",
       "5575-GNVDE    1036\n",
       "3668-QPYBK      61\n",
       "7795-CFOCW    1371\n",
       "9237-HQITU      61\n",
       "              ... \n",
       "6840-RESVB     730\n",
       "2234-XADUH    2191\n",
       "4801-JZAZL     337\n",
       "8361-LTMKD     123\n",
       "3186-AJIEK    2010\n",
       "Name: DaysOfUsage, Length: 7043, dtype: int64"
      ]
     },
     "execution_count": 28,
     "metadata": {},
     "output_type": "execute_result"
    }
   ],
   "source": [
    "df['DaysOfUsage']"
   ]
  },
  {
   "cell_type": "code",
   "execution_count": 29,
   "id": "494368a2",
   "metadata": {
    "ExecuteTime": {
     "end_time": "2023-01-05T18:19:37.235126Z",
     "start_time": "2023-01-05T18:19:37.227614Z"
    }
   },
   "outputs": [],
   "source": [
    "# Преобразуем значения признака Gender в числовые значения:\n",
    "df['Gender'] = (df['Gender'] == 'Male').astype('int')"
   ]
  },
  {
   "cell_type": "code",
   "execution_count": 30,
   "id": "8954206a",
   "metadata": {
    "ExecuteTime": {
     "end_time": "2023-01-05T18:19:45.451278Z",
     "start_time": "2023-01-05T18:19:45.423220Z"
    }
   },
   "outputs": [
    {
     "data": {
      "text/html": [
       "<div>\n",
       "<style scoped>\n",
       "    .dataframe tbody tr th:only-of-type {\n",
       "        vertical-align: middle;\n",
       "    }\n",
       "\n",
       "    .dataframe tbody tr th {\n",
       "        vertical-align: top;\n",
       "    }\n",
       "\n",
       "    .dataframe thead th {\n",
       "        text-align: right;\n",
       "    }\n",
       "</style>\n",
       "<table border=\"1\" class=\"dataframe\">\n",
       "  <thead>\n",
       "    <tr style=\"text-align: right;\">\n",
       "      <th></th>\n",
       "      <th>BeginDate</th>\n",
       "      <th>EndDate</th>\n",
       "      <th>Type</th>\n",
       "      <th>PaperlessBilling</th>\n",
       "      <th>PaymentMethod</th>\n",
       "      <th>MonthlyCharges</th>\n",
       "      <th>TotalCharges</th>\n",
       "      <th>Gender</th>\n",
       "      <th>SeniorCitizen</th>\n",
       "      <th>Partner</th>\n",
       "      <th>...</th>\n",
       "      <th>InternetService</th>\n",
       "      <th>OnlineSecurity</th>\n",
       "      <th>OnlineBackup</th>\n",
       "      <th>DeviceProtection</th>\n",
       "      <th>TechSupport</th>\n",
       "      <th>StreamingTV</th>\n",
       "      <th>StreamingMovies</th>\n",
       "      <th>MultipleLines</th>\n",
       "      <th>target</th>\n",
       "      <th>DaysOfUsage</th>\n",
       "    </tr>\n",
       "    <tr>\n",
       "      <th>customerID</th>\n",
       "      <th></th>\n",
       "      <th></th>\n",
       "      <th></th>\n",
       "      <th></th>\n",
       "      <th></th>\n",
       "      <th></th>\n",
       "      <th></th>\n",
       "      <th></th>\n",
       "      <th></th>\n",
       "      <th></th>\n",
       "      <th></th>\n",
       "      <th></th>\n",
       "      <th></th>\n",
       "      <th></th>\n",
       "      <th></th>\n",
       "      <th></th>\n",
       "      <th></th>\n",
       "      <th></th>\n",
       "      <th></th>\n",
       "      <th></th>\n",
       "      <th></th>\n",
       "    </tr>\n",
       "  </thead>\n",
       "  <tbody>\n",
       "    <tr>\n",
       "      <th>7590-VHVEG</th>\n",
       "      <td>2020-01-01</td>\n",
       "      <td>2020-02-01</td>\n",
       "      <td>Month-to-month</td>\n",
       "      <td>Yes</td>\n",
       "      <td>Electronic check</td>\n",
       "      <td>29.85</td>\n",
       "      <td>29.85</td>\n",
       "      <td>0</td>\n",
       "      <td>0</td>\n",
       "      <td>Yes</td>\n",
       "      <td>...</td>\n",
       "      <td>DSL</td>\n",
       "      <td>No</td>\n",
       "      <td>Yes</td>\n",
       "      <td>No</td>\n",
       "      <td>No</td>\n",
       "      <td>No</td>\n",
       "      <td>No</td>\n",
       "      <td>No</td>\n",
       "      <td>0</td>\n",
       "      <td>31</td>\n",
       "    </tr>\n",
       "    <tr>\n",
       "      <th>5575-GNVDE</th>\n",
       "      <td>2017-04-01</td>\n",
       "      <td>2020-02-01</td>\n",
       "      <td>One year</td>\n",
       "      <td>No</td>\n",
       "      <td>Mailed check</td>\n",
       "      <td>56.95</td>\n",
       "      <td>1889.50</td>\n",
       "      <td>1</td>\n",
       "      <td>0</td>\n",
       "      <td>No</td>\n",
       "      <td>...</td>\n",
       "      <td>DSL</td>\n",
       "      <td>Yes</td>\n",
       "      <td>No</td>\n",
       "      <td>Yes</td>\n",
       "      <td>No</td>\n",
       "      <td>No</td>\n",
       "      <td>No</td>\n",
       "      <td>No</td>\n",
       "      <td>0</td>\n",
       "      <td>1036</td>\n",
       "    </tr>\n",
       "    <tr>\n",
       "      <th>3668-QPYBK</th>\n",
       "      <td>2019-10-01</td>\n",
       "      <td>2019-12-01</td>\n",
       "      <td>Month-to-month</td>\n",
       "      <td>Yes</td>\n",
       "      <td>Mailed check</td>\n",
       "      <td>53.85</td>\n",
       "      <td>108.15</td>\n",
       "      <td>1</td>\n",
       "      <td>0</td>\n",
       "      <td>No</td>\n",
       "      <td>...</td>\n",
       "      <td>DSL</td>\n",
       "      <td>Yes</td>\n",
       "      <td>Yes</td>\n",
       "      <td>No</td>\n",
       "      <td>No</td>\n",
       "      <td>No</td>\n",
       "      <td>No</td>\n",
       "      <td>No</td>\n",
       "      <td>1</td>\n",
       "      <td>61</td>\n",
       "    </tr>\n",
       "    <tr>\n",
       "      <th>7795-CFOCW</th>\n",
       "      <td>2016-05-01</td>\n",
       "      <td>2020-02-01</td>\n",
       "      <td>One year</td>\n",
       "      <td>No</td>\n",
       "      <td>Bank transfer (automatic)</td>\n",
       "      <td>42.30</td>\n",
       "      <td>1840.75</td>\n",
       "      <td>1</td>\n",
       "      <td>0</td>\n",
       "      <td>No</td>\n",
       "      <td>...</td>\n",
       "      <td>DSL</td>\n",
       "      <td>Yes</td>\n",
       "      <td>No</td>\n",
       "      <td>Yes</td>\n",
       "      <td>Yes</td>\n",
       "      <td>No</td>\n",
       "      <td>No</td>\n",
       "      <td>No</td>\n",
       "      <td>0</td>\n",
       "      <td>1371</td>\n",
       "    </tr>\n",
       "    <tr>\n",
       "      <th>9237-HQITU</th>\n",
       "      <td>2019-09-01</td>\n",
       "      <td>2019-11-01</td>\n",
       "      <td>Month-to-month</td>\n",
       "      <td>Yes</td>\n",
       "      <td>Electronic check</td>\n",
       "      <td>70.70</td>\n",
       "      <td>151.65</td>\n",
       "      <td>0</td>\n",
       "      <td>0</td>\n",
       "      <td>No</td>\n",
       "      <td>...</td>\n",
       "      <td>Fiber optic</td>\n",
       "      <td>No</td>\n",
       "      <td>No</td>\n",
       "      <td>No</td>\n",
       "      <td>No</td>\n",
       "      <td>No</td>\n",
       "      <td>No</td>\n",
       "      <td>No</td>\n",
       "      <td>1</td>\n",
       "      <td>61</td>\n",
       "    </tr>\n",
       "  </tbody>\n",
       "</table>\n",
       "<p>5 rows × 21 columns</p>\n",
       "</div>"
      ],
      "text/plain": [
       "            BeginDate    EndDate            Type PaperlessBilling  \\\n",
       "customerID                                                          \n",
       "7590-VHVEG 2020-01-01 2020-02-01  Month-to-month              Yes   \n",
       "5575-GNVDE 2017-04-01 2020-02-01        One year               No   \n",
       "3668-QPYBK 2019-10-01 2019-12-01  Month-to-month              Yes   \n",
       "7795-CFOCW 2016-05-01 2020-02-01        One year               No   \n",
       "9237-HQITU 2019-09-01 2019-11-01  Month-to-month              Yes   \n",
       "\n",
       "                        PaymentMethod  MonthlyCharges  TotalCharges  Gender  \\\n",
       "customerID                                                                    \n",
       "7590-VHVEG           Electronic check           29.85         29.85       0   \n",
       "5575-GNVDE               Mailed check           56.95       1889.50       1   \n",
       "3668-QPYBK               Mailed check           53.85        108.15       1   \n",
       "7795-CFOCW  Bank transfer (automatic)           42.30       1840.75       1   \n",
       "9237-HQITU           Electronic check           70.70        151.65       0   \n",
       "\n",
       "            SeniorCitizen Partner  ... InternetService OnlineSecurity  \\\n",
       "customerID                         ...                                  \n",
       "7590-VHVEG              0     Yes  ...             DSL             No   \n",
       "5575-GNVDE              0      No  ...             DSL            Yes   \n",
       "3668-QPYBK              0      No  ...             DSL            Yes   \n",
       "7795-CFOCW              0      No  ...             DSL            Yes   \n",
       "9237-HQITU              0      No  ...     Fiber optic             No   \n",
       "\n",
       "           OnlineBackup DeviceProtection TechSupport StreamingTV  \\\n",
       "customerID                                                         \n",
       "7590-VHVEG          Yes               No          No          No   \n",
       "5575-GNVDE           No              Yes          No          No   \n",
       "3668-QPYBK          Yes               No          No          No   \n",
       "7795-CFOCW           No              Yes         Yes          No   \n",
       "9237-HQITU           No               No          No          No   \n",
       "\n",
       "           StreamingMovies MultipleLines target  DaysOfUsage  \n",
       "customerID                                                    \n",
       "7590-VHVEG              No            No      0           31  \n",
       "5575-GNVDE              No            No      0         1036  \n",
       "3668-QPYBK              No            No      1           61  \n",
       "7795-CFOCW              No            No      0         1371  \n",
       "9237-HQITU              No            No      1           61  \n",
       "\n",
       "[5 rows x 21 columns]"
      ]
     },
     "execution_count": 30,
     "metadata": {},
     "output_type": "execute_result"
    }
   ],
   "source": [
    "df.head()"
   ]
  },
  {
   "cell_type": "code",
   "execution_count": 31,
   "id": "7c8fa71f",
   "metadata": {
    "ExecuteTime": {
     "end_time": "2023-01-05T18:19:51.410430Z",
     "start_time": "2023-01-05T18:19:51.379004Z"
    }
   },
   "outputs": [],
   "source": [
    "# заменим все значения в категориальный признаках (Yes/No) числовыми:\n",
    "for column in df:\n",
    "    tmp = df[column].unique()\n",
    "    tmp.sort()\n",
    "    if list(tmp) == ['No', 'Yes']:\n",
    "        df[column] = (df[column] == 'Yes').astype('int')\n",
    "        df[column] = df[column].astype('int')"
   ]
  },
  {
   "cell_type": "code",
   "execution_count": 32,
   "id": "c1b7fe72",
   "metadata": {
    "ExecuteTime": {
     "end_time": "2023-01-05T18:19:55.122997Z",
     "start_time": "2023-01-05T18:19:55.107187Z"
    }
   },
   "outputs": [
    {
     "data": {
      "text/plain": [
       "array([  29.85, 1889.5 ,  108.15, ...,  346.45,  306.6 , 6844.5 ])"
      ]
     },
     "execution_count": 32,
     "metadata": {},
     "output_type": "execute_result"
    }
   ],
   "source": [
    "df['TotalCharges'].unique()"
   ]
  },
  {
   "cell_type": "code",
   "execution_count": 33,
   "id": "95679ef1",
   "metadata": {
    "ExecuteTime": {
     "end_time": "2023-01-05T18:19:55.919040Z",
     "start_time": "2023-01-05T18:19:55.910766Z"
    }
   },
   "outputs": [],
   "source": [
    "#  пропуски TotalCharges заполним нулями, т.к. это скорее всего O руб.:\n",
    "df['TotalCharges'] = df['TotalCharges'].fillna(0)"
   ]
  },
  {
   "cell_type": "code",
   "execution_count": 34,
   "id": "e2bc78d4",
   "metadata": {
    "ExecuteTime": {
     "end_time": "2023-01-05T18:20:01.856455Z",
     "start_time": "2023-01-05T18:20:01.846998Z"
    }
   },
   "outputs": [],
   "source": [
    "# Удалим BeginDate и EndDate, они нам больше не понадобятся\n",
    "del df['BeginDate'], df['EndDate']"
   ]
  },
  {
   "cell_type": "code",
   "execution_count": 35,
   "id": "f7c5375d",
   "metadata": {
    "ExecuteTime": {
     "end_time": "2023-01-05T18:20:04.519262Z",
     "start_time": "2023-01-05T18:20:04.490330Z"
    }
   },
   "outputs": [
    {
     "name": "stdout",
     "output_type": "stream",
     "text": [
      "<class 'pandas.core.frame.DataFrame'>\n",
      "Index: 7043 entries, 7590-VHVEG to 3186-AJIEK\n",
      "Data columns (total 19 columns):\n",
      " #   Column            Non-Null Count  Dtype  \n",
      "---  ------            --------------  -----  \n",
      " 0   Type              7043 non-null   object \n",
      " 1   PaperlessBilling  7043 non-null   int64  \n",
      " 2   PaymentMethod     7043 non-null   object \n",
      " 3   MonthlyCharges    7043 non-null   float64\n",
      " 4   TotalCharges      7043 non-null   float64\n",
      " 5   Gender            7043 non-null   int64  \n",
      " 6   SeniorCitizen     7043 non-null   int64  \n",
      " 7   Partner           7043 non-null   int64  \n",
      " 8   Dependents        7043 non-null   int64  \n",
      " 9   InternetService   7043 non-null   object \n",
      " 10  OnlineSecurity    7043 non-null   int64  \n",
      " 11  OnlineBackup      7043 non-null   int64  \n",
      " 12  DeviceProtection  7043 non-null   int64  \n",
      " 13  TechSupport       7043 non-null   int64  \n",
      " 14  StreamingTV       7043 non-null   int64  \n",
      " 15  StreamingMovies   7043 non-null   int64  \n",
      " 16  MultipleLines     7043 non-null   int64  \n",
      " 17  target            7043 non-null   int64  \n",
      " 18  DaysOfUsage       7043 non-null   int64  \n",
      "dtypes: float64(2), int64(14), object(3)\n",
      "memory usage: 1.3+ MB\n"
     ]
    }
   ],
   "source": [
    "#посмотрим итоговый результат:\n",
    "df.info()"
   ]
  },
  {
   "cell_type": "code",
   "execution_count": 36,
   "id": "b39bd611",
   "metadata": {
    "ExecuteTime": {
     "end_time": "2023-01-05T18:20:16.614121Z",
     "start_time": "2023-01-05T18:20:16.590216Z"
    }
   },
   "outputs": [
    {
     "data": {
      "text/html": [
       "<div>\n",
       "<style scoped>\n",
       "    .dataframe tbody tr th:only-of-type {\n",
       "        vertical-align: middle;\n",
       "    }\n",
       "\n",
       "    .dataframe tbody tr th {\n",
       "        vertical-align: top;\n",
       "    }\n",
       "\n",
       "    .dataframe thead th {\n",
       "        text-align: right;\n",
       "    }\n",
       "</style>\n",
       "<table border=\"1\" class=\"dataframe\">\n",
       "  <thead>\n",
       "    <tr style=\"text-align: right;\">\n",
       "      <th></th>\n",
       "      <th>Type</th>\n",
       "      <th>PaperlessBilling</th>\n",
       "      <th>PaymentMethod</th>\n",
       "      <th>MonthlyCharges</th>\n",
       "      <th>TotalCharges</th>\n",
       "      <th>Gender</th>\n",
       "      <th>SeniorCitizen</th>\n",
       "      <th>Partner</th>\n",
       "      <th>Dependents</th>\n",
       "      <th>InternetService</th>\n",
       "      <th>OnlineSecurity</th>\n",
       "      <th>OnlineBackup</th>\n",
       "      <th>DeviceProtection</th>\n",
       "      <th>TechSupport</th>\n",
       "      <th>StreamingTV</th>\n",
       "      <th>StreamingMovies</th>\n",
       "      <th>MultipleLines</th>\n",
       "      <th>target</th>\n",
       "      <th>DaysOfUsage</th>\n",
       "    </tr>\n",
       "    <tr>\n",
       "      <th>customerID</th>\n",
       "      <th></th>\n",
       "      <th></th>\n",
       "      <th></th>\n",
       "      <th></th>\n",
       "      <th></th>\n",
       "      <th></th>\n",
       "      <th></th>\n",
       "      <th></th>\n",
       "      <th></th>\n",
       "      <th></th>\n",
       "      <th></th>\n",
       "      <th></th>\n",
       "      <th></th>\n",
       "      <th></th>\n",
       "      <th></th>\n",
       "      <th></th>\n",
       "      <th></th>\n",
       "      <th></th>\n",
       "      <th></th>\n",
       "    </tr>\n",
       "  </thead>\n",
       "  <tbody>\n",
       "    <tr>\n",
       "      <th>7590-VHVEG</th>\n",
       "      <td>Month-to-month</td>\n",
       "      <td>1</td>\n",
       "      <td>Electronic check</td>\n",
       "      <td>29.85</td>\n",
       "      <td>29.85</td>\n",
       "      <td>0</td>\n",
       "      <td>0</td>\n",
       "      <td>1</td>\n",
       "      <td>0</td>\n",
       "      <td>DSL</td>\n",
       "      <td>0</td>\n",
       "      <td>1</td>\n",
       "      <td>0</td>\n",
       "      <td>0</td>\n",
       "      <td>0</td>\n",
       "      <td>0</td>\n",
       "      <td>0</td>\n",
       "      <td>0</td>\n",
       "      <td>31</td>\n",
       "    </tr>\n",
       "    <tr>\n",
       "      <th>5575-GNVDE</th>\n",
       "      <td>One year</td>\n",
       "      <td>0</td>\n",
       "      <td>Mailed check</td>\n",
       "      <td>56.95</td>\n",
       "      <td>1889.50</td>\n",
       "      <td>1</td>\n",
       "      <td>0</td>\n",
       "      <td>0</td>\n",
       "      <td>0</td>\n",
       "      <td>DSL</td>\n",
       "      <td>1</td>\n",
       "      <td>0</td>\n",
       "      <td>1</td>\n",
       "      <td>0</td>\n",
       "      <td>0</td>\n",
       "      <td>0</td>\n",
       "      <td>0</td>\n",
       "      <td>0</td>\n",
       "      <td>1036</td>\n",
       "    </tr>\n",
       "    <tr>\n",
       "      <th>3668-QPYBK</th>\n",
       "      <td>Month-to-month</td>\n",
       "      <td>1</td>\n",
       "      <td>Mailed check</td>\n",
       "      <td>53.85</td>\n",
       "      <td>108.15</td>\n",
       "      <td>1</td>\n",
       "      <td>0</td>\n",
       "      <td>0</td>\n",
       "      <td>0</td>\n",
       "      <td>DSL</td>\n",
       "      <td>1</td>\n",
       "      <td>1</td>\n",
       "      <td>0</td>\n",
       "      <td>0</td>\n",
       "      <td>0</td>\n",
       "      <td>0</td>\n",
       "      <td>0</td>\n",
       "      <td>1</td>\n",
       "      <td>61</td>\n",
       "    </tr>\n",
       "    <tr>\n",
       "      <th>7795-CFOCW</th>\n",
       "      <td>One year</td>\n",
       "      <td>0</td>\n",
       "      <td>Bank transfer (automatic)</td>\n",
       "      <td>42.30</td>\n",
       "      <td>1840.75</td>\n",
       "      <td>1</td>\n",
       "      <td>0</td>\n",
       "      <td>0</td>\n",
       "      <td>0</td>\n",
       "      <td>DSL</td>\n",
       "      <td>1</td>\n",
       "      <td>0</td>\n",
       "      <td>1</td>\n",
       "      <td>1</td>\n",
       "      <td>0</td>\n",
       "      <td>0</td>\n",
       "      <td>0</td>\n",
       "      <td>0</td>\n",
       "      <td>1371</td>\n",
       "    </tr>\n",
       "    <tr>\n",
       "      <th>9237-HQITU</th>\n",
       "      <td>Month-to-month</td>\n",
       "      <td>1</td>\n",
       "      <td>Electronic check</td>\n",
       "      <td>70.70</td>\n",
       "      <td>151.65</td>\n",
       "      <td>0</td>\n",
       "      <td>0</td>\n",
       "      <td>0</td>\n",
       "      <td>0</td>\n",
       "      <td>Fiber optic</td>\n",
       "      <td>0</td>\n",
       "      <td>0</td>\n",
       "      <td>0</td>\n",
       "      <td>0</td>\n",
       "      <td>0</td>\n",
       "      <td>0</td>\n",
       "      <td>0</td>\n",
       "      <td>1</td>\n",
       "      <td>61</td>\n",
       "    </tr>\n",
       "  </tbody>\n",
       "</table>\n",
       "</div>"
      ],
      "text/plain": [
       "                      Type  PaperlessBilling              PaymentMethod  \\\n",
       "customerID                                                                \n",
       "7590-VHVEG  Month-to-month                 1           Electronic check   \n",
       "5575-GNVDE        One year                 0               Mailed check   \n",
       "3668-QPYBK  Month-to-month                 1               Mailed check   \n",
       "7795-CFOCW        One year                 0  Bank transfer (automatic)   \n",
       "9237-HQITU  Month-to-month                 1           Electronic check   \n",
       "\n",
       "            MonthlyCharges  TotalCharges  Gender  SeniorCitizen  Partner  \\\n",
       "customerID                                                                 \n",
       "7590-VHVEG           29.85         29.85       0              0        1   \n",
       "5575-GNVDE           56.95       1889.50       1              0        0   \n",
       "3668-QPYBK           53.85        108.15       1              0        0   \n",
       "7795-CFOCW           42.30       1840.75       1              0        0   \n",
       "9237-HQITU           70.70        151.65       0              0        0   \n",
       "\n",
       "            Dependents InternetService  OnlineSecurity  OnlineBackup  \\\n",
       "customerID                                                             \n",
       "7590-VHVEG           0             DSL               0             1   \n",
       "5575-GNVDE           0             DSL               1             0   \n",
       "3668-QPYBK           0             DSL               1             1   \n",
       "7795-CFOCW           0             DSL               1             0   \n",
       "9237-HQITU           0     Fiber optic               0             0   \n",
       "\n",
       "            DeviceProtection  TechSupport  StreamingTV  StreamingMovies  \\\n",
       "customerID                                                                \n",
       "7590-VHVEG                 0            0            0                0   \n",
       "5575-GNVDE                 1            0            0                0   \n",
       "3668-QPYBK                 0            0            0                0   \n",
       "7795-CFOCW                 1            1            0                0   \n",
       "9237-HQITU                 0            0            0                0   \n",
       "\n",
       "            MultipleLines  target  DaysOfUsage  \n",
       "customerID                                      \n",
       "7590-VHVEG              0       0           31  \n",
       "5575-GNVDE              0       0         1036  \n",
       "3668-QPYBK              0       1           61  \n",
       "7795-CFOCW              0       0         1371  \n",
       "9237-HQITU              0       1           61  "
      ]
     },
     "execution_count": 36,
     "metadata": {},
     "output_type": "execute_result"
    }
   ],
   "source": [
    "df.head()"
   ]
  },
  {
   "cell_type": "markdown",
   "id": "1ecac184",
   "metadata": {},
   "source": [
    "Наши категориальные преобразуем  признаки с помощью OHE преобразуем перед построением модели, но сперва проведем анализ данных."
   ]
  },
  {
   "cell_type": "markdown",
   "id": "7ff120e9",
   "metadata": {},
   "source": [
    "### Шаг 4. Анализ данных (посмотреть зависимости признаков между собой и таргетом, вузализация данных, предварительные выводы)"
   ]
  },
  {
   "cell_type": "code",
   "execution_count": 37,
   "id": "7b392263",
   "metadata": {
    "ExecuteTime": {
     "end_time": "2023-01-05T18:20:23.007079Z",
     "start_time": "2023-01-05T18:20:22.907167Z"
    }
   },
   "outputs": [
    {
     "data": {
      "image/png": "[encoded data removed]",
      "text/plain": [
       "<Figure size 864x432 with 1 Axes>"
      ]
     },
     "metadata": {
      "needs_background": "light"
     },
     "output_type": "display_data"
    }
   ],
   "source": [
    "# Проверим баланс классов по target:\n",
    "fig, ax = plt.subplots(1)\n",
    "ax.set_title('Распределение целевого признака')\n",
    "ax.set_xlabel('labels')\n",
    "ax.set_ylabel('counts')\n",
    "df['target'].value_counts().plot(kind='bar', figsize=(12, 6), ax=ax)\n",
    "plt.show()"
   ]
  },
  {
   "cell_type": "markdown",
   "id": "6fb02246",
   "metadata": {},
   "source": [
    "Налицо сильный дисбаланс классов, поэтому при построении модели будем это учитывать.\n",
    "Будем использовать class_weigth непосредственно в модели и upsampling. \n"
   ]
  },
  {
   "cell_type": "code",
   "execution_count": 38,
   "id": "19237cd2",
   "metadata": {
    "ExecuteTime": {
     "end_time": "2023-01-05T18:20:31.434955Z",
     "start_time": "2023-01-05T18:20:31.198771Z"
    }
   },
   "outputs": [
    {
     "data": {
      "image/png": "[encoded data removed]",
      "text/plain": [
       "<Figure size 1152x432 with 3 Axes>"
      ]
     },
     "metadata": {
      "needs_background": "light"
     },
     "output_type": "display_data"
    }
   ],
   "source": [
    "# Построим гистограмму для оценки распределения данных среди числовым признаков:\n",
    "plt.figure(figsize=(16, 6))\n",
    "numeric_names = [\"MonthlyCharges\", \"TotalCharges\", \"DaysOfUsage\"]\n",
    "counter = 0\n",
    "numeric_len = len(numeric_names)\n",
    "for feature in numeric_names:\n",
    "    counter += 1\n",
    "    plt.subplot(1, numeric_len, counter)\n",
    "    plt.hist(df[feature])\n",
    "    plt.title(feature)"
   ]
  },
  {
   "cell_type": "markdown",
   "id": "2ac630bd",
   "metadata": {},
   "source": [
    "Много значений 0 в признаках, это связано с новыми клиентами, которые не успели еще \"наработать\" данных."
   ]
  },
  {
   "cell_type": "code",
   "execution_count": 39,
   "id": "df74d67f",
   "metadata": {
    "ExecuteTime": {
     "end_time": "2023-01-05T18:20:35.478225Z",
     "start_time": "2023-01-05T18:20:35.247968Z"
    },
    "scrolled": true
   },
   "outputs": [
    {
     "data": {
      "image/png": "[encoded data removed]",
      "text/plain": [
       "<Figure size 1152x432 with 3 Axes>"
      ]
     },
     "metadata": {
      "needs_background": "light"
     },
     "output_type": "display_data"
    }
   ],
   "source": [
    "# Построим boxplot для оценки выбросов для числовых признаков:\n",
    "plt.figure(figsize=(16, 6))\n",
    "numeric_names = [\"MonthlyCharges\", \"TotalCharges\", \"DaysOfUsage\"]\n",
    "counter = 0\n",
    "numeric_len = len(numeric_names)\n",
    "for feature in numeric_names:\n",
    "    counter += 1\n",
    "    plt.subplot(1, numeric_len, counter)\n",
    "    plt.boxplot(df[feature])\n",
    "    plt.title(feature)"
   ]
  },
  {
   "cell_type": "markdown",
   "id": "c3a01218",
   "metadata": {
    "ExecuteTime": {
     "end_time": "2022-09-22T12:24:47.950950Z",
     "start_time": "2022-09-22T12:24:47.942944Z"
    }
   },
   "source": [
    "Как видим, выбросов у числовых признаков нет. Это хорошо.  \n",
    "\n",
    "Есть много значений 0, но это связано с  новыми  пользователями и их нулевыми показателями."
   ]
  },
  {
   "cell_type": "markdown",
   "id": "6a741d99",
   "metadata": {
    "ExecuteTime": {
     "end_time": "2022-09-22T13:52:35.660408Z",
     "start_time": "2022-09-22T13:52:35.652017Z"
    }
   },
   "source": [
    "Посчитаем корреляцию Phik для признаков: она поможет выявить наличие  мультиколеарности и отобрать существенные признаки для обучения модели, удалить лишние признаки."
   ]
  },
  {
   "cell_type": "code",
   "execution_count": 40,
   "id": "7df29b5c",
   "metadata": {
    "ExecuteTime": {
     "end_time": "2023-01-05T18:20:42.272296Z",
     "start_time": "2023-01-05T18:20:39.506406Z"
    }
   },
   "outputs": [
    {
     "name": "stdout",
     "output_type": "stream",
     "text": [
      "interval columns not set, guessing: ['PaperlessBilling', 'MonthlyCharges', 'TotalCharges', 'Gender', 'SeniorCitizen', 'Partner', 'Dependents', 'OnlineSecurity', 'OnlineBackup', 'DeviceProtection', 'TechSupport', 'StreamingTV', 'StreamingMovies', 'MultipleLines', 'target', 'DaysOfUsage']\n"
     ]
    },
    {
     "data": {
      "text/html": [
       "<div>\n",
       "<style scoped>\n",
       "    .dataframe tbody tr th:only-of-type {\n",
       "        vertical-align: middle;\n",
       "    }\n",
       "\n",
       "    .dataframe tbody tr th {\n",
       "        vertical-align: top;\n",
       "    }\n",
       "\n",
       "    .dataframe thead th {\n",
       "        text-align: right;\n",
       "    }\n",
       "</style>\n",
       "<table border=\"1\" class=\"dataframe\">\n",
       "  <thead>\n",
       "    <tr style=\"text-align: right;\">\n",
       "      <th></th>\n",
       "      <th>Type</th>\n",
       "      <th>PaperlessBilling</th>\n",
       "      <th>PaymentMethod</th>\n",
       "      <th>MonthlyCharges</th>\n",
       "      <th>TotalCharges</th>\n",
       "      <th>Gender</th>\n",
       "      <th>SeniorCitizen</th>\n",
       "      <th>Partner</th>\n",
       "      <th>Dependents</th>\n",
       "      <th>InternetService</th>\n",
       "      <th>OnlineSecurity</th>\n",
       "      <th>OnlineBackup</th>\n",
       "      <th>DeviceProtection</th>\n",
       "      <th>TechSupport</th>\n",
       "      <th>StreamingTV</th>\n",
       "      <th>StreamingMovies</th>\n",
       "      <th>MultipleLines</th>\n",
       "      <th>target</th>\n",
       "      <th>DaysOfUsage</th>\n",
       "    </tr>\n",
       "  </thead>\n",
       "  <tbody>\n",
       "    <tr>\n",
       "      <th>Type</th>\n",
       "      <td>1.00</td>\n",
       "      <td>0.11</td>\n",
       "      <td>0.28</td>\n",
       "      <td>0.39</td>\n",
       "      <td>0.51</td>\n",
       "      <td>0.00</td>\n",
       "      <td>0.09</td>\n",
       "      <td>0.18</td>\n",
       "      <td>0.15</td>\n",
       "      <td>0.51</td>\n",
       "      <td>0.15</td>\n",
       "      <td>0.10</td>\n",
       "      <td>0.14</td>\n",
       "      <td>0.18</td>\n",
       "      <td>0.07</td>\n",
       "      <td>0.07</td>\n",
       "      <td>0.07</td>\n",
       "      <td>0.25</td>\n",
       "      <td>0.66</td>\n",
       "    </tr>\n",
       "    <tr>\n",
       "      <th>PaperlessBilling</th>\n",
       "      <td>0.11</td>\n",
       "      <td>1.00</td>\n",
       "      <td>0.37</td>\n",
       "      <td>0.47</td>\n",
       "      <td>0.21</td>\n",
       "      <td>0.00</td>\n",
       "      <td>0.24</td>\n",
       "      <td>0.01</td>\n",
       "      <td>0.17</td>\n",
       "      <td>0.23</td>\n",
       "      <td>0.00</td>\n",
       "      <td>0.20</td>\n",
       "      <td>0.16</td>\n",
       "      <td>0.06</td>\n",
       "      <td>0.34</td>\n",
       "      <td>0.33</td>\n",
       "      <td>0.25</td>\n",
       "      <td>0.30</td>\n",
       "      <td>0.00</td>\n",
       "    </tr>\n",
       "    <tr>\n",
       "      <th>PaymentMethod</th>\n",
       "      <td>0.28</td>\n",
       "      <td>0.37</td>\n",
       "      <td>1.00</td>\n",
       "      <td>0.40</td>\n",
       "      <td>0.35</td>\n",
       "      <td>0.00</td>\n",
       "      <td>0.29</td>\n",
       "      <td>0.24</td>\n",
       "      <td>0.22</td>\n",
       "      <td>0.32</td>\n",
       "      <td>0.26</td>\n",
       "      <td>0.28</td>\n",
       "      <td>0.31</td>\n",
       "      <td>0.27</td>\n",
       "      <td>0.38</td>\n",
       "      <td>0.38</td>\n",
       "      <td>0.34</td>\n",
       "      <td>0.45</td>\n",
       "      <td>0.38</td>\n",
       "    </tr>\n",
       "    <tr>\n",
       "      <th>MonthlyCharges</th>\n",
       "      <td>0.39</td>\n",
       "      <td>0.47</td>\n",
       "      <td>0.40</td>\n",
       "      <td>1.00</td>\n",
       "      <td>0.76</td>\n",
       "      <td>0.01</td>\n",
       "      <td>0.30</td>\n",
       "      <td>0.20</td>\n",
       "      <td>0.18</td>\n",
       "      <td>0.92</td>\n",
       "      <td>0.55</td>\n",
       "      <td>0.63</td>\n",
       "      <td>0.67</td>\n",
       "      <td>0.58</td>\n",
       "      <td>0.84</td>\n",
       "      <td>0.83</td>\n",
       "      <td>0.68</td>\n",
       "      <td>0.36</td>\n",
       "      <td>0.41</td>\n",
       "    </tr>\n",
       "    <tr>\n",
       "      <th>TotalCharges</th>\n",
       "      <td>0.51</td>\n",
       "      <td>0.21</td>\n",
       "      <td>0.35</td>\n",
       "      <td>0.76</td>\n",
       "      <td>1.00</td>\n",
       "      <td>0.00</td>\n",
       "      <td>0.15</td>\n",
       "      <td>0.42</td>\n",
       "      <td>0.12</td>\n",
       "      <td>0.51</td>\n",
       "      <td>0.55</td>\n",
       "      <td>0.65</td>\n",
       "      <td>0.67</td>\n",
       "      <td>0.57</td>\n",
       "      <td>0.66</td>\n",
       "      <td>0.67</td>\n",
       "      <td>0.61</td>\n",
       "      <td>0.28</td>\n",
       "      <td>0.84</td>\n",
       "    </tr>\n",
       "    <tr>\n",
       "      <th>Gender</th>\n",
       "      <td>0.00</td>\n",
       "      <td>0.00</td>\n",
       "      <td>0.00</td>\n",
       "      <td>0.01</td>\n",
       "      <td>0.00</td>\n",
       "      <td>1.00</td>\n",
       "      <td>0.00</td>\n",
       "      <td>0.00</td>\n",
       "      <td>0.00</td>\n",
       "      <td>0.00</td>\n",
       "      <td>0.02</td>\n",
       "      <td>0.01</td>\n",
       "      <td>0.00</td>\n",
       "      <td>0.00</td>\n",
       "      <td>0.00</td>\n",
       "      <td>0.00</td>\n",
       "      <td>0.00</td>\n",
       "      <td>0.00</td>\n",
       "      <td>0.00</td>\n",
       "    </tr>\n",
       "    <tr>\n",
       "      <th>SeniorCitizen</th>\n",
       "      <td>0.09</td>\n",
       "      <td>0.24</td>\n",
       "      <td>0.29</td>\n",
       "      <td>0.30</td>\n",
       "      <td>0.15</td>\n",
       "      <td>0.00</td>\n",
       "      <td>1.00</td>\n",
       "      <td>0.02</td>\n",
       "      <td>0.32</td>\n",
       "      <td>0.16</td>\n",
       "      <td>0.06</td>\n",
       "      <td>0.10</td>\n",
       "      <td>0.09</td>\n",
       "      <td>0.09</td>\n",
       "      <td>0.16</td>\n",
       "      <td>0.19</td>\n",
       "      <td>0.22</td>\n",
       "      <td>0.23</td>\n",
       "      <td>0.03</td>\n",
       "    </tr>\n",
       "    <tr>\n",
       "      <th>Partner</th>\n",
       "      <td>0.18</td>\n",
       "      <td>0.01</td>\n",
       "      <td>0.24</td>\n",
       "      <td>0.20</td>\n",
       "      <td>0.42</td>\n",
       "      <td>0.00</td>\n",
       "      <td>0.02</td>\n",
       "      <td>1.00</td>\n",
       "      <td>0.65</td>\n",
       "      <td>0.00</td>\n",
       "      <td>0.22</td>\n",
       "      <td>0.22</td>\n",
       "      <td>0.24</td>\n",
       "      <td>0.19</td>\n",
       "      <td>0.19</td>\n",
       "      <td>0.18</td>\n",
       "      <td>0.22</td>\n",
       "      <td>0.23</td>\n",
       "      <td>0.49</td>\n",
       "    </tr>\n",
       "    <tr>\n",
       "      <th>Dependents</th>\n",
       "      <td>0.15</td>\n",
       "      <td>0.17</td>\n",
       "      <td>0.22</td>\n",
       "      <td>0.18</td>\n",
       "      <td>0.12</td>\n",
       "      <td>0.00</td>\n",
       "      <td>0.32</td>\n",
       "      <td>0.65</td>\n",
       "      <td>1.00</td>\n",
       "      <td>0.11</td>\n",
       "      <td>0.12</td>\n",
       "      <td>0.03</td>\n",
       "      <td>0.01</td>\n",
       "      <td>0.10</td>\n",
       "      <td>0.02</td>\n",
       "      <td>0.06</td>\n",
       "      <td>0.03</td>\n",
       "      <td>0.25</td>\n",
       "      <td>0.21</td>\n",
       "    </tr>\n",
       "    <tr>\n",
       "      <th>InternetService</th>\n",
       "      <td>0.51</td>\n",
       "      <td>0.23</td>\n",
       "      <td>0.32</td>\n",
       "      <td>0.92</td>\n",
       "      <td>0.51</td>\n",
       "      <td>0.00</td>\n",
       "      <td>0.16</td>\n",
       "      <td>0.00</td>\n",
       "      <td>0.11</td>\n",
       "      <td>1.00</td>\n",
       "      <td>0.24</td>\n",
       "      <td>0.23</td>\n",
       "      <td>0.23</td>\n",
       "      <td>0.24</td>\n",
       "      <td>0.27</td>\n",
       "      <td>0.27</td>\n",
       "      <td>0.23</td>\n",
       "      <td>0.20</td>\n",
       "      <td>0.02</td>\n",
       "    </tr>\n",
       "    <tr>\n",
       "      <th>OnlineSecurity</th>\n",
       "      <td>0.15</td>\n",
       "      <td>0.00</td>\n",
       "      <td>0.26</td>\n",
       "      <td>0.55</td>\n",
       "      <td>0.55</td>\n",
       "      <td>0.02</td>\n",
       "      <td>0.06</td>\n",
       "      <td>0.22</td>\n",
       "      <td>0.12</td>\n",
       "      <td>0.24</td>\n",
       "      <td>1.00</td>\n",
       "      <td>0.43</td>\n",
       "      <td>0.42</td>\n",
       "      <td>0.53</td>\n",
       "      <td>0.27</td>\n",
       "      <td>0.29</td>\n",
       "      <td>0.15</td>\n",
       "      <td>0.26</td>\n",
       "      <td>0.42</td>\n",
       "    </tr>\n",
       "    <tr>\n",
       "      <th>OnlineBackup</th>\n",
       "      <td>0.10</td>\n",
       "      <td>0.20</td>\n",
       "      <td>0.28</td>\n",
       "      <td>0.63</td>\n",
       "      <td>0.65</td>\n",
       "      <td>0.01</td>\n",
       "      <td>0.10</td>\n",
       "      <td>0.22</td>\n",
       "      <td>0.03</td>\n",
       "      <td>0.23</td>\n",
       "      <td>0.43</td>\n",
       "      <td>1.00</td>\n",
       "      <td>0.46</td>\n",
       "      <td>0.45</td>\n",
       "      <td>0.43</td>\n",
       "      <td>0.42</td>\n",
       "      <td>0.31</td>\n",
       "      <td>0.13</td>\n",
       "      <td>0.47</td>\n",
       "    </tr>\n",
       "    <tr>\n",
       "      <th>DeviceProtection</th>\n",
       "      <td>0.14</td>\n",
       "      <td>0.16</td>\n",
       "      <td>0.31</td>\n",
       "      <td>0.67</td>\n",
       "      <td>0.67</td>\n",
       "      <td>0.00</td>\n",
       "      <td>0.09</td>\n",
       "      <td>0.24</td>\n",
       "      <td>0.01</td>\n",
       "      <td>0.23</td>\n",
       "      <td>0.42</td>\n",
       "      <td>0.46</td>\n",
       "      <td>1.00</td>\n",
       "      <td>0.50</td>\n",
       "      <td>0.58</td>\n",
       "      <td>0.59</td>\n",
       "      <td>0.31</td>\n",
       "      <td>0.10</td>\n",
       "      <td>0.47</td>\n",
       "    </tr>\n",
       "    <tr>\n",
       "      <th>TechSupport</th>\n",
       "      <td>0.18</td>\n",
       "      <td>0.06</td>\n",
       "      <td>0.27</td>\n",
       "      <td>0.58</td>\n",
       "      <td>0.57</td>\n",
       "      <td>0.00</td>\n",
       "      <td>0.09</td>\n",
       "      <td>0.19</td>\n",
       "      <td>0.10</td>\n",
       "      <td>0.24</td>\n",
       "      <td>0.53</td>\n",
       "      <td>0.45</td>\n",
       "      <td>0.50</td>\n",
       "      <td>1.00</td>\n",
       "      <td>0.42</td>\n",
       "      <td>0.42</td>\n",
       "      <td>0.16</td>\n",
       "      <td>0.25</td>\n",
       "      <td>0.42</td>\n",
       "    </tr>\n",
       "    <tr>\n",
       "      <th>StreamingTV</th>\n",
       "      <td>0.07</td>\n",
       "      <td>0.34</td>\n",
       "      <td>0.38</td>\n",
       "      <td>0.84</td>\n",
       "      <td>0.66</td>\n",
       "      <td>0.00</td>\n",
       "      <td>0.16</td>\n",
       "      <td>0.19</td>\n",
       "      <td>0.02</td>\n",
       "      <td>0.27</td>\n",
       "      <td>0.27</td>\n",
       "      <td>0.43</td>\n",
       "      <td>0.58</td>\n",
       "      <td>0.42</td>\n",
       "      <td>1.00</td>\n",
       "      <td>0.74</td>\n",
       "      <td>0.39</td>\n",
       "      <td>0.10</td>\n",
       "      <td>0.36</td>\n",
       "    </tr>\n",
       "    <tr>\n",
       "      <th>StreamingMovies</th>\n",
       "      <td>0.07</td>\n",
       "      <td>0.33</td>\n",
       "      <td>0.38</td>\n",
       "      <td>0.83</td>\n",
       "      <td>0.67</td>\n",
       "      <td>0.00</td>\n",
       "      <td>0.19</td>\n",
       "      <td>0.18</td>\n",
       "      <td>0.06</td>\n",
       "      <td>0.27</td>\n",
       "      <td>0.29</td>\n",
       "      <td>0.42</td>\n",
       "      <td>0.59</td>\n",
       "      <td>0.42</td>\n",
       "      <td>0.74</td>\n",
       "      <td>1.00</td>\n",
       "      <td>0.39</td>\n",
       "      <td>0.09</td>\n",
       "      <td>0.37</td>\n",
       "    </tr>\n",
       "    <tr>\n",
       "      <th>MultipleLines</th>\n",
       "      <td>0.07</td>\n",
       "      <td>0.25</td>\n",
       "      <td>0.34</td>\n",
       "      <td>0.68</td>\n",
       "      <td>0.61</td>\n",
       "      <td>0.00</td>\n",
       "      <td>0.22</td>\n",
       "      <td>0.22</td>\n",
       "      <td>0.03</td>\n",
       "      <td>0.23</td>\n",
       "      <td>0.15</td>\n",
       "      <td>0.31</td>\n",
       "      <td>0.31</td>\n",
       "      <td>0.16</td>\n",
       "      <td>0.39</td>\n",
       "      <td>0.39</td>\n",
       "      <td>1.00</td>\n",
       "      <td>0.06</td>\n",
       "      <td>0.43</td>\n",
       "    </tr>\n",
       "    <tr>\n",
       "      <th>target</th>\n",
       "      <td>0.25</td>\n",
       "      <td>0.30</td>\n",
       "      <td>0.45</td>\n",
       "      <td>0.36</td>\n",
       "      <td>0.28</td>\n",
       "      <td>0.00</td>\n",
       "      <td>0.23</td>\n",
       "      <td>0.23</td>\n",
       "      <td>0.25</td>\n",
       "      <td>0.20</td>\n",
       "      <td>0.26</td>\n",
       "      <td>0.13</td>\n",
       "      <td>0.10</td>\n",
       "      <td>0.25</td>\n",
       "      <td>0.10</td>\n",
       "      <td>0.09</td>\n",
       "      <td>0.06</td>\n",
       "      <td>1.00</td>\n",
       "      <td>0.47</td>\n",
       "    </tr>\n",
       "    <tr>\n",
       "      <th>DaysOfUsage</th>\n",
       "      <td>0.66</td>\n",
       "      <td>0.00</td>\n",
       "      <td>0.38</td>\n",
       "      <td>0.41</td>\n",
       "      <td>0.84</td>\n",
       "      <td>0.00</td>\n",
       "      <td>0.03</td>\n",
       "      <td>0.49</td>\n",
       "      <td>0.21</td>\n",
       "      <td>0.02</td>\n",
       "      <td>0.42</td>\n",
       "      <td>0.47</td>\n",
       "      <td>0.47</td>\n",
       "      <td>0.42</td>\n",
       "      <td>0.36</td>\n",
       "      <td>0.37</td>\n",
       "      <td>0.43</td>\n",
       "      <td>0.47</td>\n",
       "      <td>1.00</td>\n",
       "    </tr>\n",
       "  </tbody>\n",
       "</table>\n",
       "</div>"
      ],
      "text/plain": [
       "                  Type  PaperlessBilling  PaymentMethod  MonthlyCharges  \\\n",
       "Type              1.00              0.11           0.28            0.39   \n",
       "PaperlessBilling  0.11              1.00           0.37            0.47   \n",
       "PaymentMethod     0.28              0.37           1.00            0.40   \n",
       "MonthlyCharges    0.39              0.47           0.40            1.00   \n",
       "TotalCharges      0.51              0.21           0.35            0.76   \n",
       "Gender            0.00              0.00           0.00            0.01   \n",
       "SeniorCitizen     0.09              0.24           0.29            0.30   \n",
       "Partner           0.18              0.01           0.24            0.20   \n",
       "Dependents        0.15              0.17           0.22            0.18   \n",
       "InternetService   0.51              0.23           0.32            0.92   \n",
       "OnlineSecurity    0.15              0.00           0.26            0.55   \n",
       "OnlineBackup      0.10              0.20           0.28            0.63   \n",
       "DeviceProtection  0.14              0.16           0.31            0.67   \n",
       "TechSupport       0.18              0.06           0.27            0.58   \n",
       "StreamingTV       0.07              0.34           0.38            0.84   \n",
       "StreamingMovies   0.07              0.33           0.38            0.83   \n",
       "MultipleLines     0.07              0.25           0.34            0.68   \n",
       "target            0.25              0.30           0.45            0.36   \n",
       "DaysOfUsage       0.66              0.00           0.38            0.41   \n",
       "\n",
       "                  TotalCharges  Gender  SeniorCitizen  Partner  Dependents  \\\n",
       "Type                      0.51    0.00           0.09     0.18        0.15   \n",
       "PaperlessBilling          0.21    0.00           0.24     0.01        0.17   \n",
       "PaymentMethod             0.35    0.00           0.29     0.24        0.22   \n",
       "MonthlyCharges            0.76    0.01           0.30     0.20        0.18   \n",
       "TotalCharges              1.00    0.00           0.15     0.42        0.12   \n",
       "Gender                    0.00    1.00           0.00     0.00        0.00   \n",
       "SeniorCitizen             0.15    0.00           1.00     0.02        0.32   \n",
       "Partner                   0.42    0.00           0.02     1.00        0.65   \n",
       "Dependents                0.12    0.00           0.32     0.65        1.00   \n",
       "InternetService           0.51    0.00           0.16     0.00        0.11   \n",
       "OnlineSecurity            0.55    0.02           0.06     0.22        0.12   \n",
       "OnlineBackup              0.65    0.01           0.10     0.22        0.03   \n",
       "DeviceProtection          0.67    0.00           0.09     0.24        0.01   \n",
       "TechSupport               0.57    0.00           0.09     0.19        0.10   \n",
       "StreamingTV               0.66    0.00           0.16     0.19        0.02   \n",
       "StreamingMovies           0.67    0.00           0.19     0.18        0.06   \n",
       "MultipleLines             0.61    0.00           0.22     0.22        0.03   \n",
       "target                    0.28    0.00           0.23     0.23        0.25   \n",
       "DaysOfUsage               0.84    0.00           0.03     0.49        0.21   \n",
       "\n",
       "                  InternetService  OnlineSecurity  OnlineBackup  \\\n",
       "Type                         0.51            0.15          0.10   \n",
       "PaperlessBilling             0.23            0.00          0.20   \n",
       "PaymentMethod                0.32            0.26          0.28   \n",
       "MonthlyCharges               0.92            0.55          0.63   \n",
       "TotalCharges                 0.51            0.55          0.65   \n",
       "Gender                       0.00            0.02          0.01   \n",
       "SeniorCitizen                0.16            0.06          0.10   \n",
       "Partner                      0.00            0.22          0.22   \n",
       "Dependents                   0.11            0.12          0.03   \n",
       "InternetService              1.00            0.24          0.23   \n",
       "OnlineSecurity               0.24            1.00          0.43   \n",
       "OnlineBackup                 0.23            0.43          1.00   \n",
       "DeviceProtection             0.23            0.42          0.46   \n",
       "TechSupport                  0.24            0.53          0.45   \n",
       "StreamingTV                  0.27            0.27          0.43   \n",
       "StreamingMovies              0.27            0.29          0.42   \n",
       "MultipleLines                0.23            0.15          0.31   \n",
       "target                       0.20            0.26          0.13   \n",
       "DaysOfUsage                  0.02            0.42          0.47   \n",
       "\n",
       "                  DeviceProtection  TechSupport  StreamingTV  StreamingMovies  \\\n",
       "Type                          0.14         0.18         0.07             0.07   \n",
       "PaperlessBilling              0.16         0.06         0.34             0.33   \n",
       "PaymentMethod                 0.31         0.27         0.38             0.38   \n",
       "MonthlyCharges                0.67         0.58         0.84             0.83   \n",
       "TotalCharges                  0.67         0.57         0.66             0.67   \n",
       "Gender                        0.00         0.00         0.00             0.00   \n",
       "SeniorCitizen                 0.09         0.09         0.16             0.19   \n",
       "Partner                       0.24         0.19         0.19             0.18   \n",
       "Dependents                    0.01         0.10         0.02             0.06   \n",
       "InternetService               0.23         0.24         0.27             0.27   \n",
       "OnlineSecurity                0.42         0.53         0.27             0.29   \n",
       "OnlineBackup                  0.46         0.45         0.43             0.42   \n",
       "DeviceProtection              1.00         0.50         0.58             0.59   \n",
       "TechSupport                   0.50         1.00         0.42             0.42   \n",
       "StreamingTV                   0.58         0.42         1.00             0.74   \n",
       "StreamingMovies               0.59         0.42         0.74             1.00   \n",
       "MultipleLines                 0.31         0.16         0.39             0.39   \n",
       "target                        0.10         0.25         0.10             0.09   \n",
       "DaysOfUsage                   0.47         0.42         0.36             0.37   \n",
       "\n",
       "                  MultipleLines  target  DaysOfUsage  \n",
       "Type                       0.07    0.25         0.66  \n",
       "PaperlessBilling           0.25    0.30         0.00  \n",
       "PaymentMethod              0.34    0.45         0.38  \n",
       "MonthlyCharges             0.68    0.36         0.41  \n",
       "TotalCharges               0.61    0.28         0.84  \n",
       "Gender                     0.00    0.00         0.00  \n",
       "SeniorCitizen              0.22    0.23         0.03  \n",
       "Partner                    0.22    0.23         0.49  \n",
       "Dependents                 0.03    0.25         0.21  \n",
       "InternetService            0.23    0.20         0.02  \n",
       "OnlineSecurity             0.15    0.26         0.42  \n",
       "OnlineBackup               0.31    0.13         0.47  \n",
       "DeviceProtection           0.31    0.10         0.47  \n",
       "TechSupport                0.16    0.25         0.42  \n",
       "StreamingTV                0.39    0.10         0.36  \n",
       "StreamingMovies            0.39    0.09         0.37  \n",
       "MultipleLines              1.00    0.06         0.43  \n",
       "target                     0.06    1.00         0.47  \n",
       "DaysOfUsage                0.43    0.47         1.00  "
      ]
     },
     "execution_count": 40,
     "metadata": {},
     "output_type": "execute_result"
    }
   ],
   "source": [
    "phik_overview = df.phik_matrix()\n",
    "phik_overview.round(2)"
   ]
  },
  {
   "cell_type": "code",
   "execution_count": 41,
   "id": "5cde8d0f",
   "metadata": {
    "ExecuteTime": {
     "end_time": "2023-01-05T18:20:51.165442Z",
     "start_time": "2023-01-05T18:20:49.209731Z"
    }
   },
   "outputs": [
    {
     "data": {
      "image/png": "[encoded data removed]",
      "text/plain": [
       "<Figure size 1296x576 with 2 Axes>"
      ]
     },
     "metadata": {
      "needs_background": "light"
     },
     "output_type": "display_data"
    }
   ],
   "source": [
    "plot_correlation_matrix(phik_overview.values,\n",
    "                        x_labels=phik_overview.columns,\n",
    "                        y_labels=phik_overview.index,\n",
    "                        vmin=0,\n",
    "                        vmax=1,\n",
    "                        color_map=\"Greens\",\n",
    "                        title=r\"correlation $\\phi_K$\",\n",
    "                        fontsize_factor=1.5,\n",
    "                        figsize=(18, 8))\n",
    "plt.tight_layout()"
   ]
  },
  {
   "cell_type": "markdown",
   "id": "9cc6bed2",
   "metadata": {},
   "source": [
    "Согласно таблицы мультиколлениарности есть между признаками:  \n",
    "TotalCharges и DaysOfUsage (0.84),  \n",
    "а также TotalCharges и  MonthlyCharges (0.76).   \n",
    "В итоге - мы удаляем признак TotalCharges из данных."
   ]
  },
  {
   "cell_type": "markdown",
   "id": "97d63607",
   "metadata": {},
   "source": [
    "расчет VIF (variance_inflation_factor)"
   ]
  },
  {
   "cell_type": "code",
   "execution_count": 42,
   "id": "14c37493",
   "metadata": {
    "ExecuteTime": {
     "end_time": "2023-01-05T18:21:03.249267Z",
     "start_time": "2023-01-05T18:21:03.225701Z"
    }
   },
   "outputs": [
    {
     "name": "stdout",
     "output_type": "stream",
     "text": [
      "<class 'pandas.core.frame.DataFrame'>\n",
      "Index: 7043 entries, 7590-VHVEG to 3186-AJIEK\n",
      "Data columns (total 19 columns):\n",
      " #   Column            Non-Null Count  Dtype  \n",
      "---  ------            --------------  -----  \n",
      " 0   Type              7043 non-null   object \n",
      " 1   PaperlessBilling  7043 non-null   int64  \n",
      " 2   PaymentMethod     7043 non-null   object \n",
      " 3   MonthlyCharges    7043 non-null   float64\n",
      " 4   TotalCharges      7043 non-null   float64\n",
      " 5   Gender            7043 non-null   int64  \n",
      " 6   SeniorCitizen     7043 non-null   int64  \n",
      " 7   Partner           7043 non-null   int64  \n",
      " 8   Dependents        7043 non-null   int64  \n",
      " 9   InternetService   7043 non-null   object \n",
      " 10  OnlineSecurity    7043 non-null   int64  \n",
      " 11  OnlineBackup      7043 non-null   int64  \n",
      " 12  DeviceProtection  7043 non-null   int64  \n",
      " 13  TechSupport       7043 non-null   int64  \n",
      " 14  StreamingTV       7043 non-null   int64  \n",
      " 15  StreamingMovies   7043 non-null   int64  \n",
      " 16  MultipleLines     7043 non-null   int64  \n",
      " 17  target            7043 non-null   int64  \n",
      " 18  DaysOfUsage       7043 non-null   int64  \n",
      "dtypes: float64(2), int64(14), object(3)\n",
      "memory usage: 1.3+ MB\n"
     ]
    }
   ],
   "source": [
    "# сделаем расчет VIF для оценки значимости признаков:\n",
    "df.info()"
   ]
  },
  {
   "cell_type": "code",
   "execution_count": 50,
   "id": "6110ec09",
   "metadata": {
    "ExecuteTime": {
     "end_time": "2023-01-05T18:35:05.242731Z",
     "start_time": "2023-01-05T18:35:05.035958Z"
    }
   },
   "outputs": [
    {
     "name": "stdout",
     "output_type": "stream",
     "text": [
      "MonthlyCharges      12.947824\n",
      "TotalCharges        12.768229\n",
      "Gender               1.897767\n",
      "SeniorCitizen        1.357584\n",
      "Partner              2.815806\n",
      "Dependents           1.915219\n",
      "OnlineSecurity       1.862791\n",
      "OnlineBackup         2.182225\n",
      "DeviceProtection     2.291049\n",
      "TechSupport          1.932339\n",
      "StreamingTV          2.903204\n",
      "StreamingMovies      2.930394\n",
      "MultipleLines        2.582410\n",
      "target               1.835925\n",
      "DaysOfUsage          8.771388\n",
      "dtype: float64\n"
     ]
    }
   ],
   "source": [
    "df_numeric = df._get_numeric_data()\n",
    "df_numeric\n",
    "vif = pd.Series([\n",
    "    variance_inflation_factor(df_numeric.values, i)\n",
    "    for i in range(1, df_numeric.shape[1])\n",
    "],\n",
    "                index=df_numeric.columns[1:])\n",
    "print(vif)"
   ]
  },
  {
   "cell_type": "code",
   "execution_count": 51,
   "id": "68627cc5",
   "metadata": {
    "ExecuteTime": {
     "end_time": "2023-01-05T18:36:51.752653Z",
     "start_time": "2023-01-05T18:36:49.841900Z"
    }
   },
   "outputs": [
    {
     "data": {
      "image/png": "[encoded data removed]",
      "text/plain": [
       "<Figure size 1800x1800 with 18 Axes>"
      ]
     },
     "metadata": {
      "needs_background": "light"
     },
     "output_type": "display_data"
    }
   ],
   "source": [
    "# Посмотрим на распределение признаков относительно нашего целевого target:\n",
    "numeric_names = [\"TotalCharges\", \"MonthlyCharges\", \"DaysOfUsage\"]\n",
    "target_name = 'target'\n",
    "features_names = list(df.columns)\n",
    "features_names.remove(target_name)\n",
    "plt.figure(figsize=(25, 25))\n",
    "\n",
    "number_cols = 3\n",
    "n_rows = math.ceil(len(features_names) / number_cols)\n",
    "\n",
    "counter = 0\n",
    "for feature in features_names:\n",
    "    counter += 1\n",
    "    feature_values = set(df[feature])\n",
    "\n",
    "    # У числовых групп может быть вагон значений, возьмем топ-10\n",
    "    if len(feature_values) > 10:\n",
    "        feature_values = df[feature].value_counts().index[:10]\n",
    "\n",
    "    ax = plt.subplot(n_rows, number_cols, counter)\n",
    "\n",
    "    df_temp = df.groupby([feature,\n",
    "                          target_name])[target_name].count().nlargest(10)\n",
    "    df_temp = df_temp.unstack()\n",
    "\n",
    "    for column in df_temp.T.columns:\n",
    "        ax.bar(df_temp.T.index, df_temp.T[column], alpha=0.3, label=column)\n",
    "\n",
    "    plt.xlabel(target_name)\n",
    "    plt.ylabel(feature)\n",
    "    plt.legend()"
   ]
  },
  {
   "cell_type": "code",
   "execution_count": 52,
   "id": "a1b756cf",
   "metadata": {
    "ExecuteTime": {
     "end_time": "2023-01-05T18:36:56.079823Z",
     "start_time": "2023-01-05T18:36:56.067223Z"
    }
   },
   "outputs": [
    {
     "data": {
      "text/plain": [
       "target              1.000000\n",
       "DaysOfUsage         0.474001\n",
       "PaymentMethod       0.449125\n",
       "MonthlyCharges      0.360050\n",
       "PaperlessBilling    0.295754\n",
       "TotalCharges        0.278498\n",
       "OnlineSecurity      0.264580\n",
       "TechSupport         0.254615\n",
       "Dependents          0.253936\n",
       "Type                0.251639\n",
       "SeniorCitizen       0.233432\n",
       "Partner             0.232930\n",
       "InternetService     0.196202\n",
       "OnlineBackup        0.126973\n",
       "DeviceProtection    0.101516\n",
       "StreamingTV         0.096865\n",
       "StreamingMovies     0.093923\n",
       "MultipleLines       0.059581\n",
       "Gender              0.000000\n",
       "Name: target, dtype: float64"
      ]
     },
     "execution_count": 52,
     "metadata": {},
     "output_type": "execute_result"
    }
   ],
   "source": [
    "# отберем для обучения только признаки с корреляцией >0.10:\n",
    "phik_overview['target'].sort_values(ascending=False)"
   ]
  },
  {
   "cell_type": "markdown",
   "id": "6a5ff62a",
   "metadata": {},
   "source": [
    "Оставим для обучения модели только следующие признаки c кореляцией >0.1: \n",
    "    \n",
    "DaysOfUsage         0.474001  \n",
    "\n",
    "PaymentMethod       0.449125  \n",
    "\n",
    "MonthlyCharges      0.360050  \n",
    "\n",
    "PaperlessBilling    0.295754   \n",
    "\n",
    "OnlineSecurity      0.264580  \n",
    "\n",
    "TechSupport         0.254615  \n",
    "\n",
    "Dependents          0.253936  \n",
    "\n",
    "Type                0.251639  \n",
    "\n",
    "SeniorCitizen       0.233432  \n",
    "\n",
    "Partner             0.232930  \n",
    "\n",
    "InternetService     0.196202  \n",
    "\n",
    "OnlineBackup        0.126973  \n",
    "\n",
    "DeviceProtection    0.101516                              "
   ]
  },
  {
   "cell_type": "code",
   "execution_count": 53,
   "id": "5a8c1d36",
   "metadata": {
    "ExecuteTime": {
     "end_time": "2023-01-05T18:37:02.808802Z",
     "start_time": "2023-01-05T18:37:02.783988Z"
    }
   },
   "outputs": [
    {
     "name": "stdout",
     "output_type": "stream",
     "text": [
      "<class 'pandas.core.frame.DataFrame'>\n",
      "Index: 7043 entries, 7590-VHVEG to 3186-AJIEK\n",
      "Data columns (total 19 columns):\n",
      " #   Column            Non-Null Count  Dtype  \n",
      "---  ------            --------------  -----  \n",
      " 0   Type              7043 non-null   object \n",
      " 1   PaperlessBilling  7043 non-null   int64  \n",
      " 2   PaymentMethod     7043 non-null   object \n",
      " 3   MonthlyCharges    7043 non-null   float64\n",
      " 4   TotalCharges      7043 non-null   float64\n",
      " 5   Gender            7043 non-null   int64  \n",
      " 6   SeniorCitizen     7043 non-null   int64  \n",
      " 7   Partner           7043 non-null   int64  \n",
      " 8   Dependents        7043 non-null   int64  \n",
      " 9   InternetService   7043 non-null   object \n",
      " 10  OnlineSecurity    7043 non-null   int64  \n",
      " 11  OnlineBackup      7043 non-null   int64  \n",
      " 12  DeviceProtection  7043 non-null   int64  \n",
      " 13  TechSupport       7043 non-null   int64  \n",
      " 14  StreamingTV       7043 non-null   int64  \n",
      " 15  StreamingMovies   7043 non-null   int64  \n",
      " 16  MultipleLines     7043 non-null   int64  \n",
      " 17  target            7043 non-null   int64  \n",
      " 18  DaysOfUsage       7043 non-null   int64  \n",
      "dtypes: float64(2), int64(14), object(3)\n",
      "memory usage: 1.3+ MB\n"
     ]
    }
   ],
   "source": [
    "df.info()"
   ]
  },
  {
   "cell_type": "code",
   "execution_count": 54,
   "id": "d7918a12",
   "metadata": {
    "ExecuteTime": {
     "end_time": "2023-01-05T18:37:08.322826Z",
     "start_time": "2023-01-05T18:37:08.309709Z"
    }
   },
   "outputs": [],
   "source": [
    "# соберем финальный датасет для обучения модели:\n",
    "df_model = df[[\n",
    "    'Type',\n",
    "    'PaperlessBilling',\n",
    "    'PaymentMethod',\n",
    "    'MonthlyCharges',\n",
    "    'target',\n",
    "    # 'TotalCharges',\n",
    "    'SeniorCitizen',\n",
    "    'Partner',\n",
    "    'Dependents',\n",
    "    'InternetService',\n",
    "    'OnlineSecurity',\n",
    "    'OnlineBackup',\n",
    "    'DeviceProtection',\n",
    "    'TechSupport',  # 'StreamingTV', 'StreamingMovies', 'MultipleLines',\n",
    "    'DaysOfUsage'\n",
    "]]"
   ]
  },
  {
   "cell_type": "code",
   "execution_count": 55,
   "id": "5aeccb06",
   "metadata": {
    "ExecuteTime": {
     "end_time": "2023-01-05T18:37:11.653714Z",
     "start_time": "2023-01-05T18:37:11.606864Z"
    }
   },
   "outputs": [],
   "source": [
    "df_model.to_csv(\"df_model2\")"
   ]
  },
  {
   "cell_type": "code",
   "execution_count": 56,
   "id": "218dbff6",
   "metadata": {
    "ExecuteTime": {
     "end_time": "2023-01-05T18:37:12.561950Z",
     "start_time": "2023-01-05T18:37:12.536151Z"
    }
   },
   "outputs": [],
   "source": [
    "df_model = pd.read_csv(\"df_model2\")\n",
    "#df_model = pd.read_csv(\"df_model_dropna\")"
   ]
  },
  {
   "cell_type": "markdown",
   "id": "49176b12",
   "metadata": {},
   "source": [
    "### Шаг 5. Подготовка данных для обучения модели"
   ]
  },
  {
   "cell_type": "code",
   "execution_count": 57,
   "id": "e7aba630",
   "metadata": {
    "ExecuteTime": {
     "end_time": "2023-01-05T18:37:48.249364Z",
     "start_time": "2023-01-05T18:37:48.231505Z"
    }
   },
   "outputs": [],
   "source": [
    "features_names = [\n",
    "    'Type', 'PaperlessBilling', 'PaymentMethod', 'MonthlyCharges',\n",
    "    'SeniorCitizen', 'Partner', 'Dependents', 'InternetService',\n",
    "    'OnlineSecurity', 'OnlineBackup', 'DeviceProtection', 'TechSupport',\n",
    "    'DaysOfUsage'\n",
    "]\n",
    "\n",
    "# удалили 'MonthlyCharges', 'TotalCharges' - т.к. с ними хуже результат\n",
    "#numeric_names = [ 'MonthlyCharges', 'TotalCharges', 'DaysOfUsage']\n",
    "numeric_names = ['MonthlyCharges', 'DaysOfUsage']\n",
    "\n",
    "df_features = df_model[features_names]\n",
    "df_target = df_model['target']\n",
    "\n",
    "# разделим на обучающие признаки и тестовые в соотношении 25%/75% по ТЗ:\n",
    "features_train, features_test, target_train, target_test = train_test_split(\n",
    "    df_features, df_target, test_size=0.25, random_state=RANDOM_STATE)"
   ]
  },
  {
   "cell_type": "code",
   "execution_count": 58,
   "id": "2319aa5c",
   "metadata": {
    "ExecuteTime": {
     "end_time": "2023-01-05T18:37:51.394703Z",
     "start_time": "2023-01-05T18:37:51.385752Z"
    }
   },
   "outputs": [
    {
     "data": {
      "text/plain": [
       "((5282, 13), (1761, 13), (7043, 15))"
      ]
     },
     "execution_count": 58,
     "metadata": {},
     "output_type": "execute_result"
    }
   ],
   "source": [
    "features_train.shape, features_test.shape, df_model.shape"
   ]
  },
  {
   "cell_type": "markdown",
   "id": "d3c2e343",
   "metadata": {},
   "source": [
    "Сделаем OHE декодирование для категориальных признаков:"
   ]
  },
  {
   "cell_type": "code",
   "execution_count": 7,
   "id": "5606a77e",
   "metadata": {
    "ExecuteTime": {
     "end_time": "2022-09-27T08:51:24.770511Z",
     "start_time": "2022-09-27T08:51:24.733069Z"
    }
   },
   "outputs": [
    {
     "data": {
      "text/html": [
       "<div>\n",
       "<style scoped>\n",
       "    .dataframe tbody tr th:only-of-type {\n",
       "        vertical-align: middle;\n",
       "    }\n",
       "\n",
       "    .dataframe tbody tr th {\n",
       "        vertical-align: top;\n",
       "    }\n",
       "\n",
       "    .dataframe thead th {\n",
       "        text-align: right;\n",
       "    }\n",
       "</style>\n",
       "<table border=\"1\" class=\"dataframe\">\n",
       "  <thead>\n",
       "    <tr style=\"text-align: right;\">\n",
       "      <th></th>\n",
       "      <th>PaperlessBilling</th>\n",
       "      <th>MonthlyCharges</th>\n",
       "      <th>SeniorCitizen</th>\n",
       "      <th>Partner</th>\n",
       "      <th>Dependents</th>\n",
       "      <th>OnlineSecurity</th>\n",
       "      <th>OnlineBackup</th>\n",
       "      <th>DeviceProtection</th>\n",
       "      <th>TechSupport</th>\n",
       "      <th>DaysOfUsage</th>\n",
       "      <th>PaymentMethod_Bank transfer (automatic)</th>\n",
       "      <th>PaymentMethod_Credit card (automatic)</th>\n",
       "      <th>PaymentMethod_Electronic check</th>\n",
       "      <th>PaymentMethod_Mailed check</th>\n",
       "      <th>InternetService_DSL</th>\n",
       "      <th>InternetService_Fiber optic</th>\n",
       "      <th>InternetService_unknown</th>\n",
       "      <th>Type_Month-to-month</th>\n",
       "      <th>Type_One year</th>\n",
       "      <th>Type_Two year</th>\n",
       "    </tr>\n",
       "  </thead>\n",
       "  <tbody>\n",
       "    <tr>\n",
       "      <th>5755</th>\n",
       "      <td>1</td>\n",
       "      <td>96.50</td>\n",
       "      <td>1</td>\n",
       "      <td>1</td>\n",
       "      <td>0</td>\n",
       "      <td>1</td>\n",
       "      <td>0</td>\n",
       "      <td>1</td>\n",
       "      <td>0</td>\n",
       "      <td>457</td>\n",
       "      <td>0</td>\n",
       "      <td>0</td>\n",
       "      <td>1</td>\n",
       "      <td>0</td>\n",
       "      <td>0</td>\n",
       "      <td>1</td>\n",
       "      <td>0</td>\n",
       "      <td>1</td>\n",
       "      <td>0</td>\n",
       "      <td>0</td>\n",
       "    </tr>\n",
       "    <tr>\n",
       "      <th>4772</th>\n",
       "      <td>0</td>\n",
       "      <td>59.10</td>\n",
       "      <td>0</td>\n",
       "      <td>1</td>\n",
       "      <td>1</td>\n",
       "      <td>0</td>\n",
       "      <td>1</td>\n",
       "      <td>1</td>\n",
       "      <td>1</td>\n",
       "      <td>2102</td>\n",
       "      <td>1</td>\n",
       "      <td>0</td>\n",
       "      <td>0</td>\n",
       "      <td>0</td>\n",
       "      <td>1</td>\n",
       "      <td>0</td>\n",
       "      <td>0</td>\n",
       "      <td>0</td>\n",
       "      <td>1</td>\n",
       "      <td>0</td>\n",
       "    </tr>\n",
       "    <tr>\n",
       "      <th>5866</th>\n",
       "      <td>1</td>\n",
       "      <td>19.65</td>\n",
       "      <td>0</td>\n",
       "      <td>0</td>\n",
       "      <td>0</td>\n",
       "      <td>0</td>\n",
       "      <td>0</td>\n",
       "      <td>0</td>\n",
       "      <td>0</td>\n",
       "      <td>92</td>\n",
       "      <td>0</td>\n",
       "      <td>0</td>\n",
       "      <td>0</td>\n",
       "      <td>1</td>\n",
       "      <td>0</td>\n",
       "      <td>0</td>\n",
       "      <td>1</td>\n",
       "      <td>1</td>\n",
       "      <td>0</td>\n",
       "      <td>0</td>\n",
       "    </tr>\n",
       "    <tr>\n",
       "      <th>2468</th>\n",
       "      <td>1</td>\n",
       "      <td>48.55</td>\n",
       "      <td>0</td>\n",
       "      <td>1</td>\n",
       "      <td>0</td>\n",
       "      <td>0</td>\n",
       "      <td>1</td>\n",
       "      <td>0</td>\n",
       "      <td>0</td>\n",
       "      <td>122</td>\n",
       "      <td>0</td>\n",
       "      <td>0</td>\n",
       "      <td>1</td>\n",
       "      <td>0</td>\n",
       "      <td>1</td>\n",
       "      <td>0</td>\n",
       "      <td>0</td>\n",
       "      <td>1</td>\n",
       "      <td>0</td>\n",
       "      <td>0</td>\n",
       "    </tr>\n",
       "    <tr>\n",
       "      <th>2498</th>\n",
       "      <td>1</td>\n",
       "      <td>53.80</td>\n",
       "      <td>0</td>\n",
       "      <td>1</td>\n",
       "      <td>0</td>\n",
       "      <td>0</td>\n",
       "      <td>1</td>\n",
       "      <td>0</td>\n",
       "      <td>1</td>\n",
       "      <td>822</td>\n",
       "      <td>0</td>\n",
       "      <td>0</td>\n",
       "      <td>1</td>\n",
       "      <td>0</td>\n",
       "      <td>1</td>\n",
       "      <td>0</td>\n",
       "      <td>0</td>\n",
       "      <td>1</td>\n",
       "      <td>0</td>\n",
       "      <td>0</td>\n",
       "    </tr>\n",
       "    <tr>\n",
       "      <th>...</th>\n",
       "      <td>...</td>\n",
       "      <td>...</td>\n",
       "      <td>...</td>\n",
       "      <td>...</td>\n",
       "      <td>...</td>\n",
       "      <td>...</td>\n",
       "      <td>...</td>\n",
       "      <td>...</td>\n",
       "      <td>...</td>\n",
       "      <td>...</td>\n",
       "      <td>...</td>\n",
       "      <td>...</td>\n",
       "      <td>...</td>\n",
       "      <td>...</td>\n",
       "      <td>...</td>\n",
       "      <td>...</td>\n",
       "      <td>...</td>\n",
       "      <td>...</td>\n",
       "      <td>...</td>\n",
       "      <td>...</td>\n",
       "    </tr>\n",
       "    <tr>\n",
       "      <th>1937</th>\n",
       "      <td>0</td>\n",
       "      <td>19.55</td>\n",
       "      <td>0</td>\n",
       "      <td>1</td>\n",
       "      <td>1</td>\n",
       "      <td>0</td>\n",
       "      <td>0</td>\n",
       "      <td>0</td>\n",
       "      <td>0</td>\n",
       "      <td>396</td>\n",
       "      <td>0</td>\n",
       "      <td>0</td>\n",
       "      <td>0</td>\n",
       "      <td>1</td>\n",
       "      <td>0</td>\n",
       "      <td>0</td>\n",
       "      <td>1</td>\n",
       "      <td>0</td>\n",
       "      <td>0</td>\n",
       "      <td>1</td>\n",
       "    </tr>\n",
       "    <tr>\n",
       "      <th>1513</th>\n",
       "      <td>1</td>\n",
       "      <td>25.80</td>\n",
       "      <td>1</td>\n",
       "      <td>0</td>\n",
       "      <td>0</td>\n",
       "      <td>0</td>\n",
       "      <td>0</td>\n",
       "      <td>0</td>\n",
       "      <td>0</td>\n",
       "      <td>30</td>\n",
       "      <td>0</td>\n",
       "      <td>0</td>\n",
       "      <td>0</td>\n",
       "      <td>1</td>\n",
       "      <td>1</td>\n",
       "      <td>0</td>\n",
       "      <td>0</td>\n",
       "      <td>1</td>\n",
       "      <td>0</td>\n",
       "      <td>0</td>\n",
       "    </tr>\n",
       "    <tr>\n",
       "      <th>1762</th>\n",
       "      <td>1</td>\n",
       "      <td>89.65</td>\n",
       "      <td>0</td>\n",
       "      <td>1</td>\n",
       "      <td>1</td>\n",
       "      <td>0</td>\n",
       "      <td>1</td>\n",
       "      <td>0</td>\n",
       "      <td>0</td>\n",
       "      <td>1067</td>\n",
       "      <td>1</td>\n",
       "      <td>0</td>\n",
       "      <td>0</td>\n",
       "      <td>0</td>\n",
       "      <td>0</td>\n",
       "      <td>1</td>\n",
       "      <td>0</td>\n",
       "      <td>1</td>\n",
       "      <td>0</td>\n",
       "      <td>0</td>\n",
       "    </tr>\n",
       "    <tr>\n",
       "      <th>4155</th>\n",
       "      <td>1</td>\n",
       "      <td>117.35</td>\n",
       "      <td>1</td>\n",
       "      <td>0</td>\n",
       "      <td>0</td>\n",
       "      <td>1</td>\n",
       "      <td>1</td>\n",
       "      <td>1</td>\n",
       "      <td>1</td>\n",
       "      <td>2191</td>\n",
       "      <td>0</td>\n",
       "      <td>1</td>\n",
       "      <td>0</td>\n",
       "      <td>0</td>\n",
       "      <td>0</td>\n",
       "      <td>1</td>\n",
       "      <td>0</td>\n",
       "      <td>0</td>\n",
       "      <td>0</td>\n",
       "      <td>1</td>\n",
       "    </tr>\n",
       "    <tr>\n",
       "      <th>3573</th>\n",
       "      <td>1</td>\n",
       "      <td>19.55</td>\n",
       "      <td>0</td>\n",
       "      <td>1</td>\n",
       "      <td>1</td>\n",
       "      <td>0</td>\n",
       "      <td>0</td>\n",
       "      <td>0</td>\n",
       "      <td>0</td>\n",
       "      <td>853</td>\n",
       "      <td>1</td>\n",
       "      <td>0</td>\n",
       "      <td>0</td>\n",
       "      <td>0</td>\n",
       "      <td>0</td>\n",
       "      <td>0</td>\n",
       "      <td>1</td>\n",
       "      <td>1</td>\n",
       "      <td>0</td>\n",
       "      <td>0</td>\n",
       "    </tr>\n",
       "  </tbody>\n",
       "</table>\n",
       "<p>5282 rows × 20 columns</p>\n",
       "</div>"
      ],
      "text/plain": [
       "      PaperlessBilling  MonthlyCharges  SeniorCitizen  Partner  Dependents  \\\n",
       "5755                 1           96.50              1        1           0   \n",
       "4772                 0           59.10              0        1           1   \n",
       "5866                 1           19.65              0        0           0   \n",
       "2468                 1           48.55              0        1           0   \n",
       "2498                 1           53.80              0        1           0   \n",
       "...                ...             ...            ...      ...         ...   \n",
       "1937                 0           19.55              0        1           1   \n",
       "1513                 1           25.80              1        0           0   \n",
       "1762                 1           89.65              0        1           1   \n",
       "4155                 1          117.35              1        0           0   \n",
       "3573                 1           19.55              0        1           1   \n",
       "\n",
       "      OnlineSecurity  OnlineBackup  DeviceProtection  TechSupport  \\\n",
       "5755               1             0                 1            0   \n",
       "4772               0             1                 1            1   \n",
       "5866               0             0                 0            0   \n",
       "2468               0             1                 0            0   \n",
       "2498               0             1                 0            1   \n",
       "...              ...           ...               ...          ...   \n",
       "1937               0             0                 0            0   \n",
       "1513               0             0                 0            0   \n",
       "1762               0             1                 0            0   \n",
       "4155               1             1                 1            1   \n",
       "3573               0             0                 0            0   \n",
       "\n",
       "      DaysOfUsage  PaymentMethod_Bank transfer (automatic)  \\\n",
       "5755          457                                        0   \n",
       "4772         2102                                        1   \n",
       "5866           92                                        0   \n",
       "2468          122                                        0   \n",
       "2498          822                                        0   \n",
       "...           ...                                      ...   \n",
       "1937          396                                        0   \n",
       "1513           30                                        0   \n",
       "1762         1067                                        1   \n",
       "4155         2191                                        0   \n",
       "3573          853                                        1   \n",
       "\n",
       "      PaymentMethod_Credit card (automatic)  PaymentMethod_Electronic check  \\\n",
       "5755                                      0                               1   \n",
       "4772                                      0                               0   \n",
       "5866                                      0                               0   \n",
       "2468                                      0                               1   \n",
       "2498                                      0                               1   \n",
       "...                                     ...                             ...   \n",
       "1937                                      0                               0   \n",
       "1513                                      0                               0   \n",
       "1762                                      0                               0   \n",
       "4155                                      1                               0   \n",
       "3573                                      0                               0   \n",
       "\n",
       "      PaymentMethod_Mailed check  InternetService_DSL  \\\n",
       "5755                           0                    0   \n",
       "4772                           0                    1   \n",
       "5866                           1                    0   \n",
       "2468                           0                    1   \n",
       "2498                           0                    1   \n",
       "...                          ...                  ...   \n",
       "1937                           1                    0   \n",
       "1513                           1                    1   \n",
       "1762                           0                    0   \n",
       "4155                           0                    0   \n",
       "3573                           0                    0   \n",
       "\n",
       "      InternetService_Fiber optic  InternetService_unknown  \\\n",
       "5755                            1                        0   \n",
       "4772                            0                        0   \n",
       "5866                            0                        1   \n",
       "2468                            0                        0   \n",
       "2498                            0                        0   \n",
       "...                           ...                      ...   \n",
       "1937                            0                        1   \n",
       "1513                            0                        0   \n",
       "1762                            1                        0   \n",
       "4155                            1                        0   \n",
       "3573                            0                        1   \n",
       "\n",
       "      Type_Month-to-month  Type_One year  Type_Two year  \n",
       "5755                    1              0              0  \n",
       "4772                    0              1              0  \n",
       "5866                    1              0              0  \n",
       "2468                    1              0              0  \n",
       "2498                    1              0              0  \n",
       "...                   ...            ...            ...  \n",
       "1937                    0              0              1  \n",
       "1513                    1              0              0  \n",
       "1762                    1              0              0  \n",
       "4155                    0              0              1  \n",
       "3573                    1              0              0  \n",
       "\n",
       "[5282 rows x 20 columns]"
      ]
     },
     "execution_count": 7,
     "metadata": {},
     "output_type": "execute_result"
    }
   ],
   "source": [
    "features_train = pd.get_dummies(\n",
    "    features_train, columns=['PaymentMethod', 'InternetService', 'Type'])\n",
    "features_test = pd.get_dummies(\n",
    "    features_test, columns=['PaymentMethod', 'InternetService', 'Type'])\n",
    "features_train"
   ]
  },
  {
   "cell_type": "code",
   "execution_count": 8,
   "id": "6831b663",
   "metadata": {
    "ExecuteTime": {
     "end_time": "2022-09-27T08:51:25.024828Z",
     "start_time": "2022-09-27T08:51:25.018248Z"
    }
   },
   "outputs": [
    {
     "name": "stdout",
     "output_type": "stream",
     "text": [
      "Index(['PaperlessBilling', 'MonthlyCharges', 'SeniorCitizen', 'Partner',\n",
      "       'Dependents', 'OnlineSecurity', 'OnlineBackup', 'DeviceProtection',\n",
      "       'TechSupport', 'DaysOfUsage', 'PaymentMethod_Bank transfer (automatic)',\n",
      "       'PaymentMethod_Credit card (automatic)',\n",
      "       'PaymentMethod_Electronic check', 'PaymentMethod_Mailed check',\n",
      "       'InternetService_DSL', 'InternetService_Fiber optic',\n",
      "       'InternetService_unknown', 'Type_Month-to-month', 'Type_One year',\n",
      "       'Type_Two year'],\n",
      "      dtype='object')\n",
      "Index(['PaperlessBilling', 'MonthlyCharges', 'SeniorCitizen', 'Partner',\n",
      "       'Dependents', 'OnlineSecurity', 'OnlineBackup', 'DeviceProtection',\n",
      "       'TechSupport', 'DaysOfUsage', 'PaymentMethod_Bank transfer (automatic)',\n",
      "       'PaymentMethod_Credit card (automatic)',\n",
      "       'PaymentMethod_Electronic check', 'PaymentMethod_Mailed check',\n",
      "       'InternetService_DSL', 'InternetService_Fiber optic',\n",
      "       'InternetService_unknown', 'Type_Month-to-month', 'Type_One year',\n",
      "       'Type_Two year'],\n",
      "      dtype='object')\n",
      "True\n"
     ]
    }
   ],
   "source": [
    "# Проверим последовательность признаков в датасетах: в обоих совпадают.\n",
    "print(features_train.columns)\n",
    "print(features_test.columns)\n",
    "print(list(features_test.columns) == list(features_train.columns))"
   ]
  },
  {
   "cell_type": "code",
   "execution_count": 9,
   "id": "232b9f7b",
   "metadata": {
    "ExecuteTime": {
     "end_time": "2022-09-27T08:51:26.774069Z",
     "start_time": "2022-09-27T08:51:26.746243Z"
    }
   },
   "outputs": [
    {
     "data": {
      "text/html": [
       "<div>\n",
       "<style scoped>\n",
       "    .dataframe tbody tr th:only-of-type {\n",
       "        vertical-align: middle;\n",
       "    }\n",
       "\n",
       "    .dataframe tbody tr th {\n",
       "        vertical-align: top;\n",
       "    }\n",
       "\n",
       "    .dataframe thead th {\n",
       "        text-align: right;\n",
       "    }\n",
       "</style>\n",
       "<table border=\"1\" class=\"dataframe\">\n",
       "  <thead>\n",
       "    <tr style=\"text-align: right;\">\n",
       "      <th></th>\n",
       "      <th>MonthlyCharges</th>\n",
       "      <th>DaysOfUsage</th>\n",
       "    </tr>\n",
       "  </thead>\n",
       "  <tbody>\n",
       "    <tr>\n",
       "      <th>6013</th>\n",
       "      <td>1.186040</td>\n",
       "      <td>0.728904</td>\n",
       "    </tr>\n",
       "    <tr>\n",
       "      <th>1491</th>\n",
       "      <td>-1.505547</td>\n",
       "      <td>-1.266675</td>\n",
       "    </tr>\n",
       "    <tr>\n",
       "      <th>6355</th>\n",
       "      <td>1.504650</td>\n",
       "      <td>1.461865</td>\n",
       "    </tr>\n",
       "    <tr>\n",
       "      <th>600</th>\n",
       "      <td>0.319820</td>\n",
       "      <td>-0.655428</td>\n",
       "    </tr>\n",
       "    <tr>\n",
       "      <th>4001</th>\n",
       "      <td>1.488056</td>\n",
       "      <td>0.525601</td>\n",
       "    </tr>\n",
       "    <tr>\n",
       "      <th>1626</th>\n",
       "      <td>-0.189623</td>\n",
       "      <td>-0.492251</td>\n",
       "    </tr>\n",
       "    <tr>\n",
       "      <th>2185</th>\n",
       "      <td>-0.337312</td>\n",
       "      <td>-0.331749</td>\n",
       "    </tr>\n",
       "    <tr>\n",
       "      <th>1369</th>\n",
       "      <td>-0.133203</td>\n",
       "      <td>0.037407</td>\n",
       "    </tr>\n",
       "    <tr>\n",
       "      <th>2812</th>\n",
       "      <td>1.298881</td>\n",
       "      <td>1.380276</td>\n",
       "    </tr>\n",
       "    <tr>\n",
       "      <th>6847</th>\n",
       "      <td>-0.297486</td>\n",
       "      <td>-0.573840</td>\n",
       "    </tr>\n",
       "  </tbody>\n",
       "</table>\n",
       "</div>"
      ],
      "text/plain": [
       "      MonthlyCharges  DaysOfUsage\n",
       "6013        1.186040     0.728904\n",
       "1491       -1.505547    -1.266675\n",
       "6355        1.504650     1.461865\n",
       "600         0.319820    -0.655428\n",
       "4001        1.488056     0.525601\n",
       "1626       -0.189623    -0.492251\n",
       "2185       -0.337312    -0.331749\n",
       "1369       -0.133203     0.037407\n",
       "2812        1.298881     1.380276\n",
       "6847       -0.297486    -0.573840"
      ]
     },
     "execution_count": 9,
     "metadata": {},
     "output_type": "execute_result"
    }
   ],
   "source": [
    "# скалируем числовые признаки:\n",
    "scaler = StandardScaler()\n",
    "#scaler = Normalizer()\n",
    "scaler.fit(features_train[numeric_names])\n",
    "features_train[numeric_names] = scaler.transform(features_train[numeric_names])\n",
    "features_test[numeric_names] = scaler.transform(features_test[numeric_names])\n",
    "features_train[numeric_names].sample(10, random_state=RANDOM_STATE)"
   ]
  },
  {
   "cell_type": "code",
   "execution_count": 10,
   "id": "0bbd5b5d",
   "metadata": {
    "ExecuteTime": {
     "end_time": "2022-09-27T08:51:27.826026Z",
     "start_time": "2022-09-27T08:51:27.673266Z"
    }
   },
   "outputs": [
    {
     "name": "stderr",
     "output_type": "stream",
     "text": [
      "/Users/paulmatus/opt/anaconda3/lib/python3.8/site-packages/seaborn/_decorators.py:36: FutureWarning: Pass the following variable as a keyword arg: x. From version 0.12, the only valid positional argument will be `data`, and passing other arguments without an explicit keyword will result in an error or misinterpretation.\n",
      "  warnings.warn(\n"
     ]
    },
    {
     "data": {
      "image/png": "[encoded data removed]",
      "text/plain": [
       "<Figure size 432x288 with 1 Axes>"
      ]
     },
     "metadata": {
      "needs_background": "light"
     },
     "output_type": "display_data"
    }
   ],
   "source": [
    "sns.countplot(target_train)\n",
    "plt.show()"
   ]
  },
  {
   "cell_type": "markdown",
   "id": "0335503f",
   "metadata": {
    "ExecuteTime": {
     "end_time": "2022-09-22T18:12:35.967329Z",
     "start_time": "2022-09-22T18:12:35.960811Z"
    }
   },
   "source": [
    "Балансировка классов через resample будет в конце (а также обучение лучшей модели на них)."
   ]
  },
  {
   "cell_type": "markdown",
   "id": "c508caf0",
   "metadata": {},
   "source": [
    "### Обучение моделей. LogisticRegression model"
   ]
  },
  {
   "cell_type": "code",
   "execution_count": 11,
   "id": "11ba23d0",
   "metadata": {
    "ExecuteTime": {
     "end_time": "2022-09-27T08:51:29.918550Z",
     "start_time": "2022-09-27T08:51:29.079701Z"
    }
   },
   "outputs": [
    {
     "name": "stdout",
     "output_type": "stream",
     "text": [
      " Results from Grid Search for LogisticRegression:\n",
      "\n",
      " Лучшие параметры:\n",
      " {'C': 0.1}\n",
      "\n",
      " Лучший результат auc_roc на кросс-валидации:\n",
      " 0.8436644054331129\n"
     ]
    }
   ],
   "source": [
    "# сделаем поиск лучших параметров:\n",
    "param_grid = {'C': [0.001, 0.01, 0.1, 1, 10, 100, 1000]}\n",
    "model = LogisticRegression(solver='lbfgs', penalty='l2')\n",
    "grid = GridSearchCV(model, param_grid, cv=5, scoring='roc_auc')\n",
    "grid.fit(features_train, target_train)\n",
    "print(\" Results from Grid Search for LogisticRegression:\")\n",
    "print(\"\\n Лучшие параметры:\\n\", grid.best_params_)\n",
    "print(\"\\n Лучший результат auc_roc на кросс-валидации:\\n\", grid.best_score_)"
   ]
  },
  {
   "cell_type": "code",
   "execution_count": 12,
   "id": "8c53aad2",
   "metadata": {
    "ExecuteTime": {
     "end_time": "2022-09-27T08:51:29.923220Z",
     "start_time": "2022-09-27T08:51:29.920322Z"
    }
   },
   "outputs": [
    {
     "data": {
      "text/plain": [
       "0.843215491379934"
      ]
     },
     "execution_count": 12,
     "metadata": {},
     "output_type": "execute_result"
    }
   ],
   "source": [
    "# посчитаем средний auc_roc по результатам cross-val:\n",
    "grid.cv_results_[\"mean_test_score\"].mean()"
   ]
  },
  {
   "cell_type": "markdown",
   "id": "d4067589",
   "metadata": {},
   "source": [
    "Результат roc_auc  у LogisticRegression неплохой, но мы попробуем улучшить на других моделях."
   ]
  },
  {
   "cell_type": "markdown",
   "id": "ff7c3166",
   "metadata": {},
   "source": [
    "### Случайный лес model"
   ]
  },
  {
   "cell_type": "markdown",
   "id": "200ef093",
   "metadata": {},
   "source": [
    "Найдем поиск лучших параметров для RandomForest через GridSearchCV."
   ]
  },
  {
   "cell_type": "code",
   "execution_count": 13,
   "id": "244bf2bd",
   "metadata": {
    "ExecuteTime": {
     "end_time": "2022-09-27T08:53:24.952492Z",
     "start_time": "2022-09-27T08:53:18.033145Z"
    }
   },
   "outputs": [
    {
     "name": "stdout",
     "output_type": "stream",
     "text": [
      "CPU times: user 6.82 s, sys: 77.5 ms, total: 6.9 s\n",
      "Wall time: 6.91 s\n"
     ]
    },
    {
     "data": {
      "text/plain": [
       "{'max_depth': 7,\n",
       " 'min_samples_leaf': 2,\n",
       " 'min_samples_split': 2,\n",
       " 'n_estimators': 300}"
      ]
     },
     "execution_count": 13,
     "metadata": {},
     "output_type": "execute_result"
    }
   ],
   "source": [
    "%%time\n",
    "\n",
    "param_grid = {\n",
    "    'max_depth': range(7, 12, 2),\n",
    "    'min_samples_split': range(2, 12, 2),\n",
    "    'min_samples_leaf': range(2, 12, 2),\n",
    "    'n_estimators': range(200, 500, 100)\n",
    "}\n",
    "\n",
    "model = RandomForestClassifier(random_state=RANDOM_STATE)\n",
    "grid = GridSearchCV(model, param_grid, cv=5, scoring='roc_auc')\n",
    "grid.fit(features_train, target_train)\n",
    "grid.best_params_"
   ]
  },
  {
   "cell_type": "code",
   "execution_count": 14,
   "id": "59a8f0d5",
   "metadata": {
    "ExecuteTime": {
     "end_time": "2022-09-27T08:53:27.611788Z",
     "start_time": "2022-09-27T08:53:27.604477Z"
    }
   },
   "outputs": [
    {
     "name": "stdout",
     "output_type": "stream",
     "text": [
      " Results from Grid Search for RandomForest:\n",
      "\n",
      " Лучшие параметры:\n",
      " {'max_depth': 7, 'min_samples_leaf': 2, 'min_samples_split': 2, 'n_estimators': 300}\n",
      "\n",
      " Лучший результат auc_roc на кросс-валидации:\n",
      " 0.8595643646779184\n"
     ]
    }
   ],
   "source": [
    "print(\" Results from Grid Search for RandomForest:\")\n",
    "print(\"\\n Лучшие параметры:\\n\", grid.best_params_)\n",
    "print(\"\\n Лучший результат auc_roc на кросс-валидации:\\n\", grid.best_score_)"
   ]
  },
  {
   "cell_type": "code",
   "execution_count": 15,
   "id": "66fc45b0",
   "metadata": {
    "ExecuteTime": {
     "end_time": "2022-09-27T08:53:44.091339Z",
     "start_time": "2022-09-27T08:53:44.080723Z"
    }
   },
   "outputs": [
    {
     "data": {
      "text/plain": [
       "0.8594188181231712"
      ]
     },
     "execution_count": 15,
     "metadata": {},
     "output_type": "execute_result"
    }
   ],
   "source": [
    "# посчитаем средний auc_roc по результатам cross-val:\n",
    "grid.cv_results_[\"mean_test_score\"].mean()"
   ]
  },
  {
   "cell_type": "code",
   "execution_count": null,
   "id": "cf8eff51",
   "metadata": {},
   "outputs": [],
   "source": [
    "# Зафиксируем лучшие найденные параметры:\n",
    "# {'max_depth': 7,\n",
    "# 'min_samples_leaf': 2,\n",
    "# 'min_samples_split': 2,\n",
    "# 'n_estimators': 300}"
   ]
  },
  {
   "cell_type": "markdown",
   "id": "9b841220",
   "metadata": {
    "ExecuteTime": {
     "end_time": "2022-09-22T13:41:08.471044Z",
     "start_time": "2022-09-22T13:41:08.469375Z"
    }
   },
   "source": [
    "### CatBoost model"
   ]
  },
  {
   "cell_type": "markdown",
   "id": "24a3153f",
   "metadata": {},
   "source": [
    "Найдем поиск лучших параметров для CatBoost через GridSearchCV."
   ]
  },
  {
   "cell_type": "code",
   "execution_count": 16,
   "id": "a6305696",
   "metadata": {
    "ExecuteTime": {
     "end_time": "2022-09-27T08:55:10.554642Z",
     "start_time": "2022-09-27T08:55:10.511100Z"
    }
   },
   "outputs": [],
   "source": [
    "feature_names = list(features_train.columns)\n",
    "cat_features = list(set(feature_names) - set(numeric_names))\n",
    "\n",
    "train_pool = Pool(data=features_train,\n",
    "                  label=target_train,\n",
    "                  cat_features=cat_features,\n",
    "                  feature_names=feature_names)\n",
    "test_pool = Pool(data=features_test,\n",
    "                 label=target_test,\n",
    "                 cat_features=cat_features,\n",
    "                 feature_names=feature_names)"
   ]
  },
  {
   "cell_type": "code",
   "execution_count": 18,
   "id": "d1fcfb31",
   "metadata": {
    "ExecuteTime": {
     "end_time": "2022-09-27T08:56:03.646897Z",
     "start_time": "2022-09-27T08:55:22.680135Z"
    }
   },
   "outputs": [
    {
     "name": "stdout",
     "output_type": "stream",
     "text": [
      "CPU times: user 4.72 s, sys: 2.95 s, total: 7.67 s\n",
      "Wall time: 41 s\n"
     ]
    },
    {
     "data": {
      "text/plain": [
       "{'depth': 7}"
      ]
     },
     "execution_count": 18,
     "metadata": {},
     "output_type": "execute_result"
    }
   ],
   "source": [
    "%%time\n",
    "\n",
    "param_grids = {\n",
    "    # из параметров оставил только поиск глубины обучения,\n",
    "    #   остальные параметры модель сама хорошо подбирает:\n",
    "\n",
    "    #  'iterations': [300, 500, 1000],\n",
    "    #   'learning_rate': [0.01,0.05, 0.1],\n",
    "    'depth': range(7, 12, 2),\n",
    "    #   'l2_leaf_reg': range(2, 7, 2)\n",
    "}\n",
    "\n",
    "model = CatBoostClassifier(loss_function='Logloss',\n",
    "                           eval_metric='AUC',\n",
    "                           task_type=\"CPU\",\n",
    "                           verbose=0,\n",
    "                           random_seed=RANDOM_STATE)\n",
    "#model = CatBoostClassifier()\n",
    "gs_result = GridSearchCV(estimator=model,\n",
    "                         param_grid=param_grids,\n",
    "                         cv=5,\n",
    "                         scoring='roc_auc',\n",
    "                         n_jobs=-1)\n",
    "gs_result.fit(features_train, target_train)\n",
    "gs_result.best_params_"
   ]
  },
  {
   "cell_type": "code",
   "execution_count": 19,
   "id": "4532200b",
   "metadata": {
    "ExecuteTime": {
     "end_time": "2022-09-27T08:56:03.651959Z",
     "start_time": "2022-09-27T08:56:03.649071Z"
    }
   },
   "outputs": [
    {
     "name": "stdout",
     "output_type": "stream",
     "text": [
      " Results from Grid Search for Catboost:\n",
      "\n",
      " Лучшие параметры:\n",
      " {'depth': 7}\n",
      "\n",
      " Лучший результат auc_roc на кросс-валидации:\n",
      " 0.9028025753670921\n"
     ]
    }
   ],
   "source": [
    "print(\" Results from Grid Search for Catboost:\")\n",
    "print(\"\\n Лучшие параметры:\\n\", gs_result.best_params_)\n",
    "print(\"\\n Лучший результат auc_roc на кросс-валидации:\\n\",\n",
    "      gs_result.best_score_)"
   ]
  },
  {
   "cell_type": "code",
   "execution_count": 20,
   "id": "d0f11b57",
   "metadata": {
    "ExecuteTime": {
     "end_time": "2022-09-27T08:56:03.657079Z",
     "start_time": "2022-09-27T08:56:03.653618Z"
    }
   },
   "outputs": [
    {
     "data": {
      "text/plain": [
       "0.8917588133976725"
      ]
     },
     "execution_count": 20,
     "metadata": {},
     "output_type": "execute_result"
    }
   ],
   "source": [
    "# посчитаем средний auc_roc по результатам cross-val:\n",
    "gs_result.cv_results_[\"mean_test_score\"].mean()"
   ]
  },
  {
   "cell_type": "code",
   "execution_count": 81,
   "id": "05f96aa1",
   "metadata": {
    "ExecuteTime": {
     "end_time": "2022-09-24T16:22:44.944142Z",
     "start_time": "2022-09-24T16:22:44.932429Z"
    }
   },
   "outputs": [],
   "source": [
    "# использование баланса классов как ни странно, не дало улучшения:\n",
    "classes = np.unique(target_train)\n",
    "weights = compute_class_weight(class_weight='balanced',\n",
    "                               classes=classes,\n",
    "                               y=target_train)\n",
    "class_weights = dict(zip(classes, weights))"
   ]
  },
  {
   "cell_type": "code",
   "execution_count": 82,
   "id": "f587c05b",
   "metadata": {
    "ExecuteTime": {
     "end_time": "2022-09-24T16:24:16.327814Z",
     "start_time": "2022-09-24T16:23:38.217200Z"
    }
   },
   "outputs": [
    {
     "data": {},
     "execution_count": 82,
     "metadata": {},
     "output_type": "execute_result"
    }
   ],
   "source": [
    "model = CatBoostClassifier(\n",
    "    loss_function='Logloss',\n",
    "    eval_metric='AUC',\n",
    "    task_type=\"CPU\",\n",
    "    # class_weights=class_weights,\n",
    "    class_weights={\n",
    "        0: 1,\n",
    "        1: 1.5\n",
    "    },\n",
    "    verbose=0,\n",
    "    random_seed=RANDOM_STATE)\n",
    "\n",
    "gs_result = GridSearchCV(estimator=model,\n",
    "                         param_grid=param_grids,\n",
    "                         cv=5,\n",
    "                         scoring='roc_auc',\n",
    "                         n_jobs=-1)\n",
    "gs_result.fit(features_train, target_train)\n",
    "gs_result.best_params_"
   ]
  },
  {
   "cell_type": "code",
   "execution_count": 83,
   "id": "4d877aa6",
   "metadata": {
    "ExecuteTime": {
     "end_time": "2022-09-24T16:24:16.332439Z",
     "start_time": "2022-09-24T16:24:16.329386Z"
    }
   },
   "outputs": [],
   "source": [
    "print(\" Results from Grid Search for Catboost:\")\n",
    "print(\"\\n Лучшие параметры:\\n\", gs_result.best_params_)\n",
    "print(\"\\n Лучший результат auc_roc на кросс-валидации:\\n\",\n",
    "      gs_result.best_score_)"
   ]
  },
  {
   "cell_type": "code",
   "execution_count": 93,
   "id": "b2c20455",
   "metadata": {
    "ExecuteTime": {
     "end_time": "2022-09-24T16:30:41.746006Z",
     "start_time": "2022-09-24T16:30:36.714121Z"
    }
   },
   "outputs": [],
   "source": [
    "# best result\n",
    "# построим модель  на лучших настройках и проверим на тестовых данных:\n",
    "model = CatBoostClassifier(\n",
    "    loss_function='Logloss',\n",
    "    depth=7,\n",
    "    eval_metric='AUC',\n",
    "    iterations=1500,\n",
    "    learning_rate=0.05,\n",
    "    task_type=\"CPU\",\n",
    "    random_seed=RANDOM_STATE,  # class_weights = class_weights,\n",
    "    thread_count=-1,\n",
    "    verbose=0)\n",
    "model.fit(train_pool,\n",
    "          eval_set=[(features_test, target_test)],\n",
    "          use_best_model=True)\n",
    "predicted_test = model.predict(test_pool)\n",
    "predict_true_probalities = model.predict_proba(test_pool)[:, 1]\n",
    "print('Test roc_auc_score:',\n",
    "      roc_auc_score(target_test, predict_true_probalities))\n",
    "print('Test accuracy:', accuracy_score(target_test, predicted_test))\n",
    "print('Test f1:', f1_score(target_test, predicted_test))\n",
    "print(\"balanced accuracy:\", balanced_accuracy_score(target_test,\n",
    "                                                    predicted_test))"
   ]
  },
  {
   "cell_type": "code",
   "execution_count": 87,
   "id": "465faeb5",
   "metadata": {
    "ExecuteTime": {
     "end_time": "2022-09-24T16:27:04.814947Z",
     "start_time": "2022-09-24T16:27:03.454734Z"
    }
   },
   "outputs": [],
   "source": [
    "# построим модель с ручной балансировкой классов: class_weights ={0:1,1:1.5}\n",
    "model = CatBoostClassifier(\n",
    "    loss_function='Logloss',\n",
    "    depth=7,\n",
    "    l2_leaf_reg=3,\n",
    "    eval_metric='AUC',\n",
    "    iterations=400,\n",
    "    learning_rate=0.05,\n",
    "    task_type=\"CPU\",\n",
    "    random_seed=RANDOM_STATE,\n",
    "    thread_count=-1,\n",
    "    # class_weights=class_weights,\n",
    "    class_weights={\n",
    "        0: 1,\n",
    "        1: 1.5\n",
    "    },\n",
    "    verbose=0)\n",
    "model.fit(train_pool,\n",
    "          eval_set=[(features_test, target_test)],\n",
    "          use_best_model=True)\n",
    "predicted_test = model.predict(test_pool)\n",
    "predict_true_probalities = model.predict_proba(test_pool)[:, 1]\n",
    "print('Test roc_auc_score:',\n",
    "      roc_auc_score(target_test, predict_true_probalities))\n",
    "print('Test accuracy:', accuracy_score(target_test, predicted_test))\n",
    "print('Test f1:', f1_score(target_test, predicted_test))\n",
    "print(\"balanced accuracy:\", balanced_accuracy_score(target_test,\n",
    "                                                    predicted_test))"
   ]
  },
  {
   "cell_type": "markdown",
   "id": "781638c0",
   "metadata": {},
   "source": [
    "Странно, но балансировка классов через class_weights не дало улучшений по метрикам."
   ]
  },
  {
   "cell_type": "code",
   "execution_count": 28,
   "id": "a7c4da8d",
   "metadata": {
    "ExecuteTime": {
     "end_time": "2022-09-25T19:49:17.789850Z",
     "start_time": "2022-09-25T19:49:17.778433Z"
    }
   },
   "outputs": [],
   "source": [
    "# напишем функцию для расчета auc_roc и постройки графика:\n",
    "def plot_roc_curve(target_test, predicted_test):\n",
    "    fpr, tpr, thresholds = roc_curve(target_test, predicted_test)\n",
    "    plt.figure()\n",
    "    plt.plot(fpr, tpr)\n",
    "    plt.plot([0, 1], [0, 1], linestyle='--')\n",
    "    plt.xlim([0.0, 1.0])\n",
    "    plt.ylim([0.0, 1.0])\n",
    "    plt.xlabel('False Positive Rate')\n",
    "    plt.ylabel('True Positive Rate')\n",
    "    plt.title('ROC-кривая')\n",
    "    plt.show()"
   ]
  },
  {
   "cell_type": "code",
   "execution_count": 91,
   "id": "74692ccd",
   "metadata": {
    "ExecuteTime": {
     "end_time": "2022-09-24T16:29:25.535890Z",
     "start_time": "2022-09-24T16:29:25.438979Z"
    }
   },
   "outputs": [
    {
     "data": {
      "image/png": "[encoded data removed]"
     },
     "metadata": {
      "needs_background": "light"
     },
     "output_type": "display_data"
    }
   ],
   "source": [
    "plot_roc_curve(target_test, predict_true_probalities)"
   ]
  },
  {
   "cell_type": "code",
   "execution_count": 96,
   "id": "11b1048b",
   "metadata": {
    "ExecuteTime": {
     "end_time": "2022-09-24T16:31:16.939300Z",
     "start_time": "2022-09-24T16:31:16.862298Z"
    }
   },
   "outputs": [
    {
     "data": {
      "image/png": "[encoded data removed]"
     },
     "metadata": {
      "needs_background": "light"
     },
     "output_type": "display_data"
    }
   ],
   "source": [
    "# нарисуем матрицу правильных ответов чтобы детальней оценить предсказания модели по таргету:\n",
    "labels = [0, 1]\n",
    "plt.subplots(figsize=(6, 6))\n",
    "sns.heatmap(confusion_matrix(target_test, predicted_test),\n",
    "            xticklabels=labels,\n",
    "            yticklabels=labels,\n",
    "            annot=True,\n",
    "            fmt=\"1.0f\",\n",
    "            cbar=False,\n",
    "            annot_kws={\"size\": 20})\n",
    "plt.title(\"Confusion matrix\", fontsize=30)\n",
    "plt.xlabel(\n",
    "    f\"model Catboost аccuracy: {accuracy_score(target_test, predicted_test)}\",\n",
    "    fontsize=30)\n",
    "plt.show()"
   ]
  },
  {
   "cell_type": "markdown",
   "id": "28163c59",
   "metadata": {
    "ExecuteTime": {
     "end_time": "2022-09-22T18:20:24.076647Z",
     "start_time": "2022-09-22T18:20:24.073051Z"
    }
   },
   "source": [
    "### Балансировка классов через upsampling:"
   ]
  },
  {
   "cell_type": "code",
   "execution_count": 16,
   "id": "d1e65108",
   "metadata": {
    "ExecuteTime": {
     "end_time": "2022-09-25T19:45:02.224116Z",
     "start_time": "2022-09-25T19:45:02.211726Z"
    }
   },
   "outputs": [
    {
     "data": {},
     "execution_count": 16,
     "metadata": {},
     "output_type": "execute_result"
    }
   ],
   "source": [
    "# уточним кол-во образцов по классам:\n",
    "target_test.value_counts()"
   ]
  },
  {
   "cell_type": "code",
   "execution_count": 17,
   "id": "5a500b1f",
   "metadata": {
    "ExecuteTime": {
     "end_time": "2022-09-25T19:45:05.784761Z",
     "start_time": "2022-09-25T19:45:05.763950Z"
    }
   },
   "outputs": [
    {
     "data": {},
     "execution_count": 17,
     "metadata": {},
     "output_type": "execute_result"
    }
   ],
   "source": [
    "# сделаем upsampling через resample:\n",
    "\n",
    "# concatenate our training data back together\n",
    "data = pd.concat([features_train, target_train], axis=1)\n",
    "\n",
    "# separate minority and majority classes\n",
    "not_fraud = data[data['target'] == 0]\n",
    "fraud = data[data['target'] == 1]\n",
    "\n",
    "# upsample minority\n",
    "fraud_upsampled = resample(\n",
    "    fraud,\n",
    "    replace=True,  # sample with replacement\n",
    "    n_samples=len(not_fraud),  # match number in majority class\n",
    "    random_state=RANDOM_STATE)  # reproducible results\n",
    "\n",
    "# combine majority and upsampled minority\n",
    "upsampled = pd.concat([not_fraud, fraud_upsampled])\n",
    "\n",
    "# check new class counts\n",
    "upsampled['target'].value_counts()"
   ]
  },
  {
   "cell_type": "code",
   "execution_count": 18,
   "id": "55646f7e",
   "metadata": {
    "ExecuteTime": {
     "end_time": "2022-09-25T19:45:06.733875Z",
     "start_time": "2022-09-25T19:45:06.654282Z"
    }
   },
   "outputs": [
    {
     "data": {
      "image/png": "[encoded data removed]"
     },
     "metadata": {
      "needs_background": "light"
     },
     "output_type": "display_data"
    }
   ],
   "source": [
    "sns.countplot(upsampled['target'])\n",
    "plt.show()"
   ]
  },
  {
   "cell_type": "code",
   "execution_count": 19,
   "id": "d8d0c6ff",
   "metadata": {
    "ExecuteTime": {
     "end_time": "2022-09-25T19:45:07.428470Z",
     "start_time": "2022-09-25T19:45:07.419464Z"
    }
   },
   "outputs": [],
   "source": [
    "target_upsampled = upsampled['target']\n",
    "features_upsampled = upsampled.drop(['target'], axis=1)"
   ]
  },
  {
   "cell_type": "markdown",
   "id": "d2600719",
   "metadata": {},
   "source": [
    "Обучим лучшую модель на upsampled данных:"
   ]
  },
  {
   "cell_type": "code",
   "execution_count": 20,
   "id": "da263708",
   "metadata": {
    "ExecuteTime": {
     "end_time": "2022-09-25T19:46:10.000755Z",
     "start_time": "2022-09-25T19:45:09.221665Z"
    }
   },
   "outputs": [],
   "source": [
    "%%time\n",
    "\n",
    "param_grids = {\n",
    "    # из параметров оставил только поиск глубины обучения,\n",
    "    #   остальные параметры модель сама хорошо подбирает:\n",
    "\n",
    "    #  'iterations': [300, 500, 1000],\n",
    "    #   'learning_rate': [0.01,0.05, 0.1],\n",
    "    'depth': range(7, 12, 2),\n",
    "    #   'l2_leaf_reg': range(2, 7, 2)\n",
    "}\n",
    "\n",
    "model = CatBoostClassifier(loss_function='Logloss',\n",
    "                           eval_metric='AUC',\n",
    "                           task_type=\"CPU\",\n",
    "                           verbose=0,\n",
    "                           random_seed=RANDOM_STATE)\n",
    "#model = CatBoostClassifier()\n",
    "gs_result = GridSearchCV(estimator=model,\n",
    "                         param_grid=param_grids,\n",
    "                         cv=5,\n",
    "                         scoring='roc_auc',\n",
    "                         n_jobs=-1)\n",
    "gs_result.fit(features_upsampled, target_upsampled)\n",
    "print(\" Results from Grid Search for Catboost upsampled:\")\n",
    "print(\"\\n Лучшие параметры:\\n\", gs_result.best_params_)\n",
    "print(\"\\n Лучший результат auc_roc на кросс-валидации:\\n\",\n",
    "      gs_result.best_score_)"
   ]
  },
  {
   "cell_type": "code",
   "execution_count": 21,
   "id": "180f69c9",
   "metadata": {
    "ExecuteTime": {
     "end_time": "2022-09-25T19:46:10.007039Z",
     "start_time": "2022-09-25T19:46:10.003233Z"
    }
   },
   "outputs": [
    {
     "data": {},
     "execution_count": 21,
     "metadata": {},
     "output_type": "execute_result"
    }
   ],
   "source": [
    "# посчитаем средний auc_roc по результатам cross-val:\n",
    "gs_result.cv_results_[\"mean_test_score\"].mean()"
   ]
  },
  {
   "cell_type": "markdown",
   "id": "4800b1ab",
   "metadata": {},
   "source": [
    "Как видим, с помощью upsampling нам удалось улучшить результат Catboost модели. Поэтому в качестве финальной модели возьмем Catboost  + upsampling данные для проверки на тестовых данных."
   ]
  },
  {
   "cell_type": "markdown",
   "id": "e39281d4",
   "metadata": {},
   "source": [
    "### Проверка лучшей модели на тестовых данных"
   ]
  },
  {
   "cell_type": "code",
   "execution_count": 22,
   "id": "423e985c",
   "metadata": {
    "ExecuteTime": {
     "end_time": "2022-09-25T19:46:10.012452Z",
     "start_time": "2022-09-25T19:46:10.008659Z"
    }
   },
   "outputs": [],
   "source": [
    "target_upsampled = upsampled['target']\n",
    "features_upsampled = upsampled.drop(['target'], axis=1)"
   ]
  },
  {
   "cell_type": "code",
   "execution_count": 23,
   "id": "93200288",
   "metadata": {
    "ExecuteTime": {
     "end_time": "2022-09-25T19:46:10.045978Z",
     "start_time": "2022-09-25T19:46:10.014077Z"
    }
   },
   "outputs": [],
   "source": [
    "feature_names = list(features_upsampled.columns)\n",
    "cat_features = list(set(feature_names) - set(numeric_names))\n",
    "\n",
    "train_pool = Pool(data=features_upsampled,\n",
    "                  label=target_upsampled,\n",
    "                  cat_features=cat_features,\n",
    "                  feature_names=feature_names)\n",
    "test_pool = Pool(data=features_test,\n",
    "                 label=target_test,\n",
    "                 cat_features=cat_features,\n",
    "                 feature_names=feature_names)"
   ]
  },
  {
   "cell_type": "code",
   "execution_count": 24,
   "id": "30f24676",
   "metadata": {
    "ExecuteTime": {
     "end_time": "2022-09-25T19:47:00.440644Z",
     "start_time": "2022-09-25T19:46:54.772426Z"
    }
   },
   "outputs": [],
   "source": [
    "model = CatBoostClassifier(\n",
    "    loss_function='Logloss',\n",
    "    depth=7,\n",
    "    eval_metric='AUC',\n",
    "    iterations=1500,  # learning_rate=0.05,\n",
    "    task_type=\"CPU\",\n",
    "    random_seed=RANDOM_STATE,\n",
    "    thread_count=-1,\n",
    "    verbose=0)\n",
    "model.fit(train_pool,\n",
    "          eval_set=[(features_test, target_test)],\n",
    "          use_best_model=True)\n",
    "predicted_test = model.predict(test_pool)\n",
    "predict_true_probalities = model.predict_proba(test_pool)[:, 1]\n",
    "print('Test roc_auc_score:',\n",
    "      roc_auc_score(target_test, predict_true_probalities))\n",
    "print('Test accuracy:', accuracy_score(target_test, predicted_test))\n",
    "print('Test f1:', f1_score(target_test, predicted_test))\n",
    "print(\"balanced accuracy:\", balanced_accuracy_score(target_test,\n",
    "                                                    predicted_test))"
   ]
  },
  {
   "cell_type": "code",
   "execution_count": 25,
   "id": "eba5ac63",
   "metadata": {
    "ExecuteTime": {
     "end_time": "2022-09-25T19:47:02.209416Z",
     "start_time": "2022-09-25T19:47:02.118938Z"
    }
   },
   "outputs": [
    {
     "data": {
      "image/png": "[encoded data removed]"
     },
     "metadata": {
      "needs_background": "light"
     },
     "output_type": "display_data"
    }
   ],
   "source": [
    "labels = [0, 1]\n",
    "plt.subplots(figsize=(6, 6))\n",
    "sns.heatmap(confusion_matrix(target_test, predicted_test),\n",
    "            xticklabels=labels,\n",
    "            yticklabels=labels,\n",
    "            annot=True,\n",
    "            fmt=\"1.0f\",\n",
    "            cbar=False,\n",
    "            annot_kws={\"size\": 20})\n",
    "plt.title(\"Confusion matrix\", fontsize=30)\n",
    "plt.xlabel(f\"model аccuracy: {accuracy_score(target_test, predicted_test)}\",\n",
    "           fontsize=30)\n",
    "plt.show()"
   ]
  },
  {
   "cell_type": "code",
   "execution_count": 29,
   "id": "05dcf950",
   "metadata": {
    "ExecuteTime": {
     "end_time": "2022-09-25T19:49:25.643844Z",
     "start_time": "2022-09-25T19:49:25.546875Z"
    }
   },
   "outputs": [
    {
     "data": {
      "image/png": "[encoded data removed]"
     },
     "metadata": {
      "needs_background": "light"
     },
     "output_type": "display_data"
    }
   ],
   "source": [
    "plot_roc_curve(target_test, predict_true_probalities)"
   ]
  },
  {
   "cell_type": "markdown",
   "id": "02169f16",
   "metadata": {
    "ExecuteTime": {
     "end_time": "2022-09-24T17:13:31.770702Z",
     "start_time": "2022-09-24T17:13:31.758894Z"
    }
   },
   "source": [
    "Catboost показал лучшие результаты среди рассмотренных моделей с результатом:  \n",
    "\n",
    "    Test roc_auc_score: 0.9028616722442268  \n",
    "    Test accuracy: 0.8489494605337876  \n",
    "    Test f1: 0.721174004192872  \n",
    "    balanced accuracy: 0.8027487346510452   \n",
    "    \n",
    "Интересно, что балансировка классов по таркету не дала ожидаемого сильного улучшения метрики Auc_roc.  \n",
    "\n",
    "Таким образом мы уложились в заданное тех.заданием требование Auc_roc > 0.88"
   ]
  },
  {
   "cell_type": "code",
   "execution_count": 30,
   "id": "7f416178",
   "metadata": {
    "ExecuteTime": {
     "end_time": "2022-09-25T19:49:30.220518Z",
     "start_time": "2022-09-25T19:49:30.030333Z"
    }
   },
   "outputs": [
    {
     "data": {},
     "execution_count": 30,
     "metadata": {},
     "output_type": "execute_result"
    },
    {
     "data": {
      "image/png": "[encoded data removed]"
     },
     "metadata": {
      "needs_background": "light"
     },
     "output_type": "display_data"
    }
   ],
   "source": [
    "# добавим график значимости признаков:\n",
    "fig, ax = plt.subplots(figsize=(12, 5))\n",
    "fig.suptitle('График: важность факторов')\n",
    "sns.barplot(y=model.feature_importances_, x=features_train.columns, ax=ax)\n",
    "plt.xticks(rotation=90, horizontalalignment='right', fontweight='light')"
   ]
  },
  {
   "cell_type": "markdown",
   "id": "20a489a3",
   "metadata": {},
   "source": [
    "Из графика видим, что самыми важными оказались: время пользования в днях (DaysOfUsage) и размер месячного платежка (MonthlyCharges)."
   ]
  },
  {
   "cell_type": "markdown",
   "id": "3da452e0",
   "metadata": {
    "ExecuteTime": {
     "end_time": "2022-09-27T08:35:08.036372Z",
     "start_time": "2022-09-27T08:35:08.025438Z"
    }
   },
   "source": [
    "### Итоговый отчет:"
   ]
  },
  {
   "cell_type": "markdown",
   "id": "8412ef0d",
   "metadata": {},
   "source": [
    "Мы проделали большую аналитическую работу в целом придерживаясь начального плана работы:  \n",
    "    - провели обзор данных,  \n",
    "    - сделали объединение данных в 1 датасет,  \n",
    "    - проверили типы и содержимое данных,  \n",
    "    - выполнили предобработку данных: решили проблему пропусков и проверили выбросы и дубликаты,  \n",
    "    - изучили признаки между таргетом и собой, визуализировали,   \n",
    "    - подготовили данные для обучения модели: отобрали значимые признаки, скалировали их,   выделили таргет, разделили на трайн\\тест, обдумали проведение балансировки классов через class_weight и upsampling таркета, выполнили кодирование категориальных признаков,  \n",
    "    - обучили 3 модели: логистическую регрессию, случайный лес и катбуст,  \n",
    "    -основываясь на результатах среднего значения метрики *auc-roc* на кросс-валидации мы выбрали лучшую модель:  \n",
    "    \n",
    "        Логистическая регрессия\t84.32%\n",
    "        Случайный лес\t85.94%\n",
    "        CatBoost\t89.18%\n",
    "    \n",
    "    \n",
    "   - лучшей оказалась CatBoost, которая на тестовых данных показала следующие результаты:\n",
    "   \n",
    "    Test roc_auc_score: 0.9028616722442268  \n",
    "    Test accuracy: 0.8489494605337876  \n",
    "    Test f1: 0.721174004192872  \n",
    "    Test balanced accuracy: 0.8027487346510452 \n",
    "    \n",
    "Параметры обучения модели CatBoost:    \n",
    "       RANDOM_STATE = 190922, depth=7, iterations=1500,  learning_rate=0.05\n",
    "    \n",
    "    \n",
    "Интересно, что балансировка классов по таркету не дала ожидаемого сильного улучшения метрики Auc_roc.\n",
    "\n",
    "Из трудностей проекта хотелось бы отметить:\n",
    "-этап отбора значимых признаков для обучения модели (пришлось использовать корреляцию, а также опытным путем эксперементировать с моделями, смотря на итоговый результат,\n",
    "- также момент балансировки классов таргета - в итоге были проверены опытным путем разные варианты от class_weight (balanced, ручной подбор) до upsampling через resample.\n",
    "    \n",
    "Таким образом мы уложились в заданное тех.заданием требование Auc_roc > 0.88 и можно сказать успешно справились с задачей.\n",
    "    "
   ]
  }
 ],
 "metadata": {
  "ExecuteTimeLog": [
   {
    "duration": 80,
    "start_time": "2022-09-20T12:41:40.740Z"
   },
   {
    "duration": 159,
    "start_time": "2022-09-20T12:45:45.806Z"
   },
   {
    "duration": 88,
    "start_time": "2022-09-24T12:35:19.488Z"
   },
   {
    "duration": 93,
    "start_time": "2022-09-24T13:13:50.110Z"
   },
   {
    "duration": 57,
    "start_time": "2022-09-28T10:48:23.244Z"
   }
  ],
  "kernelspec": {
   "display_name": "Python 3 (ipykernel)",
   "language": "python",
   "name": "python3"
  },
  "language_info": {
   "codemirror_mode": {
    "name": "ipython",
    "version": 3
   },
   "file_extension": ".py",
   "mimetype": "text/x-python",
   "name": "python",
   "nbconvert_exporter": "python",
   "pygments_lexer": "ipython3",
   "version": "3.8.13"
  },
  "toc": {
   "base_numbering": 1,
   "nav_menu": {},
   "number_sections": true,
   "sideBar": true,
   "skip_h1_title": true,
   "title_cell": "Table of Contents",
   "title_sidebar": "Contents",
   "toc_cell": false,
   "toc_position": {},
   "toc_section_display": true,
   "toc_window_display": false
  }
 },
 "nbformat": 4,
 "nbformat_minor": 5
}
